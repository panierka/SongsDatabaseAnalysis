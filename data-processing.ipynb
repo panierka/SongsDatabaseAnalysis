{
 "cells": [
  {
   "cell_type": "code",
   "execution_count": 1,
   "metadata": {
    "collapsed": true,
    "pycharm": {
     "name": "#%%\n"
    }
   },
   "outputs": [],
   "source": [
    "import polars as pl"
   ]
  },
  {
   "cell_type": "markdown",
   "source": [
    "Link to dataset: [https://www.kaggle.com/datasets/undefinenull/million-song-dataset-spotify-lastfm](https://www.kaggle.com/datasets/undefinenull/million-song-dataset-spotify-lastfm)"
   ],
   "metadata": {
    "collapsed": false,
    "pycharm": {
     "name": "#%% md\n"
    }
   }
  },
  {
   "cell_type": "code",
   "execution_count": 2,
   "outputs": [],
   "source": [
    "tracks_lf = pl.scan_csv('data/Music Info.csv')"
   ],
   "metadata": {
    "collapsed": false,
    "pycharm": {
     "name": "#%%\n"
    }
   }
  },
  {
   "cell_type": "code",
   "execution_count": 3,
   "outputs": [
    {
     "data": {
      "text/plain": "shape: (5, 21)\n┌────────────┬────────────┬───────────┬────────────┬───┬──────────┬─────────┬─────────┬────────────┐\n│ track_id   ┆ name       ┆ artist    ┆ spotify_pr ┆ … ┆ liveness ┆ valence ┆ tempo   ┆ time_signa │\n│ ---        ┆ ---        ┆ ---       ┆ eview_url  ┆   ┆ ---      ┆ ---     ┆ ---     ┆ ture       │\n│ str        ┆ str        ┆ str       ┆ ---        ┆   ┆ f64      ┆ f64     ┆ f64     ┆ ---        │\n│            ┆            ┆           ┆ str        ┆   ┆          ┆         ┆         ┆ i64        │\n╞════════════╪════════════╪═══════════╪════════════╪═══╪══════════╪═════════╪═════════╪════════════╡\n│ TRIOREW128 ┆ Mr.        ┆ The       ┆ https://p. ┆ … ┆ 0.0971   ┆ 0.24    ┆ 148.114 ┆ 4          │\n│ F424EAF0   ┆ Brightside ┆ Killers   ┆ scdn.co/mp ┆   ┆          ┆         ┆         ┆            │\n│            ┆            ┆           ┆ 3-preview/ ┆   ┆          ┆         ┆         ┆            │\n│            ┆            ┆           ┆ 4d…        ┆   ┆          ┆         ┆         ┆            │\n│ TRRIVDJ128 ┆ Wonderwall ┆ Oasis     ┆ https://p. ┆ … ┆ 0.207    ┆ 0.651   ┆ 174.426 ┆ 4          │\n│ F429B0E8   ┆            ┆           ┆ scdn.co/mp ┆   ┆          ┆         ┆         ┆            │\n│            ┆            ┆           ┆ 3-preview/ ┆   ┆          ┆         ┆         ┆            │\n│            ┆            ┆           ┆ d0…        ┆   ┆          ┆         ┆         ┆            │\n│ TROUVHL128 ┆ Come as    ┆ Nirvana   ┆ https://p. ┆ … ┆ 0.0878   ┆ 0.543   ┆ 120.012 ┆ 4          │\n│ F426C441   ┆ You Are    ┆           ┆ scdn.co/mp ┆   ┆          ┆         ┆         ┆            │\n│            ┆            ┆           ┆ 3-preview/ ┆   ┆          ┆         ┆         ┆            │\n│            ┆            ┆           ┆ a1…        ┆   ┆          ┆         ┆         ┆            │\n│ TRUEIND128 ┆ Take Me    ┆ Franz     ┆ https://p. ┆ … ┆ 0.133    ┆ 0.49    ┆ 104.56  ┆ 4          │\n│ F93038C4   ┆ Out        ┆ Ferdinand ┆ scdn.co/mp ┆   ┆          ┆         ┆         ┆            │\n│            ┆            ┆           ┆ 3-preview/ ┆   ┆          ┆         ┆         ┆            │\n│            ┆            ┆           ┆ 39…        ┆   ┆          ┆         ┆         ┆            │\n│ TRLNZBD128 ┆ Creep      ┆ Radiohead ┆ https://p. ┆ … ┆ 0.129    ┆ 0.104   ┆ 91.841  ┆ 4          │\n│ F935E4D8   ┆            ┆           ┆ scdn.co/mp ┆   ┆          ┆         ┆         ┆            │\n│            ┆            ┆           ┆ 3-preview/ ┆   ┆          ┆         ┆         ┆            │\n│            ┆            ┆           ┆ e7…        ┆   ┆          ┆         ┆         ┆            │\n└────────────┴────────────┴───────────┴────────────┴───┴──────────┴─────────┴─────────┴────────────┘",
      "text/html": "<div><style>\n.dataframe > thead > tr > th,\n.dataframe > tbody > tr > td {\n  text-align: right;\n}\n</style>\n<small>shape: (5, 21)</small><table border=\"1\" class=\"dataframe\"><thead><tr><th>track_id</th><th>name</th><th>artist</th><th>spotify_preview_url</th><th>spotify_id</th><th>tags</th><th>genre</th><th>year</th><th>duration_ms</th><th>danceability</th><th>energy</th><th>key</th><th>loudness</th><th>mode</th><th>speechiness</th><th>acousticness</th><th>instrumentalness</th><th>liveness</th><th>valence</th><th>tempo</th><th>time_signature</th></tr><tr><td>str</td><td>str</td><td>str</td><td>str</td><td>str</td><td>str</td><td>str</td><td>i64</td><td>i64</td><td>f64</td><td>f64</td><td>i64</td><td>f64</td><td>i64</td><td>f64</td><td>f64</td><td>f64</td><td>f64</td><td>f64</td><td>f64</td><td>i64</td></tr></thead><tbody><tr><td>&quot;TRIOREW128F424…</td><td>&quot;Mr. Brightside…</td><td>&quot;The Killers&quot;</td><td>&quot;https://p.scdn…</td><td>&quot;09ZQ5TmUG8TSL5…</td><td>&quot;rock, alternat…</td><td>null</td><td>2004</td><td>222200</td><td>0.355</td><td>0.918</td><td>1</td><td>-4.36</td><td>1</td><td>0.0746</td><td>0.00119</td><td>0.0</td><td>0.0971</td><td>0.24</td><td>148.114</td><td>4</td></tr><tr><td>&quot;TRRIVDJ128F429…</td><td>&quot;Wonderwall&quot;</td><td>&quot;Oasis&quot;</td><td>&quot;https://p.scdn…</td><td>&quot;06UfBBDISthj1Z…</td><td>&quot;rock, alternat…</td><td>null</td><td>2006</td><td>258613</td><td>0.409</td><td>0.892</td><td>2</td><td>-4.373</td><td>1</td><td>0.0336</td><td>0.000807</td><td>0.0</td><td>0.207</td><td>0.651</td><td>174.426</td><td>4</td></tr><tr><td>&quot;TROUVHL128F426…</td><td>&quot;Come as You Ar…</td><td>&quot;Nirvana&quot;</td><td>&quot;https://p.scdn…</td><td>&quot;0keNu0t0tqsWtE…</td><td>&quot;rock, alternat…</td><td>&quot;RnB&quot;</td><td>1991</td><td>218920</td><td>0.508</td><td>0.826</td><td>4</td><td>-5.783</td><td>0</td><td>0.04</td><td>0.000175</td><td>0.000459</td><td>0.0878</td><td>0.543</td><td>120.012</td><td>4</td></tr><tr><td>&quot;TRUEIND128F930…</td><td>&quot;Take Me Out&quot;</td><td>&quot;Franz Ferdinan…</td><td>&quot;https://p.scdn…</td><td>&quot;0ancVQ9wEcHVd0…</td><td>&quot;rock, alternat…</td><td>null</td><td>2004</td><td>237026</td><td>0.279</td><td>0.664</td><td>9</td><td>-8.851</td><td>1</td><td>0.0371</td><td>0.000389</td><td>0.000655</td><td>0.133</td><td>0.49</td><td>104.56</td><td>4</td></tr><tr><td>&quot;TRLNZBD128F935…</td><td>&quot;Creep&quot;</td><td>&quot;Radiohead&quot;</td><td>&quot;https://p.scdn…</td><td>&quot;01QoK9DA7VTeTS…</td><td>&quot;rock, alternat…</td><td>&quot;RnB&quot;</td><td>2008</td><td>238640</td><td>0.515</td><td>0.43</td><td>7</td><td>-9.935</td><td>1</td><td>0.0369</td><td>0.0102</td><td>0.000141</td><td>0.129</td><td>0.104</td><td>91.841</td><td>4</td></tr></tbody></table></div>"
     },
     "execution_count": 3,
     "metadata": {},
     "output_type": "execute_result"
    }
   ],
   "source": [
    "tracks_lf.fetch(5)"
   ],
   "metadata": {
    "collapsed": false,
    "pycharm": {
     "name": "#%%\n"
    }
   }
  },
  {
   "cell_type": "code",
   "execution_count": 4,
   "outputs": [
    {
     "data": {
      "text/plain": "shape: (21, 2)\n┌────────────────────────────┬────────┐\n│ column                     ┆ full % │\n│ ---                        ┆ ---    │\n│ str                        ┆ f64    │\n╞════════════════════════════╪════════╡\n│ track_id_full %            ┆ 100.0  │\n│ name_full %                ┆ 100.0  │\n│ artist_full %              ┆ 100.0  │\n│ spotify_preview_url_full % ┆ 100.0  │\n│ …                          ┆ …      │\n│ liveness_full %            ┆ 100.0  │\n│ valence_full %             ┆ 100.0  │\n│ tempo_full %               ┆ 100.0  │\n│ time_signature_full %      ┆ 100.0  │\n└────────────────────────────┴────────┘",
      "text/html": "<div><style>\n.dataframe > thead > tr > th,\n.dataframe > tbody > tr > td {\n  text-align: right;\n}\n</style>\n<small>shape: (21, 2)</small><table border=\"1\" class=\"dataframe\"><thead><tr><th>column</th><th>full %</th></tr><tr><td>str</td><td>f64</td></tr></thead><tbody><tr><td>&quot;track_id_full …</td><td>100.0</td></tr><tr><td>&quot;name_full %&quot;</td><td>100.0</td></tr><tr><td>&quot;artist_full %&quot;</td><td>100.0</td></tr><tr><td>&quot;spotify_previe…</td><td>100.0</td></tr><tr><td>&quot;spotify_id_ful…</td><td>100.0</td></tr><tr><td>&quot;tags_full %&quot;</td><td>97.78</td></tr><tr><td>&quot;genre_full %&quot;</td><td>44.09</td></tr><tr><td>&quot;year_full %&quot;</td><td>100.0</td></tr><tr><td>&quot;duration_ms_fu…</td><td>100.0</td></tr><tr><td>&quot;danceability_f…</td><td>100.0</td></tr><tr><td>&quot;energy_full %&quot;</td><td>100.0</td></tr><tr><td>&quot;key_full %&quot;</td><td>100.0</td></tr><tr><td>&quot;loudness_full …</td><td>100.0</td></tr><tr><td>&quot;mode_full %&quot;</td><td>100.0</td></tr><tr><td>&quot;speechiness_fu…</td><td>100.0</td></tr><tr><td>&quot;acousticness_f…</td><td>100.0</td></tr><tr><td>&quot;instrumentalne…</td><td>100.0</td></tr><tr><td>&quot;liveness_full …</td><td>100.0</td></tr><tr><td>&quot;valence_full %…</td><td>100.0</td></tr><tr><td>&quot;tempo_full %&quot;</td><td>100.0</td></tr><tr><td>&quot;time_signature…</td><td>100.0</td></tr></tbody></table></div>"
     },
     "execution_count": 4,
     "metadata": {},
     "output_type": "execute_result"
    }
   ],
   "source": [
    "cols = [\n",
    "    (100 - pl.col(col).is_null().sum() * 100 / pl.col(col).count())\n",
    "        .round(2)\n",
    "        .alias('{}_full %'.format(col))\n",
    "    for col in tracks_lf.columns\n",
    "]\n",
    "\n",
    "tracks_lf.select(cols).collect().transpose(include_header=True, column_names=['full %'])"
   ],
   "metadata": {
    "collapsed": false,
    "pycharm": {
     "name": "#%%\n"
    }
   }
  },
  {
   "cell_type": "code",
   "execution_count": 5,
   "outputs": [
    {
     "data": {
      "text/plain": "shape: (7, 21)\n┌────────────┬────────────┬───────────┬────────────┬───┬──────────┬─────────┬─────────┬────────────┐\n│ track_id   ┆ name       ┆ artist    ┆ spotify_pr ┆ … ┆ liveness ┆ valence ┆ tempo   ┆ time_signa │\n│ ---        ┆ ---        ┆ ---       ┆ eview_url  ┆   ┆ ---      ┆ ---     ┆ ---     ┆ ture       │\n│ str        ┆ str        ┆ str       ┆ ---        ┆   ┆ f64      ┆ f64     ┆ f64     ┆ ---        │\n│            ┆            ┆           ┆ str        ┆   ┆          ┆         ┆         ┆ i64        │\n╞════════════╪════════════╪═══════════╪════════════╪═══╪══════════╪═════════╪═════════╪════════════╡\n│ TRIOREW128 ┆ Mr.        ┆ The       ┆ https://p. ┆ … ┆ 0.0971   ┆ 0.24    ┆ 148.114 ┆ 4          │\n│ F424EAF0   ┆ Brightside ┆ Killers   ┆ scdn.co/mp ┆   ┆          ┆         ┆         ┆            │\n│            ┆            ┆           ┆ 3-preview/ ┆   ┆          ┆         ┆         ┆            │\n│            ┆            ┆           ┆ 4d…        ┆   ┆          ┆         ┆         ┆            │\n│ TRRIVDJ128 ┆ Wonderwall ┆ Oasis     ┆ https://p. ┆ … ┆ 0.207    ┆ 0.651   ┆ 174.426 ┆ 4          │\n│ F429B0E8   ┆            ┆           ┆ scdn.co/mp ┆   ┆          ┆         ┆         ┆            │\n│            ┆            ┆           ┆ 3-preview/ ┆   ┆          ┆         ┆         ┆            │\n│            ┆            ┆           ┆ d0…        ┆   ┆          ┆         ┆         ┆            │\n│ TRUEIND128 ┆ Take Me    ┆ Franz     ┆ https://p. ┆ … ┆ 0.133    ┆ 0.49    ┆ 104.56  ┆ 4          │\n│ F93038C4   ┆ Out        ┆ Ferdinand ┆ scdn.co/mp ┆   ┆          ┆         ┆         ┆            │\n│            ┆            ┆           ┆ 3-preview/ ┆   ┆          ┆         ┆         ┆            │\n│            ┆            ┆           ┆ 39…        ┆   ┆          ┆         ┆         ┆            │\n│ TRUMISQ128 ┆ Somebody   ┆ The       ┆ https://p. ┆ … ┆ 0.0641   ┆ 0.704   ┆ 138.03  ┆ 4          │\n│ F9340BEE   ┆ Told Me    ┆ Killers   ┆ scdn.co/mp ┆   ┆          ┆         ┆         ┆            │\n│            ┆            ┆           ┆ 3-preview/ ┆   ┆          ┆         ┆         ┆            │\n│            ┆            ┆           ┆ 0d…        ┆   ┆          ┆         ┆         ┆            │\n│ TRVCCWR128 ┆ Viva la    ┆ Coldplay  ┆ https://p. ┆ … ┆ 0.0634   ┆ 0.52    ┆ 137.973 ┆ 4          │\n│ F9304A30   ┆ Vida       ┆           ┆ scdn.co/mp ┆   ┆          ┆         ┆         ┆            │\n│            ┆            ┆           ┆ 3-preview/ ┆   ┆          ┆         ┆         ┆            │\n│            ┆            ┆           ┆ ab…        ┆   ┆          ┆         ┆         ┆            │\n│ TRXOGZT128 ┆ Karma      ┆ Radiohead ┆ https://p. ┆ … ┆ 0.172    ┆ 0.317   ┆ 74.807  ┆ 4          │\n│ F424AD74   ┆ Police     ┆           ┆ scdn.co/mp ┆   ┆          ┆         ┆         ┆            │\n│            ┆            ┆           ┆ 3-preview/ ┆   ┆          ┆         ┆         ┆            │\n│            ┆            ┆           ┆ 5a…        ┆   ┆          ┆         ┆         ┆            │\n│ TRUJIIV129 ┆ Clocks     ┆ Coldplay  ┆ https://p. ┆ … ┆ 0.183    ┆ 0.255   ┆ 130.97  ┆ 4          │\n│ 03CA8848   ┆            ┆           ┆ scdn.co/mp ┆   ┆          ┆         ┆         ┆            │\n│            ┆            ┆           ┆ 3-preview/ ┆   ┆          ┆         ┆         ┆            │\n│            ┆            ┆           ┆ 24…        ┆   ┆          ┆         ┆         ┆            │\n└────────────┴────────────┴───────────┴────────────┴───┴──────────┴─────────┴─────────┴────────────┘",
      "text/html": "<div><style>\n.dataframe > thead > tr > th,\n.dataframe > tbody > tr > td {\n  text-align: right;\n}\n</style>\n<small>shape: (7, 21)</small><table border=\"1\" class=\"dataframe\"><thead><tr><th>track_id</th><th>name</th><th>artist</th><th>spotify_preview_url</th><th>spotify_id</th><th>tags</th><th>genre</th><th>year</th><th>duration_ms</th><th>danceability</th><th>energy</th><th>key</th><th>loudness</th><th>mode</th><th>speechiness</th><th>acousticness</th><th>instrumentalness</th><th>liveness</th><th>valence</th><th>tempo</th><th>time_signature</th></tr><tr><td>str</td><td>str</td><td>str</td><td>str</td><td>str</td><td>str</td><td>str</td><td>i64</td><td>i64</td><td>f64</td><td>f64</td><td>i64</td><td>f64</td><td>i64</td><td>f64</td><td>f64</td><td>f64</td><td>f64</td><td>f64</td><td>f64</td><td>i64</td></tr></thead><tbody><tr><td>&quot;TRIOREW128F424…</td><td>&quot;Mr. Brightside…</td><td>&quot;The Killers&quot;</td><td>&quot;https://p.scdn…</td><td>&quot;09ZQ5TmUG8TSL5…</td><td>&quot;rock, alternat…</td><td>null</td><td>2004</td><td>222200</td><td>0.355</td><td>0.918</td><td>1</td><td>-4.36</td><td>1</td><td>0.0746</td><td>0.00119</td><td>0.0</td><td>0.0971</td><td>0.24</td><td>148.114</td><td>4</td></tr><tr><td>&quot;TRRIVDJ128F429…</td><td>&quot;Wonderwall&quot;</td><td>&quot;Oasis&quot;</td><td>&quot;https://p.scdn…</td><td>&quot;06UfBBDISthj1Z…</td><td>&quot;rock, alternat…</td><td>null</td><td>2006</td><td>258613</td><td>0.409</td><td>0.892</td><td>2</td><td>-4.373</td><td>1</td><td>0.0336</td><td>0.000807</td><td>0.0</td><td>0.207</td><td>0.651</td><td>174.426</td><td>4</td></tr><tr><td>&quot;TRUEIND128F930…</td><td>&quot;Take Me Out&quot;</td><td>&quot;Franz Ferdinan…</td><td>&quot;https://p.scdn…</td><td>&quot;0ancVQ9wEcHVd0…</td><td>&quot;rock, alternat…</td><td>null</td><td>2004</td><td>237026</td><td>0.279</td><td>0.664</td><td>9</td><td>-8.851</td><td>1</td><td>0.0371</td><td>0.000389</td><td>0.000655</td><td>0.133</td><td>0.49</td><td>104.56</td><td>4</td></tr><tr><td>&quot;TRUMISQ128F934…</td><td>&quot;Somebody Told …</td><td>&quot;The Killers&quot;</td><td>&quot;https://p.scdn…</td><td>&quot;0FNmIQ7u45Lhdn…</td><td>&quot;rock, alternat…</td><td>null</td><td>2005</td><td>198480</td><td>0.508</td><td>0.979</td><td>10</td><td>-4.289</td><td>0</td><td>0.0847</td><td>0.0000871</td><td>0.000643</td><td>0.0641</td><td>0.704</td><td>138.03</td><td>4</td></tr><tr><td>&quot;TRVCCWR128F930…</td><td>&quot;Viva la Vida&quot;</td><td>&quot;Coldplay&quot;</td><td>&quot;https://p.scdn…</td><td>&quot;08A1lZeyLMWH58…</td><td>&quot;rock, alternat…</td><td>null</td><td>2013</td><td>235384</td><td>0.588</td><td>0.806</td><td>8</td><td>-7.903</td><td>1</td><td>0.105</td><td>0.153</td><td>0.0</td><td>0.0634</td><td>0.52</td><td>137.973</td><td>4</td></tr><tr><td>&quot;TRXOGZT128F424…</td><td>&quot;Karma Police&quot;</td><td>&quot;Radiohead&quot;</td><td>&quot;https://p.scdn…</td><td>&quot;01puceOqImrzSf…</td><td>&quot;rock, alternat…</td><td>null</td><td>1996</td><td>264066</td><td>0.36</td><td>0.505</td><td>7</td><td>-9.129</td><td>1</td><td>0.026</td><td>0.0626</td><td>0.0000922</td><td>0.172</td><td>0.317</td><td>74.807</td><td>4</td></tr><tr><td>&quot;TRUJIIV12903CA…</td><td>&quot;Clocks&quot;</td><td>&quot;Coldplay&quot;</td><td>&quot;https://p.scdn…</td><td>&quot;0BCPKOYdS2jbQ8…</td><td>&quot;rock, alternat…</td><td>null</td><td>2002</td><td>307879</td><td>0.577</td><td>0.749</td><td>5</td><td>-7.215</td><td>0</td><td>0.0279</td><td>0.599</td><td>0.0115</td><td>0.183</td><td>0.255</td><td>130.97</td><td>4</td></tr></tbody></table></div>"
     },
     "execution_count": 5,
     "metadata": {},
     "output_type": "execute_result"
    }
   ],
   "source": [
    "tracks_lf.select(pl.all()).filter(pl.col('genre').is_null()).fetch(10)"
   ],
   "metadata": {
    "collapsed": false,
    "pycharm": {
     "name": "#%%\n"
    }
   }
  },
  {
   "cell_type": "code",
   "execution_count": 6,
   "outputs": [
    {
     "data": {
      "text/plain": "shape: (16, 1)\n┌─────────────────────┐\n│ genre               │\n│ ---                 │\n│ struct[2]           │\n╞═════════════════════╡\n│ {\"RnB\",696}         │\n│ {\"Rap\",821}         │\n│ {\"Reggae\",691}      │\n│ {\"Folk\",355}        │\n│ …                   │\n│ {\"New Age\",237}     │\n│ {\"Punk\",383}        │\n│ {\"Electronic\",3710} │\n│ {\"Latin\",100}       │\n└─────────────────────┘",
      "text/html": "<div><style>\n.dataframe > thead > tr > th,\n.dataframe > tbody > tr > td {\n  text-align: right;\n}\n</style>\n<small>shape: (16, 1)</small><table border=\"1\" class=\"dataframe\"><thead><tr><th>genre</th></tr><tr><td>struct[2]</td></tr></thead><tbody><tr><td>{&quot;RnB&quot;,696}</td></tr><tr><td>{&quot;Rap&quot;,821}</td></tr><tr><td>{&quot;Reggae&quot;,691}</td></tr><tr><td>{&quot;Folk&quot;,355}</td></tr><tr><td>{&quot;Rock&quot;,9965}</td></tr><tr><td>{null,28335}</td></tr><tr><td>{&quot;Jazz&quot;,793}</td></tr><tr><td>{&quot;Pop&quot;,1145}</td></tr><tr><td>{&quot;Blues&quot;,189}</td></tr><tr><td>{&quot;World&quot;,140}</td></tr><tr><td>{&quot;Metal&quot;,2516}</td></tr><tr><td>{&quot;Country&quot;,607}</td></tr><tr><td>{&quot;New Age&quot;,237}</td></tr><tr><td>{&quot;Punk&quot;,383}</td></tr><tr><td>{&quot;Electronic&quot;,3710}</td></tr><tr><td>{&quot;Latin&quot;,100}</td></tr></tbody></table></div>"
     },
     "execution_count": 6,
     "metadata": {},
     "output_type": "execute_result"
    }
   ],
   "source": [
    "tracks_lf.select(pl.col('genre').value_counts()).collect()"
   ],
   "metadata": {
    "collapsed": false,
    "pycharm": {
     "name": "#%%\n"
    }
   }
  },
  {
   "cell_type": "code",
   "execution_count": 7,
   "outputs": [],
   "source": [
    "tracks_lf = tracks_lf.select(pl.all()).with_columns(pl.col('tags').str.split(', ').alias('tags'))"
   ],
   "metadata": {
    "collapsed": false,
    "pycharm": {
     "name": "#%%\n"
    }
   }
  },
  {
   "cell_type": "code",
   "execution_count": 8,
   "outputs": [],
   "source": [
    "def tag_equals_to_genre() -> pl.expr.expr.Expr:\n",
    "    return (\n",
    "        pl.col('tags').arr.get(0).str.to_uppercase()\n",
    "        ==\n",
    "        pl.col('genre').str.to_uppercase()\n",
    "    )"
   ],
   "metadata": {
    "collapsed": false,
    "pycharm": {
     "name": "#%%\n"
    }
   }
  },
  {
   "cell_type": "code",
   "execution_count": 9,
   "outputs": [
    {
     "data": {
      "text/plain": "shape: (12_678, 21)\n┌────────────┬────────────┬───────────┬────────────┬───┬──────────┬─────────┬─────────┬────────────┐\n│ track_id   ┆ name       ┆ artist    ┆ spotify_pr ┆ … ┆ liveness ┆ valence ┆ tempo   ┆ time_signa │\n│ ---        ┆ ---        ┆ ---       ┆ eview_url  ┆   ┆ ---      ┆ ---     ┆ ---     ┆ ture       │\n│ str        ┆ str        ┆ str       ┆ ---        ┆   ┆ f64      ┆ f64     ┆ f64     ┆ ---        │\n│            ┆            ┆           ┆ str        ┆   ┆          ┆         ┆         ┆ i64        │\n╞════════════╪════════════╪═══════════╪════════════╪═══╪══════════╪═════════╪═════════╪════════════╡\n│ TROUVHL128 ┆ Come as    ┆ Nirvana   ┆ https://p. ┆ … ┆ 0.0878   ┆ 0.543   ┆ 120.012 ┆ 4          │\n│ F426C441   ┆ You Are    ┆           ┆ scdn.co/mp ┆   ┆          ┆         ┆         ┆            │\n│            ┆            ┆           ┆ 3-preview/ ┆   ┆          ┆         ┆         ┆            │\n│            ┆            ┆           ┆ a1…        ┆   ┆          ┆         ┆         ┆            │\n│ TRLNZBD128 ┆ Creep      ┆ Radiohead ┆ https://p. ┆ … ┆ 0.129    ┆ 0.104   ┆ 91.841  ┆ 4          │\n│ F935E4D8   ┆            ┆           ┆ scdn.co/mp ┆   ┆          ┆         ┆         ┆            │\n│            ┆            ┆           ┆ 3-preview/ ┆   ┆          ┆         ┆         ┆            │\n│            ┆            ┆           ┆ e7…        ┆   ┆          ┆         ┆         ┆            │\n│ TRIODZU128 ┆ Under the  ┆ Red Hot   ┆ https://p. ┆ … ┆ 0.136    ┆ 0.513   ┆ 84.275  ┆ 4          │\n│ E078F3E2   ┆ Bridge     ┆ Chili     ┆ scdn.co/mp ┆   ┆          ┆         ┆         ┆            │\n│            ┆            ┆ Peppers   ┆ 3-preview/ ┆   ┆          ┆         ┆         ┆            │\n│            ┆            ┆           ┆ 90…        ┆   ┆          ┆         ┆         ┆            │\n│ TRYEZGE128 ┆ Feel Good  ┆ Gorillaz  ┆ https://p. ┆ … ┆ 0.826    ┆ 0.832   ┆ 138.556 ┆ 4          │\n│ F92D04C8   ┆ Inc.       ┆           ┆ scdn.co/mp ┆   ┆          ┆         ┆         ┆            │\n│            ┆            ┆           ┆ 3-preview/ ┆   ┆          ┆         ┆         ┆            │\n│            ┆            ┆           ┆ 73…        ┆   ┆          ┆         ┆         ┆            │\n│ …          ┆ …          ┆ …         ┆ …          ┆ … ┆ …        ┆ …       ┆ …       ┆ …          │\n│ TRUVVQK128 ┆ PLAY THE   ┆ ストレイ  ┆ https://p. ┆ … ┆ 0.346    ┆ 0.362   ┆ 177.915 ┆ 3          │\n│ F4285D05   ┆ STAR       ┆ テナー    ┆ scdn.co/mp ┆   ┆          ┆         ┆         ┆            │\n│            ┆ GUITAR     ┆           ┆ 3-preview/ ┆   ┆          ┆         ┆         ┆            │\n│            ┆            ┆           ┆ b2…        ┆   ┆          ┆         ┆         ┆            │\n│ TRTBIEH128 ┆ Let It All ┆ Boom Boom ┆ https://p. ┆ … ┆ 0.164    ┆ 0.118   ┆ 103.008 ┆ 4          │\n│ F427C13C   ┆ Come Down  ┆ Satellite ┆ scdn.co/mp ┆   ┆          ┆         ┆         ┆            │\n│            ┆            ┆ s         ┆ 3-preview/ ┆   ┆          ┆         ┆         ┆            │\n│            ┆            ┆           ┆ 5d…        ┆   ┆          ┆         ┆         ┆            │\n│ TRPIGDW129 ┆ Slip of    ┆ Fact      ┆ https://p. ┆ … ┆ 0.379    ┆ 0.224   ┆ 100.08  ┆ 4          │\n│ 03CDEB2D   ┆ the Lip    ┆           ┆ scdn.co/mp ┆   ┆          ┆         ┆         ┆            │\n│            ┆            ┆           ┆ 3-preview/ ┆   ┆          ┆         ┆         ┆            │\n│            ┆            ┆           ┆ cf…        ┆   ┆          ┆         ┆         ┆            │\n│ TRIPFKO128 ┆ Hide &     ┆ 9mm Parab ┆ https://p. ┆ … ┆ 0.203    ┆ 0.138   ┆ 136.475 ┆ 4          │\n│ F42383FE   ┆ Seek       ┆ ellum     ┆ scdn.co/mp ┆   ┆          ┆         ┆         ┆            │\n│            ┆            ┆ Bullet    ┆ 3-preview/ ┆   ┆          ┆         ┆         ┆            │\n│            ┆            ┆           ┆ 91…        ┆   ┆          ┆         ┆         ┆            │\n└────────────┴────────────┴───────────┴────────────┴───┴──────────┴─────────┴─────────┴────────────┘",
      "text/html": "<div><style>\n.dataframe > thead > tr > th,\n.dataframe > tbody > tr > td {\n  text-align: right;\n}\n</style>\n<small>shape: (12_678, 21)</small><table border=\"1\" class=\"dataframe\"><thead><tr><th>track_id</th><th>name</th><th>artist</th><th>spotify_preview_url</th><th>spotify_id</th><th>tags</th><th>genre</th><th>year</th><th>duration_ms</th><th>danceability</th><th>energy</th><th>key</th><th>loudness</th><th>mode</th><th>speechiness</th><th>acousticness</th><th>instrumentalness</th><th>liveness</th><th>valence</th><th>tempo</th><th>time_signature</th></tr><tr><td>str</td><td>str</td><td>str</td><td>str</td><td>str</td><td>list[str]</td><td>str</td><td>i64</td><td>i64</td><td>f64</td><td>f64</td><td>i64</td><td>f64</td><td>i64</td><td>f64</td><td>f64</td><td>f64</td><td>f64</td><td>f64</td><td>f64</td><td>i64</td></tr></thead><tbody><tr><td>&quot;TROUVHL128F426…</td><td>&quot;Come as You Ar…</td><td>&quot;Nirvana&quot;</td><td>&quot;https://p.scdn…</td><td>&quot;0keNu0t0tqsWtE…</td><td>[&quot;rock&quot;, &quot;alternative&quot;, … &quot;grunge&quot;]</td><td>&quot;RnB&quot;</td><td>1991</td><td>218920</td><td>0.508</td><td>0.826</td><td>4</td><td>-5.783</td><td>0</td><td>0.04</td><td>0.000175</td><td>0.000459</td><td>0.0878</td><td>0.543</td><td>120.012</td><td>4</td></tr><tr><td>&quot;TRLNZBD128F935…</td><td>&quot;Creep&quot;</td><td>&quot;Radiohead&quot;</td><td>&quot;https://p.scdn…</td><td>&quot;01QoK9DA7VTeTS…</td><td>[&quot;rock&quot;, &quot;alternative&quot;, … &quot;britpop&quot;]</td><td>&quot;RnB&quot;</td><td>2008</td><td>238640</td><td>0.515</td><td>0.43</td><td>7</td><td>-9.935</td><td>1</td><td>0.0369</td><td>0.0102</td><td>0.000141</td><td>0.129</td><td>0.104</td><td>91.841</td><td>4</td></tr><tr><td>&quot;TRIODZU128E078…</td><td>&quot;Under the Brid…</td><td>&quot;Red Hot Chili …</td><td>&quot;https://p.scdn…</td><td>&quot;06zh28PcYIFvNO…</td><td>[&quot;rock&quot;, &quot;alternative&quot;, … &quot;funk&quot;]</td><td>&quot;Pop&quot;</td><td>2003</td><td>265506</td><td>0.554</td><td>0.49</td><td>4</td><td>-8.046</td><td>1</td><td>0.0457</td><td>0.0168</td><td>0.000534</td><td>0.136</td><td>0.513</td><td>84.275</td><td>4</td></tr><tr><td>&quot;TRYEZGE128F92D…</td><td>&quot;Feel Good Inc.…</td><td>&quot;Gorillaz&quot;</td><td>&quot;https://p.scdn…</td><td>&quot;09xrHi86kLkEIz…</td><td>[&quot;rock&quot;, &quot;electronic&quot;, … &quot;trip_hop&quot;]</td><td>&quot;RnB&quot;</td><td>2010</td><td>223106</td><td>0.809</td><td>0.72</td><td>6</td><td>-7.776</td><td>1</td><td>0.136</td><td>0.0337</td><td>0.00141</td><td>0.826</td><td>0.832</td><td>138.556</td><td>4</td></tr><tr><td>&quot;TRUENYK128F427…</td><td>&quot;Chop Suey!&quot;</td><td>&quot;System of a Do…</td><td>&quot;https://p.scdn…</td><td>&quot;0EIIqshB4doby2…</td><td>[&quot;rock&quot;, &quot;alternative&quot;, … &quot;nu_metal&quot;]</td><td>&quot;Metal&quot;</td><td>2008</td><td>210480</td><td>0.42</td><td>0.925</td><td>7</td><td>-4.217</td><td>0</td><td>0.12</td><td>0.000363</td><td>0.002</td><td>0.1</td><td>0.322</td><td>127.422</td><td>4</td></tr><tr><td>&quot;TRWEHTV12903D0…</td><td>&quot;Use Somebody&quot;</td><td>&quot;Kings of Leon&quot;</td><td>&quot;https://p.scdn…</td><td>&quot;03BednbxXIA23k…</td><td>[&quot;rock&quot;, &quot;alternative&quot;, … &quot;indie_rock&quot;]</td><td>&quot;Electronic&quot;</td><td>2003</td><td>230960</td><td>0.276</td><td>0.755</td><td>0</td><td>-5.406</td><td>1</td><td>0.046</td><td>0.00583</td><td>0.000543</td><td>0.183</td><td>0.194</td><td>137.149</td><td>4</td></tr><tr><td>&quot;TRIQWYH128F148…</td><td>&quot;Paranoid Andro…</td><td>&quot;Radiohead&quot;</td><td>&quot;https://p.scdn…</td><td>&quot;0bomiLGPTUNyk3…</td><td>[&quot;rock&quot;, &quot;electronic&quot;, … &quot;britpop&quot;]</td><td>&quot;Jazz&quot;</td><td>2012</td><td>384933</td><td>0.232</td><td>0.8</td><td>5</td><td>-6.863</td><td>1</td><td>0.0573</td><td>0.0523</td><td>0.00606</td><td>0.118</td><td>0.299</td><td>81.849</td><td>4</td></tr><tr><td>&quot;TRUOEWJ128F934…</td><td>&quot;Stairway to He…</td><td>&quot;Led Zeppelin&quot;</td><td>&quot;https://p.scdn…</td><td>&quot;03hLW9osM6UuNq…</td><td>[&quot;rock&quot;, &quot;classic_rock&quot;, … &quot;70s&quot;]</td><td>&quot;Punk&quot;</td><td>2013</td><td>488019</td><td>0.354</td><td>0.361</td><td>9</td><td>-12.722</td><td>0</td><td>0.0509</td><td>0.625</td><td>0.0112</td><td>0.35</td><td>0.212</td><td>80.36</td><td>4</td></tr><tr><td>&quot;TRAOMFT128F42A…</td><td>&quot;Losing My Reli…</td><td>&quot;R.E.M.&quot;</td><td>&quot;https://p.scdn…</td><td>&quot;04pRvt8HcPmmP6…</td><td>[&quot;rock&quot;, &quot;alternative&quot;, … &quot;90s&quot;]</td><td>&quot;Pop&quot;</td><td>2014</td><td>288160</td><td>0.668</td><td>0.736</td><td>9</td><td>-10.753</td><td>0</td><td>0.0277</td><td>0.0115</td><td>0.000259</td><td>0.337</td><td>0.629</td><td>126.978</td><td>4</td></tr><tr><td>&quot;TRSFPEE128F429…</td><td>&quot;In Bloom&quot;</td><td>&quot;Nirvana&quot;</td><td>&quot;https://p.scdn…</td><td>&quot;2qdRHMosT8YO3z…</td><td>[&quot;rock&quot;, &quot;alternative&quot;, … &quot;grunge&quot;]</td><td>&quot;Punk&quot;</td><td>1991</td><td>254760</td><td>0.433</td><td>0.744</td><td>10</td><td>-8.97</td><td>0</td><td>0.0449</td><td>0.00001</td><td>0.0000773</td><td>0.29</td><td>0.595</td><td>157.18</td><td>4</td></tr><tr><td>&quot;TRLPNCR128F426…</td><td>&quot;Can&#x27;t Stop&quot;</td><td>&quot;Red Hot Chili …</td><td>&quot;https://p.scdn…</td><td>&quot;3ZOEytgrvLwQaq…</td><td>[&quot;rock&quot;, &quot;alternative&quot;, … &quot;funk&quot;]</td><td>&quot;Electronic&quot;</td><td>2002</td><td>269000</td><td>0.618</td><td>0.938</td><td>9</td><td>-3.442</td><td>1</td><td>0.0456</td><td>0.0179</td><td>0.0</td><td>0.167</td><td>0.875</td><td>91.455</td><td>4</td></tr><tr><td>&quot;TRFROHP128F930…</td><td>&quot;Nothing Else M…</td><td>&quot;Metallica&quot;</td><td>&quot;https://p.scdn…</td><td>&quot;0nLiqZ6A27jJri…</td><td>[&quot;rock&quot;, &quot;metal&quot;, … &quot;90s&quot;]</td><td>&quot;Metal&quot;</td><td>1991</td><td>388266</td><td>0.553</td><td>0.362</td><td>4</td><td>-11.218</td><td>0</td><td>0.0263</td><td>0.0458</td><td>0.000006</td><td>0.075</td><td>0.158</td><td>142.352</td><td>3</td></tr><tr><td>&hellip;</td><td>&hellip;</td><td>&hellip;</td><td>&hellip;</td><td>&hellip;</td><td>&hellip;</td><td>&hellip;</td><td>&hellip;</td><td>&hellip;</td><td>&hellip;</td><td>&hellip;</td><td>&hellip;</td><td>&hellip;</td><td>&hellip;</td><td>&hellip;</td><td>&hellip;</td><td>&hellip;</td><td>&hellip;</td><td>&hellip;</td><td>&hellip;</td><td>&hellip;</td></tr><tr><td>&quot;TRFWEHR12903CF…</td><td>&quot;Morose Seclusi…</td><td>&quot;Into Eternity&quot;</td><td>&quot;https://p.scdn…</td><td>&quot;0kuqYvVbCPfVbN…</td><td>[&quot;progressive_metal&quot;]</td><td>&quot;Metal&quot;</td><td>2004</td><td>201813</td><td>0.368</td><td>0.327</td><td>5</td><td>-8.413</td><td>0</td><td>0.0297</td><td>0.753</td><td>0.0</td><td>0.168</td><td>0.239</td><td>142.099</td><td>4</td></tr><tr><td>&quot;TRLMAZQ128F422…</td><td>&quot;Mysterium&quot;</td><td>&quot;Liturgy&quot;</td><td>&quot;https://p.scdn…</td><td>&quot;0U5dVgE3RLDPGj…</td><td>[&quot;black_metal&quot;]</td><td>&quot;Jazz&quot;</td><td>2009</td><td>283213</td><td>0.213</td><td>0.323</td><td>4</td><td>-5.553</td><td>0</td><td>0.094</td><td>0.0000163</td><td>0.956</td><td>0.126</td><td>0.0368</td><td>95.272</td><td>3</td></tr><tr><td>&quot;TRYSJQG12903CA…</td><td>&quot;City Hall&quot;</td><td>&quot;Upon a Burning…</td><td>&quot;https://p.scdn…</td><td>&quot;4F8FHiefGYVzX8…</td><td>[&quot;metalcore&quot;]</td><td>&quot;Rock&quot;</td><td>2010</td><td>396946</td><td>0.149</td><td>0.958</td><td>2</td><td>-4.934</td><td>0</td><td>0.0875</td><td>0.0000467</td><td>0.0852</td><td>0.281</td><td>0.161</td><td>139.092</td><td>4</td></tr><tr><td>&quot;TRVOSLO128F930…</td><td>&quot;Damned Below J…</td><td>&quot;Hatesphere&quot;</td><td>&quot;https://p.scdn…</td><td>&quot;1tAOC2y8r0PJeN…</td><td>[&quot;thrash_metal&quot;]</td><td>&quot;Metal&quot;</td><td>2007</td><td>279040</td><td>0.542</td><td>0.971</td><td>8</td><td>-3.799</td><td>1</td><td>0.0915</td><td>0.000002</td><td>0.822</td><td>0.289</td><td>0.195</td><td>114.026</td><td>4</td></tr><tr><td>&quot;TRBXGZD128F930…</td><td>&quot;Let Them Hate&quot;</td><td>&quot;Hatesphere&quot;</td><td>&quot;https://p.scdn…</td><td>&quot;1FRwuQfvEv7Lk2…</td><td>[&quot;thrash_metal&quot;]</td><td>&quot;Metal&quot;</td><td>2007</td><td>319720</td><td>0.499</td><td>0.969</td><td>9</td><td>-3.822</td><td>1</td><td>0.0824</td><td>0.000005</td><td>0.156</td><td>0.123</td><td>0.116</td><td>111.995</td><td>4</td></tr><tr><td>&quot;TRYRGLR128F930…</td><td>&quot;Yap&quot;</td><td>&quot;ONE OK ROCK&quot;</td><td>&quot;https://p.scdn…</td><td>&quot;0MRAbkWrTgxTnn…</td><td>[&quot;rock&quot;, &quot;japanese&quot;]</td><td>&quot;Electronic&quot;</td><td>2008</td><td>166960</td><td>0.416</td><td>0.906</td><td>10</td><td>-6.783</td><td>1</td><td>0.0541</td><td>0.00568</td><td>0.0</td><td>0.105</td><td>0.875</td><td>186.075</td><td>4</td></tr><tr><td>&quot;TRKPZEB128F427…</td><td>&quot;TRAIN&quot;</td><td>&quot;ストレイテナー&quot;</td><td>&quot;https://p.scdn…</td><td>&quot;3XGijtvu06KtJL…</td><td>[&quot;japanese&quot;]</td><td>&quot;Rock&quot;</td><td>2013</td><td>229066</td><td>0.413</td><td>0.991</td><td>8</td><td>-2.194</td><td>1</td><td>0.135</td><td>0.000162</td><td>0.000995</td><td>0.196</td><td>0.285</td><td>133.032</td><td>4</td></tr><tr><td>&quot;TRDGROB128F934…</td><td>&quot;Perfect Moment…</td><td>&quot;Hyde&quot;</td><td>&quot;https://p.scdn…</td><td>&quot;12yBi0cbCQetKO…</td><td>[&quot;japanese&quot;]</td><td>&quot;Pop&quot;</td><td>2006</td><td>271320</td><td>0.357</td><td>0.81</td><td>7</td><td>-5.135</td><td>1</td><td>0.0419</td><td>0.111</td><td>0.182</td><td>0.123</td><td>0.315</td><td>94.032</td><td>4</td></tr><tr><td>&quot;TRUVVQK128F428…</td><td>&quot;PLAY THE STAR …</td><td>&quot;ストレイテナー&quot;</td><td>&quot;https://p.scdn…</td><td>&quot;08DV3XFyng89Hb…</td><td>[&quot;alternative&quot;, &quot;alternative_rock&quot;, &quot;japanese&quot;]</td><td>&quot;Rock&quot;</td><td>2004</td><td>185760</td><td>0.17</td><td>0.93</td><td>6</td><td>-3.985</td><td>1</td><td>0.135</td><td>0.000326</td><td>0.000141</td><td>0.346</td><td>0.362</td><td>177.915</td><td>3</td></tr><tr><td>&quot;TRTBIEH128F427…</td><td>&quot;Let It All Com…</td><td>&quot;Boom Boom Sate…</td><td>&quot;https://p.scdn…</td><td>&quot;47tFsBHLZ1ETuu…</td><td>[&quot;electronic&quot;, &quot;japanese&quot;]</td><td>&quot;Rock&quot;</td><td>1998</td><td>282093</td><td>0.57</td><td>0.926</td><td>1</td><td>-5.766</td><td>0</td><td>0.0672</td><td>0.0286</td><td>0.000708</td><td>0.164</td><td>0.118</td><td>103.008</td><td>4</td></tr><tr><td>&quot;TRPIGDW12903CD…</td><td>&quot;Slip of the Li…</td><td>&quot;Fact&quot;</td><td>&quot;https://p.scdn…</td><td>&quot;0PG7cpyNzRehf1…</td><td>[&quot;alternative_rock&quot;, &quot;punk_rock&quot;]</td><td>&quot;Rock&quot;</td><td>2010</td><td>183640</td><td>0.423</td><td>0.98</td><td>2</td><td>-4.068</td><td>1</td><td>0.184</td><td>0.000986</td><td>0.000002</td><td>0.379</td><td>0.224</td><td>100.08</td><td>4</td></tr><tr><td>&quot;TRIPFKO128F423…</td><td>&quot;Hide &amp; Seek&quot;</td><td>&quot;9mm Parabellum…</td><td>&quot;https://p.scdn…</td><td>&quot;3LW19oCCXxiqRc…</td><td>[&quot;rock&quot;, &quot;japanese&quot;]</td><td>&quot;Electronic&quot;</td><td>2008</td><td>131960</td><td>0.19</td><td>0.953</td><td>8</td><td>-4.144</td><td>1</td><td>0.131</td><td>0.0000333</td><td>0.0511</td><td>0.203</td><td>0.138</td><td>136.475</td><td>4</td></tr></tbody></table></div>"
     },
     "execution_count": 9,
     "metadata": {},
     "output_type": "execute_result"
    }
   ],
   "source": [
    "tracks_lf.drop_nulls().select(pl.all()).filter(tag_equals_to_genre().is_not()).collect()"
   ],
   "metadata": {
    "collapsed": false,
    "pycharm": {
     "name": "#%%\n"
    }
   }
  },
  {
   "cell_type": "markdown",
   "source": [
    "Something seems to be off with genre column - its content does not match many of the songs.\n",
    "It would be instead more productive to treat subset of tags as genres, since they contain far more specific and accurate information. Multiple genres instead of one will also suport describing songs, that were more experimental and do not adhere to any single label."
   ],
   "metadata": {
    "collapsed": false,
    "pycharm": {
     "name": "#%% md\n"
    }
   }
  },
  {
   "cell_type": "code",
   "execution_count": 10,
   "outputs": [],
   "source": [
    "def to_snake(text: str) -> str:\n",
    "    return text.replace(' ', '_').lower()\n",
    "\n",
    "def genre_is_tag() -> pl.expr.expr.Expr:\n",
    "    return pl.col('genre').apply(to_snake).is_in(pl.col('tags'))"
   ],
   "metadata": {
    "collapsed": false,
    "pycharm": {
     "name": "#%%\n"
    }
   }
  },
  {
   "cell_type": "code",
   "execution_count": 11,
   "outputs": [
    {
     "data": {
      "text/plain": "shape: (1, 1)\n┌──────────┐\n│ genre    │\n│ ---      │\n│ f64      │\n╞══════════╡\n│ 0.474265 │\n└──────────┘",
      "text/html": "<div><style>\n.dataframe > thead > tr > th,\n.dataframe > tbody > tr > td {\n  text-align: right;\n}\n</style>\n<small>shape: (1, 1)</small><table border=\"1\" class=\"dataframe\"><thead><tr><th>genre</th></tr><tr><td>f64</td></tr></thead><tbody><tr><td>0.474265</td></tr></tbody></table></div>"
     },
     "execution_count": 11,
     "metadata": {},
     "output_type": "execute_result"
    }
   ],
   "source": [
    "tracks_lf.drop_nulls().select(\n",
    "    genre_is_tag().sum()\n",
    "    /\n",
    "    pl.col('genre').count()\n",
    ").collect()"
   ],
   "metadata": {
    "collapsed": false,
    "pycharm": {
     "name": "#%%\n"
    }
   }
  },
  {
   "cell_type": "code",
   "execution_count": 12,
   "outputs": [],
   "source": [
    "tracks_lf = pl.concat([\n",
    "    tracks_lf.select(\n",
    "        pl.all()\n",
    "    ).filter(\n",
    "        pl.col('genre').is_not_null()\n",
    "    ).with_columns(\n",
    "        pl.col('tags')\n",
    "            .arr.concat(pl.col('genre').apply(to_snake, skip_nulls=True))\n",
    "            .arr.unique()\n",
    "            .alias('tags')\n",
    "    ),\n",
    "    tracks_lf.select(\n",
    "        pl.all()\n",
    "    ).filter(\n",
    "        pl.col('genre').is_null()\n",
    "    )\n",
    "])"
   ],
   "metadata": {
    "collapsed": false,
    "pycharm": {
     "name": "#%%\n"
    }
   }
  },
  {
   "cell_type": "code",
   "execution_count": 13,
   "outputs": [
    {
     "data": {
      "text/plain": "shape: (1, 1)\n┌───────┐\n│ genre │\n│ ---   │\n│ f64   │\n╞═══════╡\n│ 1.0   │\n└───────┘",
      "text/html": "<div><style>\n.dataframe > thead > tr > th,\n.dataframe > tbody > tr > td {\n  text-align: right;\n}\n</style>\n<small>shape: (1, 1)</small><table border=\"1\" class=\"dataframe\"><thead><tr><th>genre</th></tr><tr><td>f64</td></tr></thead><tbody><tr><td>1.0</td></tr></tbody></table></div>"
     },
     "execution_count": 13,
     "metadata": {},
     "output_type": "execute_result"
    }
   ],
   "source": [
    "tracks_lf.drop_nulls().select(\n",
    "    genre_is_tag().sum()\n",
    "    /\n",
    "    pl.col('genre').count()\n",
    ").collect()"
   ],
   "metadata": {
    "collapsed": false,
    "pycharm": {
     "name": "#%%\n"
    }
   }
  },
  {
   "cell_type": "code",
   "execution_count": 14,
   "outputs": [],
   "source": [
    "tracks_genreless_lf = tracks_lf.select(pl.all().exclude('genre'))"
   ],
   "metadata": {
    "collapsed": false,
    "pycharm": {
     "name": "#%%\n"
    }
   }
  },
  {
   "cell_type": "code",
   "execution_count": 15,
   "outputs": [
    {
     "name": "stdout",
     "output_type": "stream",
     "text": [
      "['electro', 'latin', 'instrumental', 'nu_metal', 'indie_pop', '70s', 'acoustic', 'avant_garde', 'rock', 'rnb', 'blues', 'german', '90s', 'classic_rock', 'techno', 'new_age', 'psychedelic', 'folk', 'hard_rock', 'dance', 'american', 'beautiful', 'experimental', 'grunge', 'progressive_rock', 'oldies', 'thrash_metal', 'female_vocalists', 'post_punk', 'french', 'melodic_death_metal', 'reggae', 'punk_rock', 'progressive_metal', 'symphonic_metal', '60s', 'post_hardcore', 'mellow', 'lounge', 'ambient', 'post_rock', 'indie_rock', 'swedish', 'gothic', 'emo', 'russian', 'hip_hop', 'heavy_metal', 'classical', 'british', 'house', 'blues_rock', '80s', 'indie', 'hardcore', 'idm', 'noise', 'pop_rock', 'chillout', 'polish', 'world', 'psychedelic_rock', 'trip_hop', 'trance', 'metal', 'dark_ambient', 'punk', 'grindcore', 'electronic', 'chill', 'gothic_metal', 'male_vocalists', 'soul', 'pop', 'death_metal', 'downtempo', 'guitar', 'cover', 'synthpop', 'metalcore', 'jazz', 'rap', 'screamo', 'funk', 'love', 'alternative', 'doom_metal', 'new_wave', 'britpop', 'j_pop', 'soundtrack', 'drum_and_bass', 'ska', 'alternative_rock', 'industrial', 'piano', 'power_metal', 'black_metal', '00s', 'country', 'japanese', 'singer_songwriter']\n"
     ]
    }
   ],
   "source": [
    "tag_list = tracks_lf.select(pl.col('tags').drop_nulls().explode().drop_nulls()).unique().collect().to_numpy().flatten().tolist()\n",
    "print(tag_list)\n",
    "with open('tmp/tag-list.txt', 'w+') as f:\n",
    "    f.write('\\n'.join(tag_list))"
   ],
   "metadata": {
    "collapsed": false,
    "pycharm": {
     "name": "#%%\n"
    }
   }
  },
  {
   "cell_type": "markdown",
   "source": [
    "With expert knowledge from outside sources, such as rateyourmusic.com, I was able to indentificate non-genre tags and remove them. It shortened the list from 102 to 77."
   ],
   "metadata": {
    "collapsed": false,
    "pycharm": {
     "name": "#%% md\n"
    }
   }
  },
  {
   "cell_type": "code",
   "execution_count": 16,
   "outputs": [
    {
     "name": "stdout",
     "output_type": "stream",
     "text": [
      "['nu_metal', 'trance', 'trip_hop', 'instrumental', 'gothic', 'rock', 'blues_rock', 'electro', 'french', 'folk', 'j_pop', 'pop', 'dark_ambient', 'post_rock', 'guitar', 'progressive_metal', 'house', 'american', 'grunge', 'punk', 'lounge', 'psychedelic', 'experimental', 'hip_hop', 'melodic_death_metal', 'rnb', 'classic_rock', 'screamo', 'punk_rock', 'emo', 'thrash_metal', 'death_metal', 'blues', 'symphonic_metal', 'grindcore', 'classical', 'doom_metal', 'gothic_metal', 'post_hardcore', 'indie', 'rap', 'post_punk', 'hard_rock', 'new_wave', 'new_age', 'idm', 'power_metal', 'avant_garde', 'britpop', 'hardcore', 'techno', 'jazz', 'electronic', 'industrial', 'reggae', 'indie_pop', 'drum_and_bass', 'ambient', 'ska', 'country', 'indie_rock', 'soul', 'dance', 'metalcore', 'metal', 'black_metal', 'downtempo', 'funk', 'synthpop', 'psychedelic_rock', 'noise', 'alternative', 'heavy_metal', 'progressive_rock', 'pop_rock', 'alternative_rock', 'soundtrack']\n"
     ]
    }
   ],
   "source": [
    "with open('tmp/tag-list-filtered.txt') as f:\n",
    "    genre_list = f.read().split('\\n')\n",
    "print(genre_list)"
   ],
   "metadata": {
    "collapsed": false,
    "pycharm": {
     "name": "#%%\n"
    }
   }
  },
  {
   "cell_type": "code",
   "execution_count": 17,
   "outputs": [
    {
     "data": {
      "text/plain": "shape: (602, 3)\n┌──────────────────────┬───────────────────────┬───────────────────────────────┐\n│ name                 ┆ artist                ┆ tags                          │\n│ ---                  ┆ ---                   ┆ ---                           │\n│ str                  ┆ str                   ┆ list[str]                     │\n╞══════════════════════╪═══════════════════════╪═══════════════════════════════╡\n│ Dune                 ┆ L'Arc~en~Ciel         ┆ [\"japanese\", \"world\"]         │\n│ El Triste            ┆ José José             ┆ [\"oldies\", \"love\", \"latin\"]   │\n│ Te Lo Pido Por Favor ┆ Jaguares              ┆ [\"cover\", \"latin\"]            │\n│ Petit Pays           ┆ Cesária Évora         ┆ [\"female_vocalists\", \"world\"] │\n│ …                    ┆ …                     ┆ …                             │\n│ Battle March         ┆ 9mm Parabellum Bullet ┆ [\"japanese\"]                  │\n│ Kakusei Heroism      ┆ アンティック-珈琲店-  ┆ [\"japanese\"]                  │\n│ Lights Of Vein       ┆ Fact                  ┆ [\"japanese\"]                  │\n│ BERSERKER TUNE       ┆ ストレイテナー        ┆ [\"japanese\"]                  │\n└──────────────────────┴───────────────────────┴───────────────────────────────┘",
      "text/html": "<div><style>\n.dataframe > thead > tr > th,\n.dataframe > tbody > tr > td {\n  text-align: right;\n}\n</style>\n<small>shape: (602, 3)</small><table border=\"1\" class=\"dataframe\"><thead><tr><th>name</th><th>artist</th><th>tags</th></tr><tr><td>str</td><td>str</td><td>list[str]</td></tr></thead><tbody><tr><td>&quot;Dune&quot;</td><td>&quot;L&#x27;Arc~en~Ciel&quot;</td><td>[&quot;japanese&quot;, &quot;world&quot;]</td></tr><tr><td>&quot;El Triste&quot;</td><td>&quot;José José&quot;</td><td>[&quot;oldies&quot;, &quot;love&quot;, &quot;latin&quot;]</td></tr><tr><td>&quot;Te Lo Pido Por…</td><td>&quot;Jaguares&quot;</td><td>[&quot;cover&quot;, &quot;latin&quot;]</td></tr><tr><td>&quot;Petit Pays&quot;</td><td>&quot;Cesária Évora&quot;</td><td>[&quot;female_vocalists&quot;, &quot;world&quot;]</td></tr><tr><td>&quot;Raoui&quot;</td><td>&quot;Souad Massi&quot;</td><td>[&quot;world&quot;, &quot;female_vocalists&quot;]</td></tr><tr><td>&quot;In Other World…</td><td>&quot;Azam Ali&quot;</td><td>[&quot;world&quot;, &quot;female_vocalists&quot;]</td></tr><tr><td>&quot;Outro Lado&quot;</td><td>&quot;Zuco 103&quot;</td><td>[&quot;world&quot;, &quot;chillout&quot;]</td></tr><tr><td>&quot;Partida&quot;</td><td>&quot;Cesária Évora&quot;</td><td>[&quot;world&quot;, &quot;female_vocalists&quot;]</td></tr><tr><td>&quot;S&#x27;Brent&quot;</td><td>&quot;Oi Va Voi&quot;</td><td>[&quot;female_vocalists&quot;, &quot;world&quot;]</td></tr><tr><td>&quot;Mamavatu&quot;</td><td>&quot;Susheela Raman…</td><td>[&quot;world&quot;, &quot;female_vocalists&quot;]</td></tr><tr><td>&quot;Negra Presentu…</td><td>&quot;Susana Baca&quot;</td><td>[&quot;latin&quot;, &quot;female_vocalists&quot;]</td></tr><tr><td>&quot;Beni Beni&quot;</td><td>&quot;Niyaz&quot;</td><td>[&quot;world&quot;, &quot;female_vocalists&quot;]</td></tr><tr><td>&hellip;</td><td>&hellip;</td><td>&hellip;</td></tr><tr><td>&quot;Bedrooms&quot;</td><td>&quot;Deafheaven&quot;</td><td>[&quot;female_vocalists&quot;]</td></tr><tr><td>&quot;Thug Life&quot;</td><td>&quot;Attila&quot;</td><td>[&quot;female_vocalists&quot;]</td></tr><tr><td>&quot;Psychopolis&quot;</td><td>&quot;9mm Parabellum…</td><td>[&quot;japanese&quot;]</td></tr><tr><td>&quot;THORNY RAIN BR…</td><td>&quot;RENTRER EN SOI…</td><td>[&quot;japanese&quot;]</td></tr><tr><td>&quot;The Silent Pla…</td><td>&quot;Cinema Bizarre…</td><td>[&quot;german&quot;]</td></tr><tr><td>&quot;AMONGST FOOLIS…</td><td>&quot;RENTRER EN SOI…</td><td>[&quot;japanese&quot;]</td></tr><tr><td>&quot;TO INFINITY&quot;</td><td>&quot;RENTRER EN SOI…</td><td>[&quot;japanese&quot;]</td></tr><tr><td>&quot;Acid Eiffel&quot;</td><td>&quot;メトロノーム&quot;</td><td>[&quot;japanese&quot;, &quot;piano&quot;]</td></tr><tr><td>&quot;Battle March&quot;</td><td>&quot;9mm Parabellum…</td><td>[&quot;japanese&quot;]</td></tr><tr><td>&quot;Kakusei Herois…</td><td>&quot;アンティック-珈琲店-&quot;</td><td>[&quot;japanese&quot;]</td></tr><tr><td>&quot;Lights Of Vein…</td><td>&quot;Fact&quot;</td><td>[&quot;japanese&quot;]</td></tr><tr><td>&quot;BERSERKER TUNE…</td><td>&quot;ストレイテナー&quot;</td><td>[&quot;japanese&quot;]</td></tr></tbody></table></div>"
     },
     "execution_count": 17,
     "metadata": {},
     "output_type": "execute_result"
    }
   ],
   "source": [
    "def tag_not_in_genre_list():\n",
    "    return pl.col('tags').arr.eval(\n",
    "        pl.element().is_in(genre_list).any().is_not()\n",
    "    ).arr.get(0)\n",
    "\n",
    "tracks_incorrect_df = tracks_genreless_lf.select(\n",
    "    pl.col('name'),\n",
    "    pl.col('artist'),\n",
    "    pl.col('tags')\n",
    ").filter(\n",
    "    tag_not_in_genre_list()\n",
    ").collect()\n",
    "tracks_incorrect_df"
   ],
   "metadata": {
    "collapsed": false,
    "pycharm": {
     "name": "#%%\n"
    }
   }
  },
  {
   "cell_type": "code",
   "execution_count": 18,
   "outputs": [
    {
     "data": {
      "text/plain": "shape: (1, 1)\n┌───────┐\n│ count │\n│ ---   │\n│ u32   │\n╞═══════╡\n│ 602   │\n└───────┘",
      "text/html": "<div><style>\n.dataframe > thead > tr > th,\n.dataframe > tbody > tr > td {\n  text-align: right;\n}\n</style>\n<small>shape: (1, 1)</small><table border=\"1\" class=\"dataframe\"><thead><tr><th>count</th></tr><tr><td>u32</td></tr></thead><tbody><tr><td>602</td></tr></tbody></table></div>"
     },
     "execution_count": 18,
     "metadata": {},
     "output_type": "execute_result"
    }
   ],
   "source": [
    "tracks_incorrect_df.select(pl.first().count().alias('count'))"
   ],
   "metadata": {
    "collapsed": false,
    "pycharm": {
     "name": "#%%\n"
    }
   }
  },
  {
   "cell_type": "markdown",
   "source": [
    "For now, I will leave out the 602 genre-less tracks."
   ],
   "metadata": {
    "collapsed": false,
    "pycharm": {
     "name": "#%% md\n"
    }
   }
  },
  {
   "cell_type": "code",
   "execution_count": 19,
   "outputs": [],
   "source": [
    "tracks_filtered_lf = tracks_genreless_lf.select([\n",
    "    pl.all().exclude('tags'),\n",
    "    pl.col('tags').arr.join(';').alias('genres')\n",
    "]).filter(\n",
    "    tag_not_in_genre_list().is_not()\n",
    ")"
   ],
   "metadata": {
    "collapsed": false,
    "pycharm": {
     "name": "#%%\n"
    }
   }
  },
  {
   "cell_type": "code",
   "execution_count": 20,
   "outputs": [],
   "source": [
    "listens_lf = pl.scan_csv('data/User Listening History.csv')"
   ],
   "metadata": {
    "collapsed": false,
    "pycharm": {
     "name": "#%%\n"
    }
   }
  },
  {
   "cell_type": "code",
   "execution_count": 21,
   "outputs": [],
   "source": [
    "listens_count_lf = listens_lf.select([\n",
    "    pl.col('track_id'),\n",
    "    pl.col('playcount')\n",
    "]).groupby('track_id').sum()"
   ],
   "metadata": {
    "collapsed": false,
    "pycharm": {
     "name": "#%%\n"
    }
   }
  },
  {
   "cell_type": "code",
   "execution_count": 22,
   "outputs": [
    {
     "data": {
      "text/plain": "shape: (29_477, 21)\n┌───────────┬───────────┬───────────┬────────────┬───┬─────────┬────────────┬──────────┬───────────┐\n│ track_id  ┆ name      ┆ artist    ┆ spotify_pr ┆ … ┆ tempo   ┆ time_signa ┆ genres   ┆ playcount │\n│ ---       ┆ ---       ┆ ---       ┆ eview_url  ┆   ┆ ---     ┆ ture       ┆ ---      ┆ ---       │\n│ str       ┆ str       ┆ str       ┆ ---        ┆   ┆ f64     ┆ ---        ┆ str      ┆ i64       │\n│           ┆           ┆           ┆ str        ┆   ┆         ┆ i64        ┆          ┆           │\n╞═══════════╪═══════════╪═══════════╪════════════╪═══╪═════════╪════════════╪══════════╪═══════════╡\n│ TRIODZU12 ┆ Under the ┆ Red Hot   ┆ https://p. ┆ … ┆ 84.275  ┆ 4          ┆ rock;alt ┆ 990       │\n│ 8E078F3E2 ┆ Bridge    ┆ Chili     ┆ scdn.co/mp ┆   ┆         ┆            ┆ ernative ┆           │\n│           ┆           ┆ Peppers   ┆ 3-preview/ ┆   ┆         ┆            ┆ ;alterna ┆           │\n│           ┆           ┆           ┆ 90…        ┆   ┆         ┆            ┆ tive_roc ┆           │\n│           ┆           ┆           ┆            ┆   ┆         ┆            ┆ …        ┆           │\n│ TRYEZGE12 ┆ Feel Good ┆ Gorillaz  ┆ https://p. ┆ … ┆ 138.556 ┆ 4          ┆ alternat ┆ 98        │\n│ 8F92D04C8 ┆ Inc.      ┆           ┆ scdn.co/mp ┆   ┆         ┆            ┆ ive_rock ┆           │\n│           ┆           ┆           ┆ 3-preview/ ┆   ┆         ┆            ┆ ;british ┆           │\n│           ┆           ┆           ┆ 73…        ┆   ┆         ┆            ┆ ;trip_ho ┆           │\n│           ┆           ┆           ┆            ┆   ┆         ┆            ┆ …        ┆           │\n│ TRIQWYH12 ┆ Paranoid  ┆ Radiohead ┆ https://p. ┆ … ┆ 81.849  ┆ 4          ┆ britpop; ┆ 1075      │\n│ 8F1486062 ┆ Android   ┆           ┆ scdn.co/mp ┆   ┆         ┆            ┆ progress ┆           │\n│           ┆           ┆           ┆ 3-preview/ ┆   ┆         ┆            ┆ ive_rock ┆           │\n│           ┆           ┆           ┆ d6…        ┆   ┆         ┆            ┆ ;90s;ele ┆           │\n│           ┆           ┆           ┆            ┆   ┆         ┆            ┆ …        ┆           │\n│ TRUOEWJ12 ┆ Stairway  ┆ Led       ┆ https://p. ┆ … ┆ 80.36   ┆ 4          ┆ 70s;punk ┆ 566       │\n│ 8F9345A85 ┆ to Heaven ┆ Zeppelin  ┆ scdn.co/mp ┆   ┆         ┆            ┆ ;hard_ro ┆           │\n│           ┆           ┆           ┆ 3-preview/ ┆   ┆         ┆            ┆ ck;progr ┆           │\n│           ┆           ┆           ┆ 68…        ┆   ┆         ┆            ┆ essive_r ┆           │\n│           ┆           ┆           ┆            ┆   ┆         ┆            ┆ …        ┆           │\n│ …         ┆ …         ┆ …         ┆ …          ┆ … ┆ …       ┆ …          ┆ …        ┆ …         │\n│ TRXJFMF12 ┆ Living    ┆ 9mm Parab ┆ https://p. ┆ … ┆ 95.001  ┆ 4          ┆ rock     ┆ 11        │\n│ 8F92E455D ┆ Dying     ┆ ellum     ┆ scdn.co/mp ┆   ┆         ┆            ┆          ┆           │\n│           ┆ Message   ┆ Bullet    ┆ 3-preview/ ┆   ┆         ┆            ┆          ┆           │\n│           ┆           ┆           ┆ 56…        ┆   ┆         ┆            ┆          ┆           │\n│ TRMEHFD12 ┆ The       ┆ 9mm Parab ┆ https://p. ┆ … ┆ 192.071 ┆ 4          ┆ rock;ins ┆ 42        │\n│ 8F92E4557 ┆ Revenge   ┆ ellum     ┆ scdn.co/mp ┆   ┆         ┆            ┆ trumenta ┆           │\n│           ┆ of Surf   ┆ Bullet    ┆ 3-preview/ ┆   ┆         ┆            ┆ l;japane ┆           │\n│           ┆ Queen     ┆           ┆ 0e…        ┆   ┆         ┆            ┆ se       ┆           │\n│ TRXWSIN12 ┆ Infinite  ┆ Maximilia ┆ https://p. ┆ … ┆ 99.679  ┆ 4          ┆ electron ┆ 36        │\n│ 8F9339A11 ┆ Love Song ┆ n Hecker  ┆ scdn.co/mp ┆   ┆         ┆            ┆ ic;indie ┆           │\n│           ┆           ┆           ┆ 3-preview/ ┆   ┆         ┆            ┆ _pop;lov ┆           │\n│           ┆           ┆           ┆ 8b…        ┆   ┆         ┆            ┆ e        ┆           │\n│ TRHQCSH12 ┆ Colors Of ┆ ACIDMAN   ┆ https://p. ┆ … ┆ 200.35  ┆ 4          ┆ rock;alt ┆ 37        │\n│ 8F42724B7 ┆ The Wind  ┆           ┆ scdn.co/mp ┆   ┆         ┆            ┆ ernative ┆           │\n│           ┆           ┆           ┆ 3-preview/ ┆   ┆         ┆            ┆ _rock;ja ┆           │\n│           ┆           ┆           ┆ 8e…        ┆   ┆         ┆            ┆ panese;c ┆           │\n│           ┆           ┆           ┆            ┆   ┆         ┆            ┆ …        ┆           │\n└───────────┴───────────┴───────────┴────────────┴───┴─────────┴────────────┴──────────┴───────────┘",
      "text/html": "<div><style>\n.dataframe > thead > tr > th,\n.dataframe > tbody > tr > td {\n  text-align: right;\n}\n</style>\n<small>shape: (29_477, 21)</small><table border=\"1\" class=\"dataframe\"><thead><tr><th>track_id</th><th>name</th><th>artist</th><th>spotify_preview_url</th><th>spotify_id</th><th>year</th><th>duration_ms</th><th>danceability</th><th>energy</th><th>key</th><th>loudness</th><th>mode</th><th>speechiness</th><th>acousticness</th><th>instrumentalness</th><th>liveness</th><th>valence</th><th>tempo</th><th>time_signature</th><th>genres</th><th>playcount</th></tr><tr><td>str</td><td>str</td><td>str</td><td>str</td><td>str</td><td>i64</td><td>i64</td><td>f64</td><td>f64</td><td>i64</td><td>f64</td><td>i64</td><td>f64</td><td>f64</td><td>f64</td><td>f64</td><td>f64</td><td>f64</td><td>i64</td><td>str</td><td>i64</td></tr></thead><tbody><tr><td>&quot;TRIODZU128E078…</td><td>&quot;Under the Brid…</td><td>&quot;Red Hot Chili …</td><td>&quot;https://p.scdn…</td><td>&quot;06zh28PcYIFvNO…</td><td>2003</td><td>265506</td><td>0.554</td><td>0.49</td><td>4</td><td>-8.046</td><td>1</td><td>0.0457</td><td>0.0168</td><td>0.000534</td><td>0.136</td><td>0.513</td><td>84.275</td><td>4</td><td>&quot;rock;alternati…</td><td>990</td></tr><tr><td>&quot;TRYEZGE128F92D…</td><td>&quot;Feel Good Inc.…</td><td>&quot;Gorillaz&quot;</td><td>&quot;https://p.scdn…</td><td>&quot;09xrHi86kLkEIz…</td><td>2010</td><td>223106</td><td>0.809</td><td>0.72</td><td>6</td><td>-7.776</td><td>1</td><td>0.136</td><td>0.0337</td><td>0.00141</td><td>0.826</td><td>0.832</td><td>138.556</td><td>4</td><td>&quot;alternative_ro…</td><td>98</td></tr><tr><td>&quot;TRIQWYH128F148…</td><td>&quot;Paranoid Andro…</td><td>&quot;Radiohead&quot;</td><td>&quot;https://p.scdn…</td><td>&quot;0bomiLGPTUNyk3…</td><td>2012</td><td>384933</td><td>0.232</td><td>0.8</td><td>5</td><td>-6.863</td><td>1</td><td>0.0573</td><td>0.0523</td><td>0.00606</td><td>0.118</td><td>0.299</td><td>81.849</td><td>4</td><td>&quot;britpop;progre…</td><td>1075</td></tr><tr><td>&quot;TRUOEWJ128F934…</td><td>&quot;Stairway to He…</td><td>&quot;Led Zeppelin&quot;</td><td>&quot;https://p.scdn…</td><td>&quot;03hLW9osM6UuNq…</td><td>2013</td><td>488019</td><td>0.354</td><td>0.361</td><td>9</td><td>-12.722</td><td>0</td><td>0.0509</td><td>0.625</td><td>0.0112</td><td>0.35</td><td>0.212</td><td>80.36</td><td>4</td><td>&quot;70s;punk;hard_…</td><td>566</td></tr><tr><td>&quot;TRNNGMK128F423…</td><td>&quot;Where Is My Mi…</td><td>&quot;Pixies&quot;</td><td>&quot;https://p.scdn…</td><td>&quot;0DJU6KGwdkxEPC…</td><td>2005</td><td>230093</td><td>0.514</td><td>0.435</td><td>4</td><td>-13.517</td><td>1</td><td>0.0353</td><td>0.0078</td><td>0.000859</td><td>0.0802</td><td>0.212</td><td>82.104</td><td>4</td><td>&quot;indie;indie_ro…</td><td>32185</td></tr><tr><td>&quot;TRADPIA128E078…</td><td>&quot;Heart-Shaped B…</td><td>&quot;Nirvana&quot;</td><td>&quot;https://p.scdn…</td><td>&quot;0FMu3Z1yvTJKLW…</td><td>2007</td><td>278520</td><td>0.609</td><td>0.842</td><td>0</td><td>-5.861</td><td>1</td><td>0.0342</td><td>0.0044</td><td>0.0116</td><td>0.353</td><td>0.459</td><td>115.158</td><td>4</td><td>&quot;alternative;ro…</td><td>210</td></tr><tr><td>&quot;TRSFPEE128F429…</td><td>&quot;In Bloom&quot;</td><td>&quot;Nirvana&quot;</td><td>&quot;https://p.scdn…</td><td>&quot;2qdRHMosT8YO3z…</td><td>1991</td><td>254760</td><td>0.433</td><td>0.744</td><td>10</td><td>-8.97</td><td>0</td><td>0.0449</td><td>0.00001</td><td>0.0000773</td><td>0.29</td><td>0.595</td><td>157.18</td><td>4</td><td>&quot;rock;alternati…</td><td>41</td></tr><tr><td>&quot;TRPFYYL128F92F…</td><td>&quot;Float On&quot;</td><td>&quot;Modest Mouse&quot;</td><td>&quot;https://p.scdn…</td><td>&quot;1Urf1M52P3R6NY…</td><td>2004</td><td>208466</td><td>0.646</td><td>0.893</td><td>6</td><td>-4.799</td><td>1</td><td>0.0301</td><td>0.0151</td><td>0.000004</td><td>0.0892</td><td>0.559</td><td>100.951</td><td>4</td><td>&quot;alternative_ro…</td><td>85079</td></tr><tr><td>&quot;TRLPNCR128F426…</td><td>&quot;Can&#x27;t Stop&quot;</td><td>&quot;Red Hot Chili …</td><td>&quot;https://p.scdn…</td><td>&quot;3ZOEytgrvLwQaq…</td><td>2002</td><td>269000</td><td>0.618</td><td>0.938</td><td>9</td><td>-3.442</td><td>1</td><td>0.0456</td><td>0.0179</td><td>0.0</td><td>0.167</td><td>0.875</td><td>91.455</td><td>4</td><td>&quot;alternative_ro…</td><td>1014</td></tr><tr><td>&quot;TRUGANP12903CB…</td><td>&quot;Naïve&quot;</td><td>&quot;The Kooks&quot;</td><td>&quot;https://p.scdn…</td><td>&quot;0itk18Y362KvHp…</td><td>2012</td><td>203680</td><td>0.559</td><td>0.791</td><td>8</td><td>-6.966</td><td>0</td><td>0.0662</td><td>0.0668</td><td>0.0</td><td>0.23</td><td>0.716</td><td>103.38</td><td>4</td><td>&quot;indie_rock;bri…</td><td>133</td></tr><tr><td>&quot;TRFWGOJ128E078…</td><td>&quot;In My Place&quot;</td><td>&quot;Coldplay&quot;</td><td>&quot;https://p.scdn…</td><td>&quot;0M1MFIuPCxRitJ…</td><td>2012</td><td>228346</td><td>0.423</td><td>0.566</td><td>9</td><td>-6.55</td><td>1</td><td>0.0272</td><td>0.0526</td><td>0.000004</td><td>0.196</td><td>0.218</td><td>144.688</td><td>4</td><td>&quot;chillout;indie…</td><td>41433</td></tr><tr><td>&quot;TRSCMBY128F931…</td><td>&quot;Mardy Bum&quot;</td><td>&quot;Arctic Monkeys…</td><td>&quot;https://p.scdn…</td><td>&quot;0gNQKJ5uTPeuxF…</td><td>2006</td><td>175426</td><td>0.634</td><td>0.599</td><td>2</td><td>-5.447</td><td>1</td><td>0.0365</td><td>0.0288</td><td>0.0</td><td>0.197</td><td>0.312</td><td>112.215</td><td>4</td><td>&quot;00s;britpop;in…</td><td>14347</td></tr><tr><td>&hellip;</td><td>&hellip;</td><td>&hellip;</td><td>&hellip;</td><td>&hellip;</td><td>&hellip;</td><td>&hellip;</td><td>&hellip;</td><td>&hellip;</td><td>&hellip;</td><td>&hellip;</td><td>&hellip;</td><td>&hellip;</td><td>&hellip;</td><td>&hellip;</td><td>&hellip;</td><td>&hellip;</td><td>&hellip;</td><td>&hellip;</td><td>&hellip;</td><td>&hellip;</td></tr><tr><td>&quot;TRYXJPR128F934…</td><td>&quot;The War Is On&quot;</td><td>&quot;coldrain&quot;</td><td>&quot;https://p.scdn…</td><td>&quot;12To60prmJu8je…</td><td>2014</td><td>212546</td><td>0.408</td><td>0.947</td><td>2</td><td>-3.162</td><td>0</td><td>0.0759</td><td>0.00523</td><td>0.0</td><td>0.105</td><td>0.383</td><td>160.03</td><td>4</td><td>&quot;post_hardcore&quot;</td><td>19</td></tr><tr><td>&quot;TRPDVOC12903D0…</td><td>&quot;good bye&quot;</td><td>&quot;High And Might…</td><td>&quot;https://p.scdn…</td><td>&quot;5Zp5HnXnEzzcKc…</td><td>2009</td><td>253623</td><td>0.434</td><td>0.907</td><td>7</td><td>-3.24</td><td>1</td><td>0.0886</td><td>0.00257</td><td>0.0000274</td><td>0.334</td><td>0.489</td><td>139.988</td><td>4</td><td>&quot;rock;hard_rock…</td><td>33</td></tr><tr><td>&quot;TRHYFBD12903D0…</td><td>&quot;I HATE MYSELF …</td><td>&quot;RENTRER EN SOI…</td><td>&quot;https://p.scdn…</td><td>&quot;2uenxTNNzrkKwq…</td><td>2007</td><td>258640</td><td>0.423</td><td>0.892</td><td>7</td><td>-5.104</td><td>0</td><td>0.0986</td><td>0.00127</td><td>0.00916</td><td>0.0927</td><td>0.24</td><td>155.928</td><td>4</td><td>&quot;hard_rock;japa…</td><td>14</td></tr><tr><td>&quot;TRLHIXZ128F429…</td><td>&quot;Sundome&quot;</td><td>&quot;9mm Parabellum…</td><td>&quot;https://p.scdn…</td><td>&quot;6MQRF3NaxOuVxO…</td><td>2007</td><td>216973</td><td>0.346</td><td>0.948</td><td>8</td><td>-4.634</td><td>1</td><td>0.115</td><td>0.000469</td><td>0.000004</td><td>0.41</td><td>0.498</td><td>177.008</td><td>4</td><td>&quot;rock;japanese&quot;</td><td>4</td></tr><tr><td>&quot;TRKSMNP128F429…</td><td>&quot;Heart-Shaped G…</td><td>&quot;9mm Parabellum…</td><td>&quot;https://p.scdn…</td><td>&quot;1JhQ7CWI9FXVqW…</td><td>2007</td><td>227653</td><td>0.641</td><td>0.939</td><td>9</td><td>-4.112</td><td>1</td><td>0.0913</td><td>0.00176</td><td>0.0000249</td><td>0.166</td><td>0.439</td><td>107.554</td><td>4</td><td>&quot;rock;japanese&quot;</td><td>4</td></tr><tr><td>&quot;TRPFIBA12903CA…</td><td>&quot;Amorphous&quot;</td><td>&quot;Versailles&quot;</td><td>&quot;https://p.scdn…</td><td>&quot;5V8h5HMtO0igwu…</td><td>2010</td><td>310466</td><td>0.502</td><td>0.929</td><td>3</td><td>-4.733</td><td>1</td><td>0.0473</td><td>0.0446</td><td>0.0</td><td>0.143</td><td>0.424</td><td>103.058</td><td>4</td><td>&quot;metal;japanese…</td><td>1</td></tr><tr><td>&quot;TRCDVRR128F425…</td><td>&quot;Plantation&quot;</td><td>&quot;Kana&quot;</td><td>&quot;https://p.scdn…</td><td>&quot;3mdfBcdD8C3NbJ…</td><td>2003</td><td>213133</td><td>0.879</td><td>0.534</td><td>5</td><td>-5.82</td><td>1</td><td>0.13</td><td>0.133</td><td>0.0971</td><td>0.0877</td><td>0.876</td><td>154.023</td><td>3</td><td>&quot;reggae&quot;</td><td>13</td></tr><tr><td>&quot;TRDTXXT128F427…</td><td>&quot;SIX DAY WONDER…</td><td>&quot;ストレイテナー&quot;</td><td>&quot;https://p.scdn…</td><td>&quot;13JA7FEDXPv0Gr…</td><td>2013</td><td>229586</td><td>0.525</td><td>0.878</td><td>11</td><td>-2.659</td><td>1</td><td>0.0461</td><td>0.00972</td><td>0.0055</td><td>0.326</td><td>0.369</td><td>125.193</td><td>4</td><td>&quot;alternative;ja…</td><td>28</td></tr><tr><td>&quot;TRXJFMF128F92E…</td><td>&quot;Living Dying M…</td><td>&quot;9mm Parabellum…</td><td>&quot;https://p.scdn…</td><td>&quot;4QhkbkPgVzg7H0…</td><td>2008</td><td>160733</td><td>0.507</td><td>0.916</td><td>7</td><td>-2.906</td><td>1</td><td>0.0642</td><td>0.00104</td><td>0.0</td><td>0.254</td><td>0.534</td><td>95.001</td><td>4</td><td>&quot;rock&quot;</td><td>11</td></tr><tr><td>&quot;TRMEHFD128F92E…</td><td>&quot;The Revenge of…</td><td>&quot;9mm Parabellum…</td><td>&quot;https://p.scdn…</td><td>&quot;2U98jGZIzsMmrV…</td><td>2008</td><td>181560</td><td>0.337</td><td>0.98</td><td>5</td><td>-4.246</td><td>0</td><td>0.046</td><td>0.0407</td><td>0.916</td><td>0.0991</td><td>0.911</td><td>192.071</td><td>4</td><td>&quot;rock;instrumen…</td><td>42</td></tr><tr><td>&quot;TRXWSIN128F933…</td><td>&quot;Infinite Love …</td><td>&quot;Maximilian Hec…</td><td>&quot;https://p.scdn…</td><td>&quot;2eIVm8hPf59hUS…</td><td>2002</td><td>285800</td><td>0.549</td><td>0.675</td><td>10</td><td>-7.431</td><td>1</td><td>0.0332</td><td>0.129</td><td>0.437</td><td>0.122</td><td>0.551</td><td>99.679</td><td>4</td><td>&quot;electronic;ind…</td><td>36</td></tr><tr><td>&quot;TRHQCSH128F427…</td><td>&quot;Colors Of The …</td><td>&quot;ACIDMAN&quot;</td><td>&quot;https://p.scdn…</td><td>&quot;3wkdfXGf5JYErW…</td><td>2004</td><td>275133</td><td>0.351</td><td>0.693</td><td>0</td><td>-6.811</td><td>1</td><td>0.12</td><td>0.00094</td><td>0.0000489</td><td>0.192</td><td>0.45</td><td>200.35</td><td>4</td><td>&quot;rock;alternati…</td><td>37</td></tr></tbody></table></div>"
     },
     "execution_count": 22,
     "metadata": {},
     "output_type": "execute_result"
    }
   ],
   "source": [
    "tracks_with_listens_df = tracks_filtered_lf.join(listens_count_lf, on='track_id').collect()\n",
    "tracks_with_listens_df"
   ],
   "metadata": {
    "collapsed": false,
    "pycharm": {
     "name": "#%%\n"
    }
   }
  },
  {
   "cell_type": "code",
   "execution_count": 23,
   "outputs": [],
   "source": [
    "tracks_with_listens_df.write_csv('data/music-info-clean.csv')"
   ],
   "metadata": {
    "collapsed": false,
    "pycharm": {
     "name": "#%%\n"
    }
   }
  }
 ],
 "metadata": {
  "kernelspec": {
   "display_name": "Python 3",
   "language": "python",
   "name": "python3"
  },
  "language_info": {
   "codemirror_mode": {
    "name": "ipython",
    "version": 2
   },
   "file_extension": ".py",
   "mimetype": "text/x-python",
   "name": "python",
   "nbconvert_exporter": "python",
   "pygments_lexer": "ipython2",
   "version": "2.7.6"
  }
 },
 "nbformat": 4,
 "nbformat_minor": 0
}