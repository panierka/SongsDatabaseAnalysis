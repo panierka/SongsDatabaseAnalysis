{
 "cells": [
  {
   "cell_type": "code",
   "execution_count": 30,
   "metadata": {
    "collapsed": true,
    "pycharm": {
     "name": "#%%\n"
    }
   },
   "outputs": [],
   "source": [
    "import polars as pl\n",
    "import numpy as np\n",
    "from typing import *"
   ]
  },
  {
   "cell_type": "code",
   "execution_count": 3,
   "outputs": [],
   "source": [
    "tracks_lf = pl.scan_csv('data/Music Info.csv')"
   ],
   "metadata": {
    "collapsed": false,
    "pycharm": {
     "name": "#%%\n"
    }
   }
  },
  {
   "cell_type": "code",
   "execution_count": 4,
   "outputs": [
    {
     "data": {
      "text/plain": "shape: (5, 21)\n┌────────────┬────────────┬───────────┬────────────┬───┬──────────┬─────────┬─────────┬────────────┐\n│ track_id   ┆ name       ┆ artist    ┆ spotify_pr ┆ … ┆ liveness ┆ valence ┆ tempo   ┆ time_signa │\n│ ---        ┆ ---        ┆ ---       ┆ eview_url  ┆   ┆ ---      ┆ ---     ┆ ---     ┆ ture       │\n│ str        ┆ str        ┆ str       ┆ ---        ┆   ┆ f64      ┆ f64     ┆ f64     ┆ ---        │\n│            ┆            ┆           ┆ str        ┆   ┆          ┆         ┆         ┆ i64        │\n╞════════════╪════════════╪═══════════╪════════════╪═══╪══════════╪═════════╪═════════╪════════════╡\n│ TRIOREW128 ┆ Mr.        ┆ The       ┆ https://p. ┆ … ┆ 0.0971   ┆ 0.24    ┆ 148.114 ┆ 4          │\n│ F424EAF0   ┆ Brightside ┆ Killers   ┆ scdn.co/mp ┆   ┆          ┆         ┆         ┆            │\n│            ┆            ┆           ┆ 3-preview/ ┆   ┆          ┆         ┆         ┆            │\n│            ┆            ┆           ┆ 4d…        ┆   ┆          ┆         ┆         ┆            │\n│ TRRIVDJ128 ┆ Wonderwall ┆ Oasis     ┆ https://p. ┆ … ┆ 0.207    ┆ 0.651   ┆ 174.426 ┆ 4          │\n│ F429B0E8   ┆            ┆           ┆ scdn.co/mp ┆   ┆          ┆         ┆         ┆            │\n│            ┆            ┆           ┆ 3-preview/ ┆   ┆          ┆         ┆         ┆            │\n│            ┆            ┆           ┆ d0…        ┆   ┆          ┆         ┆         ┆            │\n│ TROUVHL128 ┆ Come as    ┆ Nirvana   ┆ https://p. ┆ … ┆ 0.0878   ┆ 0.543   ┆ 120.012 ┆ 4          │\n│ F426C441   ┆ You Are    ┆           ┆ scdn.co/mp ┆   ┆          ┆         ┆         ┆            │\n│            ┆            ┆           ┆ 3-preview/ ┆   ┆          ┆         ┆         ┆            │\n│            ┆            ┆           ┆ a1…        ┆   ┆          ┆         ┆         ┆            │\n│ TRUEIND128 ┆ Take Me    ┆ Franz     ┆ https://p. ┆ … ┆ 0.133    ┆ 0.49    ┆ 104.56  ┆ 4          │\n│ F93038C4   ┆ Out        ┆ Ferdinand ┆ scdn.co/mp ┆   ┆          ┆         ┆         ┆            │\n│            ┆            ┆           ┆ 3-preview/ ┆   ┆          ┆         ┆         ┆            │\n│            ┆            ┆           ┆ 39…        ┆   ┆          ┆         ┆         ┆            │\n│ TRLNZBD128 ┆ Creep      ┆ Radiohead ┆ https://p. ┆ … ┆ 0.129    ┆ 0.104   ┆ 91.841  ┆ 4          │\n│ F935E4D8   ┆            ┆           ┆ scdn.co/mp ┆   ┆          ┆         ┆         ┆            │\n│            ┆            ┆           ┆ 3-preview/ ┆   ┆          ┆         ┆         ┆            │\n│            ┆            ┆           ┆ e7…        ┆   ┆          ┆         ┆         ┆            │\n└────────────┴────────────┴───────────┴────────────┴───┴──────────┴─────────┴─────────┴────────────┘",
      "text/html": "<div><style>\n.dataframe > thead > tr > th,\n.dataframe > tbody > tr > td {\n  text-align: right;\n}\n</style>\n<small>shape: (5, 21)</small><table border=\"1\" class=\"dataframe\"><thead><tr><th>track_id</th><th>name</th><th>artist</th><th>spotify_preview_url</th><th>spotify_id</th><th>tags</th><th>genre</th><th>year</th><th>duration_ms</th><th>danceability</th><th>energy</th><th>key</th><th>loudness</th><th>mode</th><th>speechiness</th><th>acousticness</th><th>instrumentalness</th><th>liveness</th><th>valence</th><th>tempo</th><th>time_signature</th></tr><tr><td>str</td><td>str</td><td>str</td><td>str</td><td>str</td><td>str</td><td>str</td><td>i64</td><td>i64</td><td>f64</td><td>f64</td><td>i64</td><td>f64</td><td>i64</td><td>f64</td><td>f64</td><td>f64</td><td>f64</td><td>f64</td><td>f64</td><td>i64</td></tr></thead><tbody><tr><td>&quot;TRIOREW128F424…</td><td>&quot;Mr. Brightside…</td><td>&quot;The Killers&quot;</td><td>&quot;https://p.scdn…</td><td>&quot;09ZQ5TmUG8TSL5…</td><td>&quot;rock, alternat…</td><td>null</td><td>2004</td><td>222200</td><td>0.355</td><td>0.918</td><td>1</td><td>-4.36</td><td>1</td><td>0.0746</td><td>0.00119</td><td>0.0</td><td>0.0971</td><td>0.24</td><td>148.114</td><td>4</td></tr><tr><td>&quot;TRRIVDJ128F429…</td><td>&quot;Wonderwall&quot;</td><td>&quot;Oasis&quot;</td><td>&quot;https://p.scdn…</td><td>&quot;06UfBBDISthj1Z…</td><td>&quot;rock, alternat…</td><td>null</td><td>2006</td><td>258613</td><td>0.409</td><td>0.892</td><td>2</td><td>-4.373</td><td>1</td><td>0.0336</td><td>0.000807</td><td>0.0</td><td>0.207</td><td>0.651</td><td>174.426</td><td>4</td></tr><tr><td>&quot;TROUVHL128F426…</td><td>&quot;Come as You Ar…</td><td>&quot;Nirvana&quot;</td><td>&quot;https://p.scdn…</td><td>&quot;0keNu0t0tqsWtE…</td><td>&quot;rock, alternat…</td><td>&quot;RnB&quot;</td><td>1991</td><td>218920</td><td>0.508</td><td>0.826</td><td>4</td><td>-5.783</td><td>0</td><td>0.04</td><td>0.000175</td><td>0.000459</td><td>0.0878</td><td>0.543</td><td>120.012</td><td>4</td></tr><tr><td>&quot;TRUEIND128F930…</td><td>&quot;Take Me Out&quot;</td><td>&quot;Franz Ferdinan…</td><td>&quot;https://p.scdn…</td><td>&quot;0ancVQ9wEcHVd0…</td><td>&quot;rock, alternat…</td><td>null</td><td>2004</td><td>237026</td><td>0.279</td><td>0.664</td><td>9</td><td>-8.851</td><td>1</td><td>0.0371</td><td>0.000389</td><td>0.000655</td><td>0.133</td><td>0.49</td><td>104.56</td><td>4</td></tr><tr><td>&quot;TRLNZBD128F935…</td><td>&quot;Creep&quot;</td><td>&quot;Radiohead&quot;</td><td>&quot;https://p.scdn…</td><td>&quot;01QoK9DA7VTeTS…</td><td>&quot;rock, alternat…</td><td>&quot;RnB&quot;</td><td>2008</td><td>238640</td><td>0.515</td><td>0.43</td><td>7</td><td>-9.935</td><td>1</td><td>0.0369</td><td>0.0102</td><td>0.000141</td><td>0.129</td><td>0.104</td><td>91.841</td><td>4</td></tr></tbody></table></div>"
     },
     "execution_count": 4,
     "metadata": {},
     "output_type": "execute_result"
    }
   ],
   "source": [
    "tracks_lf.fetch(5)"
   ],
   "metadata": {
    "collapsed": false,
    "pycharm": {
     "name": "#%%\n"
    }
   }
  },
  {
   "cell_type": "code",
   "execution_count": 5,
   "outputs": [
    {
     "data": {
      "text/plain": "shape: (21, 2)\n┌────────────────────────────┬────────┐\n│ column                     ┆ full % │\n│ ---                        ┆ ---    │\n│ str                        ┆ f64    │\n╞════════════════════════════╪════════╡\n│ track_id_full %            ┆ 100.0  │\n│ name_full %                ┆ 100.0  │\n│ artist_full %              ┆ 100.0  │\n│ spotify_preview_url_full % ┆ 100.0  │\n│ …                          ┆ …      │\n│ liveness_full %            ┆ 100.0  │\n│ valence_full %             ┆ 100.0  │\n│ tempo_full %               ┆ 100.0  │\n│ time_signature_full %      ┆ 100.0  │\n└────────────────────────────┴────────┘",
      "text/html": "<div><style>\n.dataframe > thead > tr > th,\n.dataframe > tbody > tr > td {\n  text-align: right;\n}\n</style>\n<small>shape: (21, 2)</small><table border=\"1\" class=\"dataframe\"><thead><tr><th>column</th><th>full %</th></tr><tr><td>str</td><td>f64</td></tr></thead><tbody><tr><td>&quot;track_id_full …</td><td>100.0</td></tr><tr><td>&quot;name_full %&quot;</td><td>100.0</td></tr><tr><td>&quot;artist_full %&quot;</td><td>100.0</td></tr><tr><td>&quot;spotify_previe…</td><td>100.0</td></tr><tr><td>&quot;spotify_id_ful…</td><td>100.0</td></tr><tr><td>&quot;tags_full %&quot;</td><td>97.78</td></tr><tr><td>&quot;genre_full %&quot;</td><td>44.09</td></tr><tr><td>&quot;year_full %&quot;</td><td>100.0</td></tr><tr><td>&quot;duration_ms_fu…</td><td>100.0</td></tr><tr><td>&quot;danceability_f…</td><td>100.0</td></tr><tr><td>&quot;energy_full %&quot;</td><td>100.0</td></tr><tr><td>&quot;key_full %&quot;</td><td>100.0</td></tr><tr><td>&quot;loudness_full …</td><td>100.0</td></tr><tr><td>&quot;mode_full %&quot;</td><td>100.0</td></tr><tr><td>&quot;speechiness_fu…</td><td>100.0</td></tr><tr><td>&quot;acousticness_f…</td><td>100.0</td></tr><tr><td>&quot;instrumentalne…</td><td>100.0</td></tr><tr><td>&quot;liveness_full …</td><td>100.0</td></tr><tr><td>&quot;valence_full %…</td><td>100.0</td></tr><tr><td>&quot;tempo_full %&quot;</td><td>100.0</td></tr><tr><td>&quot;time_signature…</td><td>100.0</td></tr></tbody></table></div>"
     },
     "execution_count": 5,
     "metadata": {},
     "output_type": "execute_result"
    }
   ],
   "source": [
    "cols = [\n",
    "    (100 - pl.col(col).is_null().sum() * 100 / pl.col(col).count())\n",
    "        .round(2)\n",
    "        .alias('{}_full %'.format(col))\n",
    "    for col in tracks_lf.columns\n",
    "]\n",
    "\n",
    "tracks_lf.select(cols).collect().transpose(include_header=True, column_names=['full %'])"
   ],
   "metadata": {
    "collapsed": false,
    "pycharm": {
     "name": "#%%\n"
    }
   }
  },
  {
   "cell_type": "code",
   "execution_count": 6,
   "outputs": [
    {
     "data": {
      "text/plain": "shape: (7, 21)\n┌────────────┬────────────┬───────────┬────────────┬───┬──────────┬─────────┬─────────┬────────────┐\n│ track_id   ┆ name       ┆ artist    ┆ spotify_pr ┆ … ┆ liveness ┆ valence ┆ tempo   ┆ time_signa │\n│ ---        ┆ ---        ┆ ---       ┆ eview_url  ┆   ┆ ---      ┆ ---     ┆ ---     ┆ ture       │\n│ str        ┆ str        ┆ str       ┆ ---        ┆   ┆ f64      ┆ f64     ┆ f64     ┆ ---        │\n│            ┆            ┆           ┆ str        ┆   ┆          ┆         ┆         ┆ i64        │\n╞════════════╪════════════╪═══════════╪════════════╪═══╪══════════╪═════════╪═════════╪════════════╡\n│ TRIOREW128 ┆ Mr.        ┆ The       ┆ https://p. ┆ … ┆ 0.0971   ┆ 0.24    ┆ 148.114 ┆ 4          │\n│ F424EAF0   ┆ Brightside ┆ Killers   ┆ scdn.co/mp ┆   ┆          ┆         ┆         ┆            │\n│            ┆            ┆           ┆ 3-preview/ ┆   ┆          ┆         ┆         ┆            │\n│            ┆            ┆           ┆ 4d…        ┆   ┆          ┆         ┆         ┆            │\n│ TRRIVDJ128 ┆ Wonderwall ┆ Oasis     ┆ https://p. ┆ … ┆ 0.207    ┆ 0.651   ┆ 174.426 ┆ 4          │\n│ F429B0E8   ┆            ┆           ┆ scdn.co/mp ┆   ┆          ┆         ┆         ┆            │\n│            ┆            ┆           ┆ 3-preview/ ┆   ┆          ┆         ┆         ┆            │\n│            ┆            ┆           ┆ d0…        ┆   ┆          ┆         ┆         ┆            │\n│ TRUEIND128 ┆ Take Me    ┆ Franz     ┆ https://p. ┆ … ┆ 0.133    ┆ 0.49    ┆ 104.56  ┆ 4          │\n│ F93038C4   ┆ Out        ┆ Ferdinand ┆ scdn.co/mp ┆   ┆          ┆         ┆         ┆            │\n│            ┆            ┆           ┆ 3-preview/ ┆   ┆          ┆         ┆         ┆            │\n│            ┆            ┆           ┆ 39…        ┆   ┆          ┆         ┆         ┆            │\n│ TRUMISQ128 ┆ Somebody   ┆ The       ┆ https://p. ┆ … ┆ 0.0641   ┆ 0.704   ┆ 138.03  ┆ 4          │\n│ F9340BEE   ┆ Told Me    ┆ Killers   ┆ scdn.co/mp ┆   ┆          ┆         ┆         ┆            │\n│            ┆            ┆           ┆ 3-preview/ ┆   ┆          ┆         ┆         ┆            │\n│            ┆            ┆           ┆ 0d…        ┆   ┆          ┆         ┆         ┆            │\n│ TRVCCWR128 ┆ Viva la    ┆ Coldplay  ┆ https://p. ┆ … ┆ 0.0634   ┆ 0.52    ┆ 137.973 ┆ 4          │\n│ F9304A30   ┆ Vida       ┆           ┆ scdn.co/mp ┆   ┆          ┆         ┆         ┆            │\n│            ┆            ┆           ┆ 3-preview/ ┆   ┆          ┆         ┆         ┆            │\n│            ┆            ┆           ┆ ab…        ┆   ┆          ┆         ┆         ┆            │\n│ TRXOGZT128 ┆ Karma      ┆ Radiohead ┆ https://p. ┆ … ┆ 0.172    ┆ 0.317   ┆ 74.807  ┆ 4          │\n│ F424AD74   ┆ Police     ┆           ┆ scdn.co/mp ┆   ┆          ┆         ┆         ┆            │\n│            ┆            ┆           ┆ 3-preview/ ┆   ┆          ┆         ┆         ┆            │\n│            ┆            ┆           ┆ 5a…        ┆   ┆          ┆         ┆         ┆            │\n│ TRUJIIV129 ┆ Clocks     ┆ Coldplay  ┆ https://p. ┆ … ┆ 0.183    ┆ 0.255   ┆ 130.97  ┆ 4          │\n│ 03CA8848   ┆            ┆           ┆ scdn.co/mp ┆   ┆          ┆         ┆         ┆            │\n│            ┆            ┆           ┆ 3-preview/ ┆   ┆          ┆         ┆         ┆            │\n│            ┆            ┆           ┆ 24…        ┆   ┆          ┆         ┆         ┆            │\n└────────────┴────────────┴───────────┴────────────┴───┴──────────┴─────────┴─────────┴────────────┘",
      "text/html": "<div><style>\n.dataframe > thead > tr > th,\n.dataframe > tbody > tr > td {\n  text-align: right;\n}\n</style>\n<small>shape: (7, 21)</small><table border=\"1\" class=\"dataframe\"><thead><tr><th>track_id</th><th>name</th><th>artist</th><th>spotify_preview_url</th><th>spotify_id</th><th>tags</th><th>genre</th><th>year</th><th>duration_ms</th><th>danceability</th><th>energy</th><th>key</th><th>loudness</th><th>mode</th><th>speechiness</th><th>acousticness</th><th>instrumentalness</th><th>liveness</th><th>valence</th><th>tempo</th><th>time_signature</th></tr><tr><td>str</td><td>str</td><td>str</td><td>str</td><td>str</td><td>str</td><td>str</td><td>i64</td><td>i64</td><td>f64</td><td>f64</td><td>i64</td><td>f64</td><td>i64</td><td>f64</td><td>f64</td><td>f64</td><td>f64</td><td>f64</td><td>f64</td><td>i64</td></tr></thead><tbody><tr><td>&quot;TRIOREW128F424…</td><td>&quot;Mr. Brightside…</td><td>&quot;The Killers&quot;</td><td>&quot;https://p.scdn…</td><td>&quot;09ZQ5TmUG8TSL5…</td><td>&quot;rock, alternat…</td><td>null</td><td>2004</td><td>222200</td><td>0.355</td><td>0.918</td><td>1</td><td>-4.36</td><td>1</td><td>0.0746</td><td>0.00119</td><td>0.0</td><td>0.0971</td><td>0.24</td><td>148.114</td><td>4</td></tr><tr><td>&quot;TRRIVDJ128F429…</td><td>&quot;Wonderwall&quot;</td><td>&quot;Oasis&quot;</td><td>&quot;https://p.scdn…</td><td>&quot;06UfBBDISthj1Z…</td><td>&quot;rock, alternat…</td><td>null</td><td>2006</td><td>258613</td><td>0.409</td><td>0.892</td><td>2</td><td>-4.373</td><td>1</td><td>0.0336</td><td>0.000807</td><td>0.0</td><td>0.207</td><td>0.651</td><td>174.426</td><td>4</td></tr><tr><td>&quot;TRUEIND128F930…</td><td>&quot;Take Me Out&quot;</td><td>&quot;Franz Ferdinan…</td><td>&quot;https://p.scdn…</td><td>&quot;0ancVQ9wEcHVd0…</td><td>&quot;rock, alternat…</td><td>null</td><td>2004</td><td>237026</td><td>0.279</td><td>0.664</td><td>9</td><td>-8.851</td><td>1</td><td>0.0371</td><td>0.000389</td><td>0.000655</td><td>0.133</td><td>0.49</td><td>104.56</td><td>4</td></tr><tr><td>&quot;TRUMISQ128F934…</td><td>&quot;Somebody Told …</td><td>&quot;The Killers&quot;</td><td>&quot;https://p.scdn…</td><td>&quot;0FNmIQ7u45Lhdn…</td><td>&quot;rock, alternat…</td><td>null</td><td>2005</td><td>198480</td><td>0.508</td><td>0.979</td><td>10</td><td>-4.289</td><td>0</td><td>0.0847</td><td>0.0000871</td><td>0.000643</td><td>0.0641</td><td>0.704</td><td>138.03</td><td>4</td></tr><tr><td>&quot;TRVCCWR128F930…</td><td>&quot;Viva la Vida&quot;</td><td>&quot;Coldplay&quot;</td><td>&quot;https://p.scdn…</td><td>&quot;08A1lZeyLMWH58…</td><td>&quot;rock, alternat…</td><td>null</td><td>2013</td><td>235384</td><td>0.588</td><td>0.806</td><td>8</td><td>-7.903</td><td>1</td><td>0.105</td><td>0.153</td><td>0.0</td><td>0.0634</td><td>0.52</td><td>137.973</td><td>4</td></tr><tr><td>&quot;TRXOGZT128F424…</td><td>&quot;Karma Police&quot;</td><td>&quot;Radiohead&quot;</td><td>&quot;https://p.scdn…</td><td>&quot;01puceOqImrzSf…</td><td>&quot;rock, alternat…</td><td>null</td><td>1996</td><td>264066</td><td>0.36</td><td>0.505</td><td>7</td><td>-9.129</td><td>1</td><td>0.026</td><td>0.0626</td><td>0.0000922</td><td>0.172</td><td>0.317</td><td>74.807</td><td>4</td></tr><tr><td>&quot;TRUJIIV12903CA…</td><td>&quot;Clocks&quot;</td><td>&quot;Coldplay&quot;</td><td>&quot;https://p.scdn…</td><td>&quot;0BCPKOYdS2jbQ8…</td><td>&quot;rock, alternat…</td><td>null</td><td>2002</td><td>307879</td><td>0.577</td><td>0.749</td><td>5</td><td>-7.215</td><td>0</td><td>0.0279</td><td>0.599</td><td>0.0115</td><td>0.183</td><td>0.255</td><td>130.97</td><td>4</td></tr></tbody></table></div>"
     },
     "execution_count": 6,
     "metadata": {},
     "output_type": "execute_result"
    }
   ],
   "source": [
    "tracks_lf.select(pl.all()).filter(pl.col('genre').is_null()).fetch(10)"
   ],
   "metadata": {
    "collapsed": false,
    "pycharm": {
     "name": "#%%\n"
    }
   }
  },
  {
   "cell_type": "code",
   "execution_count": 7,
   "outputs": [
    {
     "data": {
      "text/plain": "shape: (16, 1)\n┌─────────────────────┐\n│ genre               │\n│ ---                 │\n│ struct[2]           │\n╞═════════════════════╡\n│ {\"Electronic\",3710} │\n│ {\"Punk\",383}        │\n│ {\"New Age\",237}     │\n│ {\"Latin\",100}       │\n│ …                   │\n│ {\"RnB\",696}         │\n│ {\"World\",140}       │\n│ {\"Jazz\",793}        │\n│ {\"Pop\",1145}        │\n└─────────────────────┘",
      "text/html": "<div><style>\n.dataframe > thead > tr > th,\n.dataframe > tbody > tr > td {\n  text-align: right;\n}\n</style>\n<small>shape: (16, 1)</small><table border=\"1\" class=\"dataframe\"><thead><tr><th>genre</th></tr><tr><td>struct[2]</td></tr></thead><tbody><tr><td>{&quot;Electronic&quot;,3710}</td></tr><tr><td>{&quot;Punk&quot;,383}</td></tr><tr><td>{&quot;New Age&quot;,237}</td></tr><tr><td>{&quot;Latin&quot;,100}</td></tr><tr><td>{&quot;Reggae&quot;,691}</td></tr><tr><td>{&quot;Blues&quot;,189}</td></tr><tr><td>{&quot;Metal&quot;,2516}</td></tr><tr><td>{&quot;Country&quot;,607}</td></tr><tr><td>{&quot;Folk&quot;,355}</td></tr><tr><td>{&quot;Rap&quot;,821}</td></tr><tr><td>{&quot;Rock&quot;,9965}</td></tr><tr><td>{null,28335}</td></tr><tr><td>{&quot;RnB&quot;,696}</td></tr><tr><td>{&quot;World&quot;,140}</td></tr><tr><td>{&quot;Jazz&quot;,793}</td></tr><tr><td>{&quot;Pop&quot;,1145}</td></tr></tbody></table></div>"
     },
     "execution_count": 7,
     "metadata": {},
     "output_type": "execute_result"
    }
   ],
   "source": [
    "tracks_lf.select(pl.col('genre').value_counts()).collect()"
   ],
   "metadata": {
    "collapsed": false,
    "pycharm": {
     "name": "#%%\n"
    }
   }
  },
  {
   "cell_type": "code",
   "execution_count": 8,
   "outputs": [],
   "source": [
    "tracks_lf = tracks_lf.select(pl.all()).with_columns(pl.col('tags').str.split(', ').alias('tags'))"
   ],
   "metadata": {
    "collapsed": false,
    "pycharm": {
     "name": "#%%\n"
    }
   }
  },
  {
   "cell_type": "code",
   "execution_count": 9,
   "outputs": [],
   "source": [
    "def tag_equals_to_genre() -> pl.expr.expr.Expr:\n",
    "    return (\n",
    "        pl.col('tags').arr.get(0).str.to_uppercase()\n",
    "        ==\n",
    "        pl.col('genre').str.to_uppercase()\n",
    "    )"
   ],
   "metadata": {
    "collapsed": false,
    "pycharm": {
     "name": "#%%\n"
    }
   }
  },
  {
   "cell_type": "code",
   "execution_count": 10,
   "outputs": [
    {
     "data": {
      "text/plain": "shape: (12_678, 21)\n┌────────────┬────────────┬───────────┬────────────┬───┬──────────┬─────────┬─────────┬────────────┐\n│ track_id   ┆ name       ┆ artist    ┆ spotify_pr ┆ … ┆ liveness ┆ valence ┆ tempo   ┆ time_signa │\n│ ---        ┆ ---        ┆ ---       ┆ eview_url  ┆   ┆ ---      ┆ ---     ┆ ---     ┆ ture       │\n│ str        ┆ str        ┆ str       ┆ ---        ┆   ┆ f64      ┆ f64     ┆ f64     ┆ ---        │\n│            ┆            ┆           ┆ str        ┆   ┆          ┆         ┆         ┆ i64        │\n╞════════════╪════════════╪═══════════╪════════════╪═══╪══════════╪═════════╪═════════╪════════════╡\n│ TROUVHL128 ┆ Come as    ┆ Nirvana   ┆ https://p. ┆ … ┆ 0.0878   ┆ 0.543   ┆ 120.012 ┆ 4          │\n│ F426C441   ┆ You Are    ┆           ┆ scdn.co/mp ┆   ┆          ┆         ┆         ┆            │\n│            ┆            ┆           ┆ 3-preview/ ┆   ┆          ┆         ┆         ┆            │\n│            ┆            ┆           ┆ a1…        ┆   ┆          ┆         ┆         ┆            │\n│ TRLNZBD128 ┆ Creep      ┆ Radiohead ┆ https://p. ┆ … ┆ 0.129    ┆ 0.104   ┆ 91.841  ┆ 4          │\n│ F935E4D8   ┆            ┆           ┆ scdn.co/mp ┆   ┆          ┆         ┆         ┆            │\n│            ┆            ┆           ┆ 3-preview/ ┆   ┆          ┆         ┆         ┆            │\n│            ┆            ┆           ┆ e7…        ┆   ┆          ┆         ┆         ┆            │\n│ TRIODZU128 ┆ Under the  ┆ Red Hot   ┆ https://p. ┆ … ┆ 0.136    ┆ 0.513   ┆ 84.275  ┆ 4          │\n│ E078F3E2   ┆ Bridge     ┆ Chili     ┆ scdn.co/mp ┆   ┆          ┆         ┆         ┆            │\n│            ┆            ┆ Peppers   ┆ 3-preview/ ┆   ┆          ┆         ┆         ┆            │\n│            ┆            ┆           ┆ 90…        ┆   ┆          ┆         ┆         ┆            │\n│ TRYEZGE128 ┆ Feel Good  ┆ Gorillaz  ┆ https://p. ┆ … ┆ 0.826    ┆ 0.832   ┆ 138.556 ┆ 4          │\n│ F92D04C8   ┆ Inc.       ┆           ┆ scdn.co/mp ┆   ┆          ┆         ┆         ┆            │\n│            ┆            ┆           ┆ 3-preview/ ┆   ┆          ┆         ┆         ┆            │\n│            ┆            ┆           ┆ 73…        ┆   ┆          ┆         ┆         ┆            │\n│ …          ┆ …          ┆ …         ┆ …          ┆ … ┆ …        ┆ …       ┆ …       ┆ …          │\n│ TRUVVQK128 ┆ PLAY THE   ┆ ストレイ  ┆ https://p. ┆ … ┆ 0.346    ┆ 0.362   ┆ 177.915 ┆ 3          │\n│ F4285D05   ┆ STAR       ┆ テナー    ┆ scdn.co/mp ┆   ┆          ┆         ┆         ┆            │\n│            ┆ GUITAR     ┆           ┆ 3-preview/ ┆   ┆          ┆         ┆         ┆            │\n│            ┆            ┆           ┆ b2…        ┆   ┆          ┆         ┆         ┆            │\n│ TRTBIEH128 ┆ Let It All ┆ Boom Boom ┆ https://p. ┆ … ┆ 0.164    ┆ 0.118   ┆ 103.008 ┆ 4          │\n│ F427C13C   ┆ Come Down  ┆ Satellite ┆ scdn.co/mp ┆   ┆          ┆         ┆         ┆            │\n│            ┆            ┆ s         ┆ 3-preview/ ┆   ┆          ┆         ┆         ┆            │\n│            ┆            ┆           ┆ 5d…        ┆   ┆          ┆         ┆         ┆            │\n│ TRPIGDW129 ┆ Slip of    ┆ Fact      ┆ https://p. ┆ … ┆ 0.379    ┆ 0.224   ┆ 100.08  ┆ 4          │\n│ 03CDEB2D   ┆ the Lip    ┆           ┆ scdn.co/mp ┆   ┆          ┆         ┆         ┆            │\n│            ┆            ┆           ┆ 3-preview/ ┆   ┆          ┆         ┆         ┆            │\n│            ┆            ┆           ┆ cf…        ┆   ┆          ┆         ┆         ┆            │\n│ TRIPFKO128 ┆ Hide &     ┆ 9mm Parab ┆ https://p. ┆ … ┆ 0.203    ┆ 0.138   ┆ 136.475 ┆ 4          │\n│ F42383FE   ┆ Seek       ┆ ellum     ┆ scdn.co/mp ┆   ┆          ┆         ┆         ┆            │\n│            ┆            ┆ Bullet    ┆ 3-preview/ ┆   ┆          ┆         ┆         ┆            │\n│            ┆            ┆           ┆ 91…        ┆   ┆          ┆         ┆         ┆            │\n└────────────┴────────────┴───────────┴────────────┴───┴──────────┴─────────┴─────────┴────────────┘",
      "text/html": "<div><style>\n.dataframe > thead > tr > th,\n.dataframe > tbody > tr > td {\n  text-align: right;\n}\n</style>\n<small>shape: (12_678, 21)</small><table border=\"1\" class=\"dataframe\"><thead><tr><th>track_id</th><th>name</th><th>artist</th><th>spotify_preview_url</th><th>spotify_id</th><th>tags</th><th>genre</th><th>year</th><th>duration_ms</th><th>danceability</th><th>energy</th><th>key</th><th>loudness</th><th>mode</th><th>speechiness</th><th>acousticness</th><th>instrumentalness</th><th>liveness</th><th>valence</th><th>tempo</th><th>time_signature</th></tr><tr><td>str</td><td>str</td><td>str</td><td>str</td><td>str</td><td>list[str]</td><td>str</td><td>i64</td><td>i64</td><td>f64</td><td>f64</td><td>i64</td><td>f64</td><td>i64</td><td>f64</td><td>f64</td><td>f64</td><td>f64</td><td>f64</td><td>f64</td><td>i64</td></tr></thead><tbody><tr><td>&quot;TROUVHL128F426…</td><td>&quot;Come as You Ar…</td><td>&quot;Nirvana&quot;</td><td>&quot;https://p.scdn…</td><td>&quot;0keNu0t0tqsWtE…</td><td>[&quot;rock&quot;, &quot;alternative&quot;, … &quot;grunge&quot;]</td><td>&quot;RnB&quot;</td><td>1991</td><td>218920</td><td>0.508</td><td>0.826</td><td>4</td><td>-5.783</td><td>0</td><td>0.04</td><td>0.000175</td><td>0.000459</td><td>0.0878</td><td>0.543</td><td>120.012</td><td>4</td></tr><tr><td>&quot;TRLNZBD128F935…</td><td>&quot;Creep&quot;</td><td>&quot;Radiohead&quot;</td><td>&quot;https://p.scdn…</td><td>&quot;01QoK9DA7VTeTS…</td><td>[&quot;rock&quot;, &quot;alternative&quot;, … &quot;britpop&quot;]</td><td>&quot;RnB&quot;</td><td>2008</td><td>238640</td><td>0.515</td><td>0.43</td><td>7</td><td>-9.935</td><td>1</td><td>0.0369</td><td>0.0102</td><td>0.000141</td><td>0.129</td><td>0.104</td><td>91.841</td><td>4</td></tr><tr><td>&quot;TRIODZU128E078…</td><td>&quot;Under the Brid…</td><td>&quot;Red Hot Chili …</td><td>&quot;https://p.scdn…</td><td>&quot;06zh28PcYIFvNO…</td><td>[&quot;rock&quot;, &quot;alternative&quot;, … &quot;funk&quot;]</td><td>&quot;Pop&quot;</td><td>2003</td><td>265506</td><td>0.554</td><td>0.49</td><td>4</td><td>-8.046</td><td>1</td><td>0.0457</td><td>0.0168</td><td>0.000534</td><td>0.136</td><td>0.513</td><td>84.275</td><td>4</td></tr><tr><td>&quot;TRYEZGE128F92D…</td><td>&quot;Feel Good Inc.…</td><td>&quot;Gorillaz&quot;</td><td>&quot;https://p.scdn…</td><td>&quot;09xrHi86kLkEIz…</td><td>[&quot;rock&quot;, &quot;electronic&quot;, … &quot;trip_hop&quot;]</td><td>&quot;RnB&quot;</td><td>2010</td><td>223106</td><td>0.809</td><td>0.72</td><td>6</td><td>-7.776</td><td>1</td><td>0.136</td><td>0.0337</td><td>0.00141</td><td>0.826</td><td>0.832</td><td>138.556</td><td>4</td></tr><tr><td>&quot;TRUENYK128F427…</td><td>&quot;Chop Suey!&quot;</td><td>&quot;System of a Do…</td><td>&quot;https://p.scdn…</td><td>&quot;0EIIqshB4doby2…</td><td>[&quot;rock&quot;, &quot;alternative&quot;, … &quot;nu_metal&quot;]</td><td>&quot;Metal&quot;</td><td>2008</td><td>210480</td><td>0.42</td><td>0.925</td><td>7</td><td>-4.217</td><td>0</td><td>0.12</td><td>0.000363</td><td>0.002</td><td>0.1</td><td>0.322</td><td>127.422</td><td>4</td></tr><tr><td>&quot;TRWEHTV12903D0…</td><td>&quot;Use Somebody&quot;</td><td>&quot;Kings of Leon&quot;</td><td>&quot;https://p.scdn…</td><td>&quot;03BednbxXIA23k…</td><td>[&quot;rock&quot;, &quot;alternative&quot;, … &quot;indie_rock&quot;]</td><td>&quot;Electronic&quot;</td><td>2003</td><td>230960</td><td>0.276</td><td>0.755</td><td>0</td><td>-5.406</td><td>1</td><td>0.046</td><td>0.00583</td><td>0.000543</td><td>0.183</td><td>0.194</td><td>137.149</td><td>4</td></tr><tr><td>&quot;TRIQWYH128F148…</td><td>&quot;Paranoid Andro…</td><td>&quot;Radiohead&quot;</td><td>&quot;https://p.scdn…</td><td>&quot;0bomiLGPTUNyk3…</td><td>[&quot;rock&quot;, &quot;electronic&quot;, … &quot;britpop&quot;]</td><td>&quot;Jazz&quot;</td><td>2012</td><td>384933</td><td>0.232</td><td>0.8</td><td>5</td><td>-6.863</td><td>1</td><td>0.0573</td><td>0.0523</td><td>0.00606</td><td>0.118</td><td>0.299</td><td>81.849</td><td>4</td></tr><tr><td>&quot;TRUOEWJ128F934…</td><td>&quot;Stairway to He…</td><td>&quot;Led Zeppelin&quot;</td><td>&quot;https://p.scdn…</td><td>&quot;03hLW9osM6UuNq…</td><td>[&quot;rock&quot;, &quot;classic_rock&quot;, … &quot;70s&quot;]</td><td>&quot;Punk&quot;</td><td>2013</td><td>488019</td><td>0.354</td><td>0.361</td><td>9</td><td>-12.722</td><td>0</td><td>0.0509</td><td>0.625</td><td>0.0112</td><td>0.35</td><td>0.212</td><td>80.36</td><td>4</td></tr><tr><td>&quot;TRAOMFT128F42A…</td><td>&quot;Losing My Reli…</td><td>&quot;R.E.M.&quot;</td><td>&quot;https://p.scdn…</td><td>&quot;04pRvt8HcPmmP6…</td><td>[&quot;rock&quot;, &quot;alternative&quot;, … &quot;90s&quot;]</td><td>&quot;Pop&quot;</td><td>2014</td><td>288160</td><td>0.668</td><td>0.736</td><td>9</td><td>-10.753</td><td>0</td><td>0.0277</td><td>0.0115</td><td>0.000259</td><td>0.337</td><td>0.629</td><td>126.978</td><td>4</td></tr><tr><td>&quot;TRSFPEE128F429…</td><td>&quot;In Bloom&quot;</td><td>&quot;Nirvana&quot;</td><td>&quot;https://p.scdn…</td><td>&quot;2qdRHMosT8YO3z…</td><td>[&quot;rock&quot;, &quot;alternative&quot;, … &quot;grunge&quot;]</td><td>&quot;Punk&quot;</td><td>1991</td><td>254760</td><td>0.433</td><td>0.744</td><td>10</td><td>-8.97</td><td>0</td><td>0.0449</td><td>0.00001</td><td>0.0000773</td><td>0.29</td><td>0.595</td><td>157.18</td><td>4</td></tr><tr><td>&quot;TRLPNCR128F426…</td><td>&quot;Can&#x27;t Stop&quot;</td><td>&quot;Red Hot Chili …</td><td>&quot;https://p.scdn…</td><td>&quot;3ZOEytgrvLwQaq…</td><td>[&quot;rock&quot;, &quot;alternative&quot;, … &quot;funk&quot;]</td><td>&quot;Electronic&quot;</td><td>2002</td><td>269000</td><td>0.618</td><td>0.938</td><td>9</td><td>-3.442</td><td>1</td><td>0.0456</td><td>0.0179</td><td>0.0</td><td>0.167</td><td>0.875</td><td>91.455</td><td>4</td></tr><tr><td>&quot;TRFROHP128F930…</td><td>&quot;Nothing Else M…</td><td>&quot;Metallica&quot;</td><td>&quot;https://p.scdn…</td><td>&quot;0nLiqZ6A27jJri…</td><td>[&quot;rock&quot;, &quot;metal&quot;, … &quot;90s&quot;]</td><td>&quot;Metal&quot;</td><td>1991</td><td>388266</td><td>0.553</td><td>0.362</td><td>4</td><td>-11.218</td><td>0</td><td>0.0263</td><td>0.0458</td><td>0.000006</td><td>0.075</td><td>0.158</td><td>142.352</td><td>3</td></tr><tr><td>&hellip;</td><td>&hellip;</td><td>&hellip;</td><td>&hellip;</td><td>&hellip;</td><td>&hellip;</td><td>&hellip;</td><td>&hellip;</td><td>&hellip;</td><td>&hellip;</td><td>&hellip;</td><td>&hellip;</td><td>&hellip;</td><td>&hellip;</td><td>&hellip;</td><td>&hellip;</td><td>&hellip;</td><td>&hellip;</td><td>&hellip;</td><td>&hellip;</td><td>&hellip;</td></tr><tr><td>&quot;TRFWEHR12903CF…</td><td>&quot;Morose Seclusi…</td><td>&quot;Into Eternity&quot;</td><td>&quot;https://p.scdn…</td><td>&quot;0kuqYvVbCPfVbN…</td><td>[&quot;progressive_metal&quot;]</td><td>&quot;Metal&quot;</td><td>2004</td><td>201813</td><td>0.368</td><td>0.327</td><td>5</td><td>-8.413</td><td>0</td><td>0.0297</td><td>0.753</td><td>0.0</td><td>0.168</td><td>0.239</td><td>142.099</td><td>4</td></tr><tr><td>&quot;TRLMAZQ128F422…</td><td>&quot;Mysterium&quot;</td><td>&quot;Liturgy&quot;</td><td>&quot;https://p.scdn…</td><td>&quot;0U5dVgE3RLDPGj…</td><td>[&quot;black_metal&quot;]</td><td>&quot;Jazz&quot;</td><td>2009</td><td>283213</td><td>0.213</td><td>0.323</td><td>4</td><td>-5.553</td><td>0</td><td>0.094</td><td>0.0000163</td><td>0.956</td><td>0.126</td><td>0.0368</td><td>95.272</td><td>3</td></tr><tr><td>&quot;TRYSJQG12903CA…</td><td>&quot;City Hall&quot;</td><td>&quot;Upon a Burning…</td><td>&quot;https://p.scdn…</td><td>&quot;4F8FHiefGYVzX8…</td><td>[&quot;metalcore&quot;]</td><td>&quot;Rock&quot;</td><td>2010</td><td>396946</td><td>0.149</td><td>0.958</td><td>2</td><td>-4.934</td><td>0</td><td>0.0875</td><td>0.0000467</td><td>0.0852</td><td>0.281</td><td>0.161</td><td>139.092</td><td>4</td></tr><tr><td>&quot;TRVOSLO128F930…</td><td>&quot;Damned Below J…</td><td>&quot;Hatesphere&quot;</td><td>&quot;https://p.scdn…</td><td>&quot;1tAOC2y8r0PJeN…</td><td>[&quot;thrash_metal&quot;]</td><td>&quot;Metal&quot;</td><td>2007</td><td>279040</td><td>0.542</td><td>0.971</td><td>8</td><td>-3.799</td><td>1</td><td>0.0915</td><td>0.000002</td><td>0.822</td><td>0.289</td><td>0.195</td><td>114.026</td><td>4</td></tr><tr><td>&quot;TRBXGZD128F930…</td><td>&quot;Let Them Hate&quot;</td><td>&quot;Hatesphere&quot;</td><td>&quot;https://p.scdn…</td><td>&quot;1FRwuQfvEv7Lk2…</td><td>[&quot;thrash_metal&quot;]</td><td>&quot;Metal&quot;</td><td>2007</td><td>319720</td><td>0.499</td><td>0.969</td><td>9</td><td>-3.822</td><td>1</td><td>0.0824</td><td>0.000005</td><td>0.156</td><td>0.123</td><td>0.116</td><td>111.995</td><td>4</td></tr><tr><td>&quot;TRYRGLR128F930…</td><td>&quot;Yap&quot;</td><td>&quot;ONE OK ROCK&quot;</td><td>&quot;https://p.scdn…</td><td>&quot;0MRAbkWrTgxTnn…</td><td>[&quot;rock&quot;, &quot;japanese&quot;]</td><td>&quot;Electronic&quot;</td><td>2008</td><td>166960</td><td>0.416</td><td>0.906</td><td>10</td><td>-6.783</td><td>1</td><td>0.0541</td><td>0.00568</td><td>0.0</td><td>0.105</td><td>0.875</td><td>186.075</td><td>4</td></tr><tr><td>&quot;TRKPZEB128F427…</td><td>&quot;TRAIN&quot;</td><td>&quot;ストレイテナー&quot;</td><td>&quot;https://p.scdn…</td><td>&quot;3XGijtvu06KtJL…</td><td>[&quot;japanese&quot;]</td><td>&quot;Rock&quot;</td><td>2013</td><td>229066</td><td>0.413</td><td>0.991</td><td>8</td><td>-2.194</td><td>1</td><td>0.135</td><td>0.000162</td><td>0.000995</td><td>0.196</td><td>0.285</td><td>133.032</td><td>4</td></tr><tr><td>&quot;TRDGROB128F934…</td><td>&quot;Perfect Moment…</td><td>&quot;Hyde&quot;</td><td>&quot;https://p.scdn…</td><td>&quot;12yBi0cbCQetKO…</td><td>[&quot;japanese&quot;]</td><td>&quot;Pop&quot;</td><td>2006</td><td>271320</td><td>0.357</td><td>0.81</td><td>7</td><td>-5.135</td><td>1</td><td>0.0419</td><td>0.111</td><td>0.182</td><td>0.123</td><td>0.315</td><td>94.032</td><td>4</td></tr><tr><td>&quot;TRUVVQK128F428…</td><td>&quot;PLAY THE STAR …</td><td>&quot;ストレイテナー&quot;</td><td>&quot;https://p.scdn…</td><td>&quot;08DV3XFyng89Hb…</td><td>[&quot;alternative&quot;, &quot;alternative_rock&quot;, &quot;japanese&quot;]</td><td>&quot;Rock&quot;</td><td>2004</td><td>185760</td><td>0.17</td><td>0.93</td><td>6</td><td>-3.985</td><td>1</td><td>0.135</td><td>0.000326</td><td>0.000141</td><td>0.346</td><td>0.362</td><td>177.915</td><td>3</td></tr><tr><td>&quot;TRTBIEH128F427…</td><td>&quot;Let It All Com…</td><td>&quot;Boom Boom Sate…</td><td>&quot;https://p.scdn…</td><td>&quot;47tFsBHLZ1ETuu…</td><td>[&quot;electronic&quot;, &quot;japanese&quot;]</td><td>&quot;Rock&quot;</td><td>1998</td><td>282093</td><td>0.57</td><td>0.926</td><td>1</td><td>-5.766</td><td>0</td><td>0.0672</td><td>0.0286</td><td>0.000708</td><td>0.164</td><td>0.118</td><td>103.008</td><td>4</td></tr><tr><td>&quot;TRPIGDW12903CD…</td><td>&quot;Slip of the Li…</td><td>&quot;Fact&quot;</td><td>&quot;https://p.scdn…</td><td>&quot;0PG7cpyNzRehf1…</td><td>[&quot;alternative_rock&quot;, &quot;punk_rock&quot;]</td><td>&quot;Rock&quot;</td><td>2010</td><td>183640</td><td>0.423</td><td>0.98</td><td>2</td><td>-4.068</td><td>1</td><td>0.184</td><td>0.000986</td><td>0.000002</td><td>0.379</td><td>0.224</td><td>100.08</td><td>4</td></tr><tr><td>&quot;TRIPFKO128F423…</td><td>&quot;Hide &amp; Seek&quot;</td><td>&quot;9mm Parabellum…</td><td>&quot;https://p.scdn…</td><td>&quot;3LW19oCCXxiqRc…</td><td>[&quot;rock&quot;, &quot;japanese&quot;]</td><td>&quot;Electronic&quot;</td><td>2008</td><td>131960</td><td>0.19</td><td>0.953</td><td>8</td><td>-4.144</td><td>1</td><td>0.131</td><td>0.0000333</td><td>0.0511</td><td>0.203</td><td>0.138</td><td>136.475</td><td>4</td></tr></tbody></table></div>"
     },
     "execution_count": 10,
     "metadata": {},
     "output_type": "execute_result"
    }
   ],
   "source": [
    "tracks_lf.drop_nulls().select(pl.all()).filter(tag_equals_to_genre().is_not()).collect()"
   ],
   "metadata": {
    "collapsed": false,
    "pycharm": {
     "name": "#%%\n"
    }
   }
  },
  {
   "cell_type": "code",
   "execution_count": 11,
   "outputs": [],
   "source": [
    "def genre_is_tag() -> pl.expr.expr.Expr:\n",
    "    return pl.col('genre').str.to_lowercase().is_in(pl.col('tags'))"
   ],
   "metadata": {
    "collapsed": false,
    "pycharm": {
     "name": "#%%\n"
    }
   }
  },
  {
   "cell_type": "code",
   "execution_count": 12,
   "outputs": [
    {
     "data": {
      "text/plain": "shape: (1, 1)\n┌──────────┐\n│ genre    │\n│ ---      │\n│ f64      │\n╞══════════╡\n│ 0.465459 │\n└──────────┘",
      "text/html": "<div><style>\n.dataframe > thead > tr > th,\n.dataframe > tbody > tr > td {\n  text-align: right;\n}\n</style>\n<small>shape: (1, 1)</small><table border=\"1\" class=\"dataframe\"><thead><tr><th>genre</th></tr><tr><td>f64</td></tr></thead><tbody><tr><td>0.465459</td></tr></tbody></table></div>"
     },
     "execution_count": 12,
     "metadata": {},
     "output_type": "execute_result"
    }
   ],
   "source": [
    "tracks_lf.drop_nulls().select(\n",
    "    genre_is_tag().sum()\n",
    "    /\n",
    "    pl.col('genre').count()\n",
    ").collect()"
   ],
   "metadata": {
    "collapsed": false,
    "pycharm": {
     "name": "#%%\n"
    }
   }
  },
  {
   "cell_type": "code",
   "execution_count": 162,
   "outputs": [
    {
     "data": {
      "text/plain": "shape: (50_683, 21)\n┌────────────┬────────────┬───────────┬────────────┬───┬──────────┬─────────┬─────────┬────────────┐\n│ track_id   ┆ name       ┆ artist    ┆ spotify_pr ┆ … ┆ liveness ┆ valence ┆ tempo   ┆ time_signa │\n│ ---        ┆ ---        ┆ ---       ┆ eview_url  ┆   ┆ ---      ┆ ---     ┆ ---     ┆ ture       │\n│ str        ┆ str        ┆ str       ┆ ---        ┆   ┆ f64      ┆ f64     ┆ f64     ┆ ---        │\n│            ┆            ┆           ┆ str        ┆   ┆          ┆         ┆         ┆ i64        │\n╞════════════╪════════════╪═══════════╪════════════╪═══╪══════════╪═════════╪═════════╪════════════╡\n│ TRIOREW128 ┆ Mr.        ┆ The       ┆ https://p. ┆ … ┆ 0.0971   ┆ 0.24    ┆ 148.114 ┆ 4          │\n│ F424EAF0   ┆ Brightside ┆ Killers   ┆ scdn.co/mp ┆   ┆          ┆         ┆         ┆            │\n│            ┆            ┆           ┆ 3-preview/ ┆   ┆          ┆         ┆         ┆            │\n│            ┆            ┆           ┆ 4d…        ┆   ┆          ┆         ┆         ┆            │\n│ TRRIVDJ128 ┆ Wonderwall ┆ Oasis     ┆ https://p. ┆ … ┆ 0.207    ┆ 0.651   ┆ 174.426 ┆ 4          │\n│ F429B0E8   ┆            ┆           ┆ scdn.co/mp ┆   ┆          ┆         ┆         ┆            │\n│            ┆            ┆           ┆ 3-preview/ ┆   ┆          ┆         ┆         ┆            │\n│            ┆            ┆           ┆ d0…        ┆   ┆          ┆         ┆         ┆            │\n│ TROUVHL128 ┆ Come as    ┆ Nirvana   ┆ https://p. ┆ … ┆ 0.0878   ┆ 0.543   ┆ 120.012 ┆ 4          │\n│ F426C441   ┆ You Are    ┆           ┆ scdn.co/mp ┆   ┆          ┆         ┆         ┆            │\n│            ┆            ┆           ┆ 3-preview/ ┆   ┆          ┆         ┆         ┆            │\n│            ┆            ┆           ┆ a1…        ┆   ┆          ┆         ┆         ┆            │\n│ TRUEIND128 ┆ Take Me    ┆ Franz     ┆ https://p. ┆ … ┆ 0.133    ┆ 0.49    ┆ 104.56  ┆ 4          │\n│ F93038C4   ┆ Out        ┆ Ferdinand ┆ scdn.co/mp ┆   ┆          ┆         ┆         ┆            │\n│            ┆            ┆           ┆ 3-preview/ ┆   ┆          ┆         ┆         ┆            │\n│            ┆            ┆           ┆ 39…        ┆   ┆          ┆         ┆         ┆            │\n│ …          ┆ …          ┆ …         ┆ …          ┆ … ┆ …        ┆ …       ┆ …       ┆ …          │\n│ TRHQCSH128 ┆ Colors Of  ┆ ACIDMAN   ┆ https://p. ┆ … ┆ 0.192    ┆ 0.45    ┆ 200.35  ┆ 4          │\n│ F42724B7   ┆ The Wind   ┆           ┆ scdn.co/mp ┆   ┆          ┆         ┆         ┆            │\n│            ┆            ┆           ┆ 3-preview/ ┆   ┆          ┆         ┆         ┆            │\n│            ┆            ┆           ┆ 8e…        ┆   ┆          ┆         ┆         ┆            │\n│ TRZRODK128 ┆ The        ┆ coldrain  ┆ https://p. ┆ … ┆ 0.163    ┆ 0.282   ┆ 158.025 ┆ 4          │\n│ F92D68D7   ┆ Revelation ┆           ┆ scdn.co/mp ┆   ┆          ┆         ┆         ┆            │\n│            ┆            ┆           ┆ 3-preview/ ┆   ┆          ┆         ┆         ┆            │\n│            ┆            ┆           ┆ 4b…        ┆   ┆          ┆         ┆         ┆            │\n│ TRGLMEM128 ┆ Koi no     ┆ アンティ  ┆ https://p. ┆ … ┆ 0.0571   ┆ 0.618   ┆ 109.923 ┆ 4          │\n│ F9322F63   ┆ Dependence ┆ ック-珈琲 ┆ scdn.co/mp ┆   ┆          ┆         ┆         ┆            │\n│            ┆            ┆ 店-       ┆ 3-preview/ ┆   ┆          ┆         ┆         ┆            │\n│            ┆            ┆           ┆ 5a…        ┆   ┆          ┆         ┆         ┆            │\n│ TRIPFKO128 ┆ Hide &     ┆ 9mm Parab ┆ https://p. ┆ … ┆ 0.203    ┆ 0.138   ┆ 136.475 ┆ 4          │\n│ F42383FE   ┆ Seek       ┆ ellum     ┆ scdn.co/mp ┆   ┆          ┆         ┆         ┆            │\n│            ┆            ┆ Bullet    ┆ 3-preview/ ┆   ┆          ┆         ┆         ┆            │\n│            ┆            ┆           ┆ 91…        ┆   ┆          ┆         ┆         ┆            │\n└────────────┴────────────┴───────────┴────────────┴───┴──────────┴─────────┴─────────┴────────────┘",
      "text/html": "<div><style>\n.dataframe > thead > tr > th,\n.dataframe > tbody > tr > td {\n  text-align: right;\n}\n</style>\n<small>shape: (50_683, 21)</small><table border=\"1\" class=\"dataframe\"><thead><tr><th>track_id</th><th>name</th><th>artist</th><th>spotify_preview_url</th><th>spotify_id</th><th>tags</th><th>genre</th><th>year</th><th>duration_ms</th><th>danceability</th><th>energy</th><th>key</th><th>loudness</th><th>mode</th><th>speechiness</th><th>acousticness</th><th>instrumentalness</th><th>liveness</th><th>valence</th><th>tempo</th><th>time_signature</th></tr><tr><td>str</td><td>str</td><td>str</td><td>str</td><td>str</td><td>list[str]</td><td>str</td><td>i64</td><td>i64</td><td>f64</td><td>f64</td><td>i64</td><td>f64</td><td>i64</td><td>f64</td><td>f64</td><td>f64</td><td>f64</td><td>f64</td><td>f64</td><td>i64</td></tr></thead><tbody><tr><td>&quot;TRIOREW128F424…</td><td>&quot;Mr. Brightside…</td><td>&quot;The Killers&quot;</td><td>&quot;https://p.scdn…</td><td>&quot;09ZQ5TmUG8TSL5…</td><td>[&quot;rock&quot;, &quot;alternative&quot;, … null]</td><td>null</td><td>2004</td><td>222200</td><td>0.355</td><td>0.918</td><td>1</td><td>-4.36</td><td>1</td><td>0.0746</td><td>0.00119</td><td>0.0</td><td>0.0971</td><td>0.24</td><td>148.114</td><td>4</td></tr><tr><td>&quot;TRRIVDJ128F429…</td><td>&quot;Wonderwall&quot;</td><td>&quot;Oasis&quot;</td><td>&quot;https://p.scdn…</td><td>&quot;06UfBBDISthj1Z…</td><td>[&quot;rock&quot;, &quot;alternative&quot;, … null]</td><td>null</td><td>2006</td><td>258613</td><td>0.409</td><td>0.892</td><td>2</td><td>-4.373</td><td>1</td><td>0.0336</td><td>0.000807</td><td>0.0</td><td>0.207</td><td>0.651</td><td>174.426</td><td>4</td></tr><tr><td>&quot;TROUVHL128F426…</td><td>&quot;Come as You Ar…</td><td>&quot;Nirvana&quot;</td><td>&quot;https://p.scdn…</td><td>&quot;0keNu0t0tqsWtE…</td><td>[&quot;rock&quot;, &quot;alternative&quot;, … &quot;rnb&quot;]</td><td>&quot;RnB&quot;</td><td>1991</td><td>218920</td><td>0.508</td><td>0.826</td><td>4</td><td>-5.783</td><td>0</td><td>0.04</td><td>0.000175</td><td>0.000459</td><td>0.0878</td><td>0.543</td><td>120.012</td><td>4</td></tr><tr><td>&quot;TRUEIND128F930…</td><td>&quot;Take Me Out&quot;</td><td>&quot;Franz Ferdinan…</td><td>&quot;https://p.scdn…</td><td>&quot;0ancVQ9wEcHVd0…</td><td>[&quot;rock&quot;, &quot;alternative&quot;, … null]</td><td>null</td><td>2004</td><td>237026</td><td>0.279</td><td>0.664</td><td>9</td><td>-8.851</td><td>1</td><td>0.0371</td><td>0.000389</td><td>0.000655</td><td>0.133</td><td>0.49</td><td>104.56</td><td>4</td></tr><tr><td>&quot;TRLNZBD128F935…</td><td>&quot;Creep&quot;</td><td>&quot;Radiohead&quot;</td><td>&quot;https://p.scdn…</td><td>&quot;01QoK9DA7VTeTS…</td><td>[&quot;rock&quot;, &quot;alternative&quot;, … &quot;rnb&quot;]</td><td>&quot;RnB&quot;</td><td>2008</td><td>238640</td><td>0.515</td><td>0.43</td><td>7</td><td>-9.935</td><td>1</td><td>0.0369</td><td>0.0102</td><td>0.000141</td><td>0.129</td><td>0.104</td><td>91.841</td><td>4</td></tr><tr><td>&quot;TRUMISQ128F934…</td><td>&quot;Somebody Told …</td><td>&quot;The Killers&quot;</td><td>&quot;https://p.scdn…</td><td>&quot;0FNmIQ7u45Lhdn…</td><td>[&quot;rock&quot;, &quot;alternative&quot;, … null]</td><td>null</td><td>2005</td><td>198480</td><td>0.508</td><td>0.979</td><td>10</td><td>-4.289</td><td>0</td><td>0.0847</td><td>0.0000871</td><td>0.000643</td><td>0.0641</td><td>0.704</td><td>138.03</td><td>4</td></tr><tr><td>&quot;TRVCCWR128F930…</td><td>&quot;Viva la Vida&quot;</td><td>&quot;Coldplay&quot;</td><td>&quot;https://p.scdn…</td><td>&quot;08A1lZeyLMWH58…</td><td>[&quot;rock&quot;, &quot;alternative&quot;, … null]</td><td>null</td><td>2013</td><td>235384</td><td>0.588</td><td>0.806</td><td>8</td><td>-7.903</td><td>1</td><td>0.105</td><td>0.153</td><td>0.0</td><td>0.0634</td><td>0.52</td><td>137.973</td><td>4</td></tr><tr><td>&quot;TRXOGZT128F424…</td><td>&quot;Karma Police&quot;</td><td>&quot;Radiohead&quot;</td><td>&quot;https://p.scdn…</td><td>&quot;01puceOqImrzSf…</td><td>[&quot;rock&quot;, &quot;alternative&quot;, … null]</td><td>null</td><td>1996</td><td>264066</td><td>0.36</td><td>0.505</td><td>7</td><td>-9.129</td><td>1</td><td>0.026</td><td>0.0626</td><td>0.0000922</td><td>0.172</td><td>0.317</td><td>74.807</td><td>4</td></tr><tr><td>&quot;TRMZXEW128F934…</td><td>&quot;The Scientist&quot;</td><td>&quot;Coldplay&quot;</td><td>&quot;https://p.scdn…</td><td>&quot;0GSSsT9szp0rJk…</td><td>[&quot;rock&quot;, &quot;alternative&quot;, … &quot;rock&quot;]</td><td>&quot;Rock&quot;</td><td>2007</td><td>311014</td><td>0.566</td><td>0.429</td><td>5</td><td>-7.826</td><td>1</td><td>0.0242</td><td>0.715</td><td>0.0000144</td><td>0.12</td><td>0.173</td><td>146.365</td><td>4</td></tr><tr><td>&quot;TRUJIIV12903CA…</td><td>&quot;Clocks&quot;</td><td>&quot;Coldplay&quot;</td><td>&quot;https://p.scdn…</td><td>&quot;0BCPKOYdS2jbQ8…</td><td>[&quot;rock&quot;, &quot;alternative&quot;, … null]</td><td>null</td><td>2002</td><td>307879</td><td>0.577</td><td>0.749</td><td>5</td><td>-7.215</td><td>0</td><td>0.0279</td><td>0.599</td><td>0.0115</td><td>0.183</td><td>0.255</td><td>130.97</td><td>4</td></tr><tr><td>&quot;TRIODZU128E078…</td><td>&quot;Under the Brid…</td><td>&quot;Red Hot Chili …</td><td>&quot;https://p.scdn…</td><td>&quot;06zh28PcYIFvNO…</td><td>[&quot;rock&quot;, &quot;alternative&quot;, … &quot;pop&quot;]</td><td>&quot;Pop&quot;</td><td>2003</td><td>265506</td><td>0.554</td><td>0.49</td><td>4</td><td>-8.046</td><td>1</td><td>0.0457</td><td>0.0168</td><td>0.000534</td><td>0.136</td><td>0.513</td><td>84.275</td><td>4</td></tr><tr><td>&quot;TRURKLR12903CE…</td><td>&quot;Seven Nation A…</td><td>&quot;The White Stri…</td><td>&quot;https://p.scdn…</td><td>&quot;025zyxycElQVXw…</td><td>[&quot;rock&quot;, &quot;alternative&quot;, … null]</td><td>null</td><td>2008</td><td>232680</td><td>0.759</td><td>0.465</td><td>4</td><td>-7.602</td><td>0</td><td>0.0806</td><td>0.00662</td><td>0.288</td><td>0.257</td><td>0.305</td><td>124.049</td><td>4</td></tr><tr><td>&hellip;</td><td>&hellip;</td><td>&hellip;</td><td>&hellip;</td><td>&hellip;</td><td>&hellip;</td><td>&hellip;</td><td>&hellip;</td><td>&hellip;</td><td>&hellip;</td><td>&hellip;</td><td>&hellip;</td><td>&hellip;</td><td>&hellip;</td><td>&hellip;</td><td>&hellip;</td><td>&hellip;</td><td>&hellip;</td><td>&hellip;</td><td>&hellip;</td><td>&hellip;</td></tr><tr><td>&quot;TRXJFMF128F92E…</td><td>&quot;Living Dying M…</td><td>&quot;9mm Parabellum…</td><td>&quot;https://p.scdn…</td><td>&quot;4QhkbkPgVzg7H0…</td><td>[&quot;rock&quot;, null]</td><td>null</td><td>2008</td><td>160733</td><td>0.507</td><td>0.916</td><td>7</td><td>-2.906</td><td>1</td><td>0.0642</td><td>0.00104</td><td>0.0</td><td>0.254</td><td>0.534</td><td>95.001</td><td>4</td></tr><tr><td>&quot;TRNIBCG128F92E…</td><td>&quot;Keyword&quot;</td><td>&quot;9mm Parabellum…</td><td>&quot;https://p.scdn…</td><td>&quot;5lQatPubYHgBIK…</td><td>[&quot;rock&quot;, &quot;japanese&quot;, &quot;rock&quot;]</td><td>&quot;Rock&quot;</td><td>2008</td><td>203226</td><td>0.279</td><td>0.974</td><td>8</td><td>-3.481</td><td>1</td><td>0.126</td><td>0.000811</td><td>0.0000408</td><td>0.0477</td><td>0.256</td><td>192.071</td><td>4</td></tr><tr><td>&quot;TROIHJK12903CE…</td><td>&quot;you&quot;</td><td>&quot;High And Might…</td><td>&quot;https://p.scdn…</td><td>&quot;567nudtJeyQ5Tq…</td><td>[&quot;rock&quot;, &quot;female_vocalists&quot;, … null]</td><td>null</td><td>2009</td><td>241476</td><td>0.34</td><td>0.838</td><td>7</td><td>-4.434</td><td>1</td><td>0.0485</td><td>0.00191</td><td>0.0552</td><td>0.132</td><td>0.403</td><td>174.018</td><td>4</td></tr><tr><td>&quot;TRMEHFD128F92E…</td><td>&quot;The Revenge of…</td><td>&quot;9mm Parabellum…</td><td>&quot;https://p.scdn…</td><td>&quot;2U98jGZIzsMmrV…</td><td>[&quot;rock&quot;, &quot;instrumental&quot;, … null]</td><td>null</td><td>2008</td><td>181560</td><td>0.337</td><td>0.98</td><td>5</td><td>-4.246</td><td>0</td><td>0.046</td><td>0.0407</td><td>0.916</td><td>0.0991</td><td>0.911</td><td>192.071</td><td>4</td></tr><tr><td>&quot;TRXWSIN128F933…</td><td>&quot;Infinite Love …</td><td>&quot;Maximilian Hec…</td><td>&quot;https://p.scdn…</td><td>&quot;2eIVm8hPf59hUS…</td><td>[&quot;electronic&quot;, &quot;indie_pop&quot;, … null]</td><td>null</td><td>2002</td><td>285800</td><td>0.549</td><td>0.675</td><td>10</td><td>-7.431</td><td>1</td><td>0.0332</td><td>0.129</td><td>0.437</td><td>0.122</td><td>0.551</td><td>99.679</td><td>4</td></tr><tr><td>&quot;TRONQMR12903CF…</td><td>&quot;Born To Be Fre…</td><td>&quot;X Japan&quot;</td><td>&quot;https://p.scdn…</td><td>&quot;6HG90PA8gZZedb…</td><td>null</td><td>null</td><td>2015</td><td>332848</td><td>0.316</td><td>0.875</td><td>4</td><td>-4.774</td><td>0</td><td>0.0607</td><td>0.000332</td><td>0.0000176</td><td>0.184</td><td>0.115</td><td>148.916</td><td>4</td></tr><tr><td>&quot;TRPIGDW12903CD…</td><td>&quot;Slip of the Li…</td><td>&quot;Fact&quot;</td><td>&quot;https://p.scdn…</td><td>&quot;0PG7cpyNzRehf1…</td><td>[&quot;alternative_rock&quot;, &quot;punk_rock&quot;, &quot;rock&quot;]</td><td>&quot;Rock&quot;</td><td>2010</td><td>183640</td><td>0.423</td><td>0.98</td><td>2</td><td>-4.068</td><td>1</td><td>0.184</td><td>0.000986</td><td>0.000002</td><td>0.379</td><td>0.224</td><td>100.08</td><td>4</td></tr><tr><td>&quot;TRQYCFV128F932…</td><td>&quot;Ryusei Rocket&quot;</td><td>&quot;アンティック-珈琲店-&quot;</td><td>&quot;https://p.scdn…</td><td>&quot;0tt1RdeJX1RyuU…</td><td>null</td><td>null</td><td>2008</td><td>273440</td><td>0.438</td><td>0.933</td><td>6</td><td>-3.062</td><td>0</td><td>0.165</td><td>0.00312</td><td>0.0</td><td>0.13</td><td>0.421</td><td>166.956</td><td>4</td></tr><tr><td>&quot;TRHQCSH128F427…</td><td>&quot;Colors Of The …</td><td>&quot;ACIDMAN&quot;</td><td>&quot;https://p.scdn…</td><td>&quot;3wkdfXGf5JYErW…</td><td>[&quot;rock&quot;, &quot;alternative_rock&quot;, … null]</td><td>null</td><td>2004</td><td>275133</td><td>0.351</td><td>0.693</td><td>0</td><td>-6.811</td><td>1</td><td>0.12</td><td>0.00094</td><td>0.0000489</td><td>0.192</td><td>0.45</td><td>200.35</td><td>4</td></tr><tr><td>&quot;TRZRODK128F92D…</td><td>&quot;The Revelation…</td><td>&quot;coldrain&quot;</td><td>&quot;https://p.scdn…</td><td>&quot;1gXMORZRGA40PE…</td><td>[&quot;metal&quot;, &quot;metalcore&quot;, … null]</td><td>null</td><td>2014</td><td>254826</td><td>0.434</td><td>0.975</td><td>10</td><td>-3.092</td><td>0</td><td>0.268</td><td>0.000108</td><td>0.00141</td><td>0.163</td><td>0.282</td><td>158.025</td><td>4</td></tr><tr><td>&quot;TRGLMEM128F932…</td><td>&quot;Koi no Depende…</td><td>&quot;アンティック-珈琲店-&quot;</td><td>&quot;https://p.scdn…</td><td>&quot;1dxMDGvIYHFYgR…</td><td>null</td><td>null</td><td>2008</td><td>243293</td><td>0.513</td><td>0.902</td><td>4</td><td>-3.914</td><td>0</td><td>0.053</td><td>0.000715</td><td>0.00135</td><td>0.0571</td><td>0.618</td><td>109.923</td><td>4</td></tr><tr><td>&quot;TRIPFKO128F423…</td><td>&quot;Hide &amp; Seek&quot;</td><td>&quot;9mm Parabellum…</td><td>&quot;https://p.scdn…</td><td>&quot;3LW19oCCXxiqRc…</td><td>[&quot;rock&quot;, &quot;japanese&quot;, &quot;electronic&quot;]</td><td>&quot;Electronic&quot;</td><td>2008</td><td>131960</td><td>0.19</td><td>0.953</td><td>8</td><td>-4.144</td><td>1</td><td>0.131</td><td>0.0000333</td><td>0.0511</td><td>0.203</td><td>0.138</td><td>136.475</td><td>4</td></tr></tbody></table></div>"
     },
     "execution_count": 162,
     "metadata": {},
     "output_type": "execute_result"
    }
   ],
   "source": [
    "def to_snake(text: str) -> str:\n",
    "    return text.replace(' ', '_').lower()\n",
    "\n",
    "tracks_lf.select(\n",
    "    pl.all()\n",
    ").with_columns(\n",
    "    pl.col('tags').arr.concat(pl.col('genre').apply(to_snake)).alias('tags')\n",
    ").collect()"
   ],
   "metadata": {
    "collapsed": false,
    "pycharm": {
     "name": "#%%\n"
    }
   }
  },
  {
   "cell_type": "code",
   "execution_count": 24,
   "outputs": [
    {
     "data": {
      "text/plain": "array([['Nirvana - Come as You Are', 'RnB',\n        array(['rock', 'alternative', 'alternative_rock', '90s', 'grunge'],\n              dtype=object)                                                ],\n       ['Radiohead - Creep', 'RnB',\n        array(['rock', 'alternative', 'indie', 'alternative_rock', 'indie_rock',\n               'british', '90s', 'britpop'], dtype=object)                      ],\n       ['Red Hot Chili Peppers - Under the Bridge', 'Pop',\n        array(['rock', 'alternative', 'alternative_rock', '90s', 'funk'],\n              dtype=object)                                              ],\n       ...,\n       ['Boom Boom Satellites - Let It All Come Down', 'Rock',\n        array(['electronic', 'japanese'], dtype=object)],\n       ['Fact - Slip of the Lip', 'Rock',\n        array(['alternative_rock', 'punk_rock'], dtype=object)],\n       ['9mm Parabellum Bullet - Hide & Seek', 'Electronic',\n        array(['rock', 'japanese'], dtype=object)]], dtype=object)"
     },
     "execution_count": 24,
     "metadata": {},
     "output_type": "execute_result"
    }
   ],
   "source": [
    "tracks_lf.drop_nulls().select([\n",
    "    (pl.col('artist') + ' - ' + pl.col('name')).alias('track'),\n",
    "    pl.col('genre'),\n",
    "    pl.col('tags')\n",
    "]).filter(genre_is_tag().is_not()).collect().to_numpy()"
   ],
   "metadata": {
    "collapsed": false,
    "pycharm": {
     "name": "#%%\n"
    }
   }
  },
  {
   "cell_type": "markdown",
   "source": [
    "Something seems to be off with genre column - its content does not match many of the songs.\n",
    "It would be instead more productive to treat subset of tags as genres, since they contain far more specific and accurate information. Multiple genres instead of one will also suport describing songs, that were more experimental and do not adhere to any single label."
   ],
   "metadata": {
    "collapsed": false,
    "pycharm": {
     "name": "#%% md\n"
    }
   }
  },
  {
   "cell_type": "code",
   "execution_count": 25,
   "outputs": [],
   "source": [
    "tracks_genreless_lf = tracks_lf.select(pl.all().exclude('genre'))"
   ],
   "metadata": {
    "collapsed": false,
    "pycharm": {
     "name": "#%%\n"
    }
   }
  },
  {
   "cell_type": "code",
   "execution_count": 40,
   "outputs": [
    {
     "name": "stdout",
     "output_type": "stream",
     "text": [
      "['swedish', 'hard_rock', 'chill', '70s', 'experimental', 'male_vocalists', 'classical', 'hardcore', 'punk_rock', 'pop_rock', 'thrash_metal', 'trance', 'avant_garde', 'country', 'female_vocalists', 'soul', 'singer_songwriter', 'japanese', 'blues_rock', 'nu_metal', 'psychedelic', 'blues', 'electronic', 'russian', 'soundtrack', 'power_metal', 'doom_metal', 'indie_rock', 'acoustic', 'hip_hop', 'indie', 'gothic_metal', 'screamo', 'gothic', 'classic_rock', 'house', 'alternative_rock', 'guitar', 'post_hardcore', 'death_metal', 'britpop', 'post_punk', 'noise', 'ambient', 'american', 'progressive_rock', 'electro', 'funk', 'downtempo', 'french', 'cover', 'progressive_metal', 'love', 'trip_hop', 'emo', 'metal', '90s', 'industrial', 'rnb', 'melodic_death_metal', 'reggae', 'beautiful', 'symphonic_metal', 'heavy_metal', 'synthpop', 'lounge', 'jazz', 'mellow', 'dance', 'idm', 'grunge', '60s', 'psychedelic_rock', 'j_pop', 'post_rock', 'punk', '80s', 'oldies', 'indie_pop', 'rap', 'metalcore', 'instrumental', 'new_wave', 'drum_and_bass', 'british', 'alternative', 'chillout', 'folk', 'ska', 'german', 'piano', 'dark_ambient', 'rock', 'black_metal', 'pop', 'polish', 'techno', '00s', 'grindcore', 'new_age']\n"
     ]
    }
   ],
   "source": [
    "tag_list = tracks_lf.select(pl.col('tags').drop_nulls().explode()).unique().collect().to_numpy().flatten().tolist()\n",
    "print(tag_list)\n",
    "with open('tmp/tag-list.txt', 'w+') as f:\n",
    "    f.write('\\n'.join(tag_list))"
   ],
   "metadata": {
    "collapsed": false,
    "pycharm": {
     "name": "#%%\n"
    }
   }
  },
  {
   "cell_type": "markdown",
   "source": [
    "With expert knowledge from outside sources, such as rateyourmusic.com, I was able to indentificate non-genre tags and remove them. It shortened the list from 100 to 75."
   ],
   "metadata": {
    "collapsed": false,
    "pycharm": {
     "name": "#%% md\n"
    }
   }
  },
  {
   "cell_type": "code",
   "execution_count": 42,
   "outputs": [
    {
     "name": "stdout",
     "output_type": "stream",
     "text": [
      "['hard_rock', 'experimental', 'classical', 'hardcore', 'punk_rock', 'pop_rock', 'thrash_metal', 'trance', 'avant_garde', 'country', 'soul', 'singer_songwriter', 'blues_rock', 'nu_metal', 'psychedelic', 'blues', 'electronic', 'power_metal', 'doom_metal', 'indie_rock', 'acoustic', 'hip_hop', 'indie', 'gothic_metal', 'screamo', 'gothic', 'classic_rock', 'house', 'alternative_rock', 'post_hardcore', 'death_metal', 'britpop', 'post_punk', 'noise', 'ambient', 'progressive_rock', 'electro', 'funk', 'downtempo', 'progressive_metal', 'trip_hop', 'emo', 'metal', 'industrial', 'rnb', 'melodic_death_metal', 'reggae', 'symphonic_metal', 'heavy_metal', 'synthpop', 'lounge', 'jazz', 'dance', 'idm', 'grunge', 'psychedelic_rock', 'j_pop', 'post_rock', 'punk', 'indie_pop', 'rap', 'metalcore', 'instrumental', 'new_wave', 'drum_and_bass', 'alternative', 'folk', 'ska', 'piano', 'dark_ambient', 'rock', 'black_metal', 'pop', 'techno', 'grindcore', 'new_age']\n"
     ]
    }
   ],
   "source": [
    "with open('tmp/tag-list-filtered.txt') as f:\n",
    "    genre_list = f.read().split('\\n')\n",
    "print(genre_list)"
   ],
   "metadata": {
    "collapsed": false,
    "pycharm": {
     "name": "#%%\n"
    }
   }
  },
  {
   "cell_type": "code",
   "execution_count": 132,
   "outputs": [
    {
     "data": {
      "text/plain": "shape: (1_011, 3)\n┌───────────────────────┬───────────────────────┬────────────────────────┐\n│ name                  ┆ artist                ┆ tags                   │\n│ ---                   ┆ ---                   ┆ ---                    │\n│ str                   ┆ str                   ┆ list[str]              │\n╞═══════════════════════╪═══════════════════════╪════════════════════════╡\n│ No Ordinary Love      ┆ Deftones              ┆ [\"chillout\", \"cover\"]  │\n│ Heartstopper          ┆ Emilíana Torrini      ┆ [\"female_vocalists\"]   │\n│ In the Dark           ┆ Flyleaf               ┆ [\"female_vocalists\"]   │\n│ The Giant of Illinois ┆ Andrew Bird           ┆ [\"beautiful\", \"cover\"] │\n│ …                     ┆ …                     ┆ …                      │\n│ Battle March          ┆ 9mm Parabellum Bullet ┆ [\"japanese\"]           │\n│ Kakusei Heroism       ┆ アンティック-珈琲店-  ┆ [\"japanese\"]           │\n│ Lights Of Vein        ┆ Fact                  ┆ [\"japanese\"]           │\n│ BERSERKER TUNE        ┆ ストレイテナー        ┆ [\"japanese\"]           │\n└───────────────────────┴───────────────────────┴────────────────────────┘",
      "text/html": "<div><style>\n.dataframe > thead > tr > th,\n.dataframe > tbody > tr > td {\n  text-align: right;\n}\n</style>\n<small>shape: (1_011, 3)</small><table border=\"1\" class=\"dataframe\"><thead><tr><th>name</th><th>artist</th><th>tags</th></tr><tr><td>str</td><td>str</td><td>list[str]</td></tr></thead><tbody><tr><td>&quot;No Ordinary Lo…</td><td>&quot;Deftones&quot;</td><td>[&quot;chillout&quot;, &quot;cover&quot;]</td></tr><tr><td>&quot;Heartstopper&quot;</td><td>&quot;Emilíana Torri…</td><td>[&quot;female_vocalists&quot;]</td></tr><tr><td>&quot;In the Dark&quot;</td><td>&quot;Flyleaf&quot;</td><td>[&quot;female_vocalists&quot;]</td></tr><tr><td>&quot;The Giant of I…</td><td>&quot;Andrew Bird&quot;</td><td>[&quot;beautiful&quot;, &quot;cover&quot;]</td></tr><tr><td>&quot;Christmas (Bab…</td><td>&quot;Darlene Love&quot;</td><td>[&quot;female_vocalists&quot;, &quot;60s&quot;]</td></tr><tr><td>&quot;Downtown&quot;</td><td>&quot;Petula Clark&quot;</td><td>[&quot;female_vocalists&quot;, &quot;british&quot;, … &quot;oldies&quot;]</td></tr><tr><td>&quot;Have Yourself …</td><td>&quot;Judy Garland&quot;</td><td>[&quot;female_vocalists&quot;, &quot;oldies&quot;]</td></tr><tr><td>&quot;Irene&quot;</td><td>&quot;Beach House&quot;</td><td>[&quot;female_vocalists&quot;, &quot;american&quot;]</td></tr><tr><td>&quot;Leader of the …</td><td>&quot;The Shangri-La…</td><td>[&quot;female_vocalists&quot;, &quot;60s&quot;, &quot;oldies&quot;]</td></tr><tr><td>&quot;Christmas Day&quot;</td><td>&quot;Dido&quot;</td><td>[&quot;female_vocalists&quot;]</td></tr><tr><td>&quot;Bamboleo&quot;</td><td>&quot;Gipsy Kings&quot;</td><td>[&quot;80s&quot;, &quot;guitar&quot;]</td></tr><tr><td>&quot;She&#x27;s Like the…</td><td>&quot;Patrick Swayze…</td><td>[&quot;80s&quot;, &quot;soundtrack&quot;, … &quot;love&quot;]</td></tr><tr><td>&hellip;</td><td>&hellip;</td><td>&hellip;</td></tr><tr><td>&quot;No Pity For A …</td><td>&quot;Rings of Satur…</td><td>[&quot;cover&quot;]</td></tr><tr><td>&quot;Psychopolis&quot;</td><td>&quot;9mm Parabellum…</td><td>[&quot;japanese&quot;]</td></tr><tr><td>&quot;THORNY RAIN BR…</td><td>&quot;RENTRER EN SOI…</td><td>[&quot;japanese&quot;]</td></tr><tr><td>&quot;The Silent Pla…</td><td>&quot;Cinema Bizarre…</td><td>[&quot;german&quot;]</td></tr><tr><td>&quot;TRAIN&quot;</td><td>&quot;ストレイテナー&quot;</td><td>[&quot;japanese&quot;]</td></tr><tr><td>&quot;AMONGST FOOLIS…</td><td>&quot;RENTRER EN SOI…</td><td>[&quot;japanese&quot;]</td></tr><tr><td>&quot;Perfect Moment…</td><td>&quot;Hyde&quot;</td><td>[&quot;japanese&quot;]</td></tr><tr><td>&quot;TO INFINITY&quot;</td><td>&quot;RENTRER EN SOI…</td><td>[&quot;japanese&quot;]</td></tr><tr><td>&quot;Battle March&quot;</td><td>&quot;9mm Parabellum…</td><td>[&quot;japanese&quot;]</td></tr><tr><td>&quot;Kakusei Herois…</td><td>&quot;アンティック-珈琲店-&quot;</td><td>[&quot;japanese&quot;]</td></tr><tr><td>&quot;Lights Of Vein…</td><td>&quot;Fact&quot;</td><td>[&quot;japanese&quot;]</td></tr><tr><td>&quot;BERSERKER TUNE…</td><td>&quot;ストレイテナー&quot;</td><td>[&quot;japanese&quot;]</td></tr></tbody></table></div>"
     },
     "execution_count": 132,
     "metadata": {},
     "output_type": "execute_result"
    }
   ],
   "source": [
    "def tag_in_genre_list():\n",
    "    return pl.col('tags').arr.eval(\n",
    "        pl.element().is_in(genre_list).any().is_not()\n",
    "    ).arr.get(0)\n",
    "\n",
    "tracks_genreless_lf.select(\n",
    "    pl.col('name'),\n",
    "    pl.col('artist'),\n",
    "    pl.col('tags')\n",
    ").filter(\n",
    "    tag_in_genre_list()\n",
    ").collect()"
   ],
   "metadata": {
    "collapsed": false,
    "pycharm": {
     "name": "#%%\n"
    }
   }
  },
  {
   "cell_type": "code",
   "execution_count": null,
   "outputs": [],
   "source": [],
   "metadata": {
    "collapsed": false,
    "pycharm": {
     "name": "#%%\n"
    }
   }
  }
 ],
 "metadata": {
  "kernelspec": {
   "display_name": "Python 3",
   "language": "python",
   "name": "python3"
  },
  "language_info": {
   "codemirror_mode": {
    "name": "ipython",
    "version": 2
   },
   "file_extension": ".py",
   "mimetype": "text/x-python",
   "name": "python",
   "nbconvert_exporter": "python",
   "pygments_lexer": "ipython2",
   "version": "2.7.6"
  }
 },
 "nbformat": 4,
 "nbformat_minor": 0
}