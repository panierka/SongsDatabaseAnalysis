{
 "cells": [
  {
   "cell_type": "code",
   "execution_count": 162,
   "metadata": {
    "collapsed": true,
    "pycharm": {
     "name": "#%%\n"
    }
   },
   "outputs": [],
   "source": [
    "import polars as pl"
   ]
  },
  {
   "cell_type": "code",
   "execution_count": 163,
   "outputs": [],
   "source": [
    "tracks_lf = pl.scan_csv('data/Music Info.csv')"
   ],
   "metadata": {
    "collapsed": false,
    "pycharm": {
     "name": "#%%\n"
    }
   }
  },
  {
   "cell_type": "code",
   "execution_count": 164,
   "outputs": [
    {
     "data": {
      "text/plain": "shape: (5, 21)\n┌────────────┬────────────┬───────────┬────────────┬───┬──────────┬─────────┬─────────┬────────────┐\n│ track_id   ┆ name       ┆ artist    ┆ spotify_pr ┆ … ┆ liveness ┆ valence ┆ tempo   ┆ time_signa │\n│ ---        ┆ ---        ┆ ---       ┆ eview_url  ┆   ┆ ---      ┆ ---     ┆ ---     ┆ ture       │\n│ str        ┆ str        ┆ str       ┆ ---        ┆   ┆ f64      ┆ f64     ┆ f64     ┆ ---        │\n│            ┆            ┆           ┆ str        ┆   ┆          ┆         ┆         ┆ i64        │\n╞════════════╪════════════╪═══════════╪════════════╪═══╪══════════╪═════════╪═════════╪════════════╡\n│ TRIOREW128 ┆ Mr.        ┆ The       ┆ https://p. ┆ … ┆ 0.0971   ┆ 0.24    ┆ 148.114 ┆ 4          │\n│ F424EAF0   ┆ Brightside ┆ Killers   ┆ scdn.co/mp ┆   ┆          ┆         ┆         ┆            │\n│            ┆            ┆           ┆ 3-preview/ ┆   ┆          ┆         ┆         ┆            │\n│            ┆            ┆           ┆ 4d…        ┆   ┆          ┆         ┆         ┆            │\n│ TRRIVDJ128 ┆ Wonderwall ┆ Oasis     ┆ https://p. ┆ … ┆ 0.207    ┆ 0.651   ┆ 174.426 ┆ 4          │\n│ F429B0E8   ┆            ┆           ┆ scdn.co/mp ┆   ┆          ┆         ┆         ┆            │\n│            ┆            ┆           ┆ 3-preview/ ┆   ┆          ┆         ┆         ┆            │\n│            ┆            ┆           ┆ d0…        ┆   ┆          ┆         ┆         ┆            │\n│ TROUVHL128 ┆ Come as    ┆ Nirvana   ┆ https://p. ┆ … ┆ 0.0878   ┆ 0.543   ┆ 120.012 ┆ 4          │\n│ F426C441   ┆ You Are    ┆           ┆ scdn.co/mp ┆   ┆          ┆         ┆         ┆            │\n│            ┆            ┆           ┆ 3-preview/ ┆   ┆          ┆         ┆         ┆            │\n│            ┆            ┆           ┆ a1…        ┆   ┆          ┆         ┆         ┆            │\n│ TRUEIND128 ┆ Take Me    ┆ Franz     ┆ https://p. ┆ … ┆ 0.133    ┆ 0.49    ┆ 104.56  ┆ 4          │\n│ F93038C4   ┆ Out        ┆ Ferdinand ┆ scdn.co/mp ┆   ┆          ┆         ┆         ┆            │\n│            ┆            ┆           ┆ 3-preview/ ┆   ┆          ┆         ┆         ┆            │\n│            ┆            ┆           ┆ 39…        ┆   ┆          ┆         ┆         ┆            │\n│ TRLNZBD128 ┆ Creep      ┆ Radiohead ┆ https://p. ┆ … ┆ 0.129    ┆ 0.104   ┆ 91.841  ┆ 4          │\n│ F935E4D8   ┆            ┆           ┆ scdn.co/mp ┆   ┆          ┆         ┆         ┆            │\n│            ┆            ┆           ┆ 3-preview/ ┆   ┆          ┆         ┆         ┆            │\n│            ┆            ┆           ┆ e7…        ┆   ┆          ┆         ┆         ┆            │\n└────────────┴────────────┴───────────┴────────────┴───┴──────────┴─────────┴─────────┴────────────┘",
      "text/html": "<div><style>\n.dataframe > thead > tr > th,\n.dataframe > tbody > tr > td {\n  text-align: right;\n}\n</style>\n<small>shape: (5, 21)</small><table border=\"1\" class=\"dataframe\"><thead><tr><th>track_id</th><th>name</th><th>artist</th><th>spotify_preview_url</th><th>spotify_id</th><th>tags</th><th>genre</th><th>year</th><th>duration_ms</th><th>danceability</th><th>energy</th><th>key</th><th>loudness</th><th>mode</th><th>speechiness</th><th>acousticness</th><th>instrumentalness</th><th>liveness</th><th>valence</th><th>tempo</th><th>time_signature</th></tr><tr><td>str</td><td>str</td><td>str</td><td>str</td><td>str</td><td>str</td><td>str</td><td>i64</td><td>i64</td><td>f64</td><td>f64</td><td>i64</td><td>f64</td><td>i64</td><td>f64</td><td>f64</td><td>f64</td><td>f64</td><td>f64</td><td>f64</td><td>i64</td></tr></thead><tbody><tr><td>&quot;TRIOREW128F424…</td><td>&quot;Mr. Brightside…</td><td>&quot;The Killers&quot;</td><td>&quot;https://p.scdn…</td><td>&quot;09ZQ5TmUG8TSL5…</td><td>&quot;rock, alternat…</td><td>null</td><td>2004</td><td>222200</td><td>0.355</td><td>0.918</td><td>1</td><td>-4.36</td><td>1</td><td>0.0746</td><td>0.00119</td><td>0.0</td><td>0.0971</td><td>0.24</td><td>148.114</td><td>4</td></tr><tr><td>&quot;TRRIVDJ128F429…</td><td>&quot;Wonderwall&quot;</td><td>&quot;Oasis&quot;</td><td>&quot;https://p.scdn…</td><td>&quot;06UfBBDISthj1Z…</td><td>&quot;rock, alternat…</td><td>null</td><td>2006</td><td>258613</td><td>0.409</td><td>0.892</td><td>2</td><td>-4.373</td><td>1</td><td>0.0336</td><td>0.000807</td><td>0.0</td><td>0.207</td><td>0.651</td><td>174.426</td><td>4</td></tr><tr><td>&quot;TROUVHL128F426…</td><td>&quot;Come as You Ar…</td><td>&quot;Nirvana&quot;</td><td>&quot;https://p.scdn…</td><td>&quot;0keNu0t0tqsWtE…</td><td>&quot;rock, alternat…</td><td>&quot;RnB&quot;</td><td>1991</td><td>218920</td><td>0.508</td><td>0.826</td><td>4</td><td>-5.783</td><td>0</td><td>0.04</td><td>0.000175</td><td>0.000459</td><td>0.0878</td><td>0.543</td><td>120.012</td><td>4</td></tr><tr><td>&quot;TRUEIND128F930…</td><td>&quot;Take Me Out&quot;</td><td>&quot;Franz Ferdinan…</td><td>&quot;https://p.scdn…</td><td>&quot;0ancVQ9wEcHVd0…</td><td>&quot;rock, alternat…</td><td>null</td><td>2004</td><td>237026</td><td>0.279</td><td>0.664</td><td>9</td><td>-8.851</td><td>1</td><td>0.0371</td><td>0.000389</td><td>0.000655</td><td>0.133</td><td>0.49</td><td>104.56</td><td>4</td></tr><tr><td>&quot;TRLNZBD128F935…</td><td>&quot;Creep&quot;</td><td>&quot;Radiohead&quot;</td><td>&quot;https://p.scdn…</td><td>&quot;01QoK9DA7VTeTS…</td><td>&quot;rock, alternat…</td><td>&quot;RnB&quot;</td><td>2008</td><td>238640</td><td>0.515</td><td>0.43</td><td>7</td><td>-9.935</td><td>1</td><td>0.0369</td><td>0.0102</td><td>0.000141</td><td>0.129</td><td>0.104</td><td>91.841</td><td>4</td></tr></tbody></table></div>"
     },
     "execution_count": 164,
     "metadata": {},
     "output_type": "execute_result"
    }
   ],
   "source": [
    "tracks_lf.fetch(5)"
   ],
   "metadata": {
    "collapsed": false,
    "pycharm": {
     "name": "#%%\n"
    }
   }
  },
  {
   "cell_type": "code",
   "execution_count": 165,
   "outputs": [
    {
     "data": {
      "text/plain": "shape: (21, 2)\n┌────────────────────────────┬────────┐\n│ column                     ┆ full % │\n│ ---                        ┆ ---    │\n│ str                        ┆ f64    │\n╞════════════════════════════╪════════╡\n│ track_id_full %            ┆ 100.0  │\n│ name_full %                ┆ 100.0  │\n│ artist_full %              ┆ 100.0  │\n│ spotify_preview_url_full % ┆ 100.0  │\n│ …                          ┆ …      │\n│ liveness_full %            ┆ 100.0  │\n│ valence_full %             ┆ 100.0  │\n│ tempo_full %               ┆ 100.0  │\n│ time_signature_full %      ┆ 100.0  │\n└────────────────────────────┴────────┘",
      "text/html": "<div><style>\n.dataframe > thead > tr > th,\n.dataframe > tbody > tr > td {\n  text-align: right;\n}\n</style>\n<small>shape: (21, 2)</small><table border=\"1\" class=\"dataframe\"><thead><tr><th>column</th><th>full %</th></tr><tr><td>str</td><td>f64</td></tr></thead><tbody><tr><td>&quot;track_id_full …</td><td>100.0</td></tr><tr><td>&quot;name_full %&quot;</td><td>100.0</td></tr><tr><td>&quot;artist_full %&quot;</td><td>100.0</td></tr><tr><td>&quot;spotify_previe…</td><td>100.0</td></tr><tr><td>&quot;spotify_id_ful…</td><td>100.0</td></tr><tr><td>&quot;tags_full %&quot;</td><td>97.78</td></tr><tr><td>&quot;genre_full %&quot;</td><td>44.09</td></tr><tr><td>&quot;year_full %&quot;</td><td>100.0</td></tr><tr><td>&quot;duration_ms_fu…</td><td>100.0</td></tr><tr><td>&quot;danceability_f…</td><td>100.0</td></tr><tr><td>&quot;energy_full %&quot;</td><td>100.0</td></tr><tr><td>&quot;key_full %&quot;</td><td>100.0</td></tr><tr><td>&quot;loudness_full …</td><td>100.0</td></tr><tr><td>&quot;mode_full %&quot;</td><td>100.0</td></tr><tr><td>&quot;speechiness_fu…</td><td>100.0</td></tr><tr><td>&quot;acousticness_f…</td><td>100.0</td></tr><tr><td>&quot;instrumentalne…</td><td>100.0</td></tr><tr><td>&quot;liveness_full …</td><td>100.0</td></tr><tr><td>&quot;valence_full %…</td><td>100.0</td></tr><tr><td>&quot;tempo_full %&quot;</td><td>100.0</td></tr><tr><td>&quot;time_signature…</td><td>100.0</td></tr></tbody></table></div>"
     },
     "execution_count": 165,
     "metadata": {},
     "output_type": "execute_result"
    }
   ],
   "source": [
    "cols = [\n",
    "    (100 - pl.col(col).is_null().sum() * 100 / pl.col(col).count())\n",
    "        .round(2)\n",
    "        .alias('{}_full %'.format(col))\n",
    "    for col in tracks_lf.columns\n",
    "]\n",
    "\n",
    "tracks_lf.select(cols).collect().transpose(include_header=True, column_names=['full %'])"
   ],
   "metadata": {
    "collapsed": false,
    "pycharm": {
     "name": "#%%\n"
    }
   }
  },
  {
   "cell_type": "code",
   "execution_count": 166,
   "outputs": [
    {
     "data": {
      "text/plain": "shape: (7, 21)\n┌────────────┬────────────┬───────────┬────────────┬───┬──────────┬─────────┬─────────┬────────────┐\n│ track_id   ┆ name       ┆ artist    ┆ spotify_pr ┆ … ┆ liveness ┆ valence ┆ tempo   ┆ time_signa │\n│ ---        ┆ ---        ┆ ---       ┆ eview_url  ┆   ┆ ---      ┆ ---     ┆ ---     ┆ ture       │\n│ str        ┆ str        ┆ str       ┆ ---        ┆   ┆ f64      ┆ f64     ┆ f64     ┆ ---        │\n│            ┆            ┆           ┆ str        ┆   ┆          ┆         ┆         ┆ i64        │\n╞════════════╪════════════╪═══════════╪════════════╪═══╪══════════╪═════════╪═════════╪════════════╡\n│ TRIOREW128 ┆ Mr.        ┆ The       ┆ https://p. ┆ … ┆ 0.0971   ┆ 0.24    ┆ 148.114 ┆ 4          │\n│ F424EAF0   ┆ Brightside ┆ Killers   ┆ scdn.co/mp ┆   ┆          ┆         ┆         ┆            │\n│            ┆            ┆           ┆ 3-preview/ ┆   ┆          ┆         ┆         ┆            │\n│            ┆            ┆           ┆ 4d…        ┆   ┆          ┆         ┆         ┆            │\n│ TRRIVDJ128 ┆ Wonderwall ┆ Oasis     ┆ https://p. ┆ … ┆ 0.207    ┆ 0.651   ┆ 174.426 ┆ 4          │\n│ F429B0E8   ┆            ┆           ┆ scdn.co/mp ┆   ┆          ┆         ┆         ┆            │\n│            ┆            ┆           ┆ 3-preview/ ┆   ┆          ┆         ┆         ┆            │\n│            ┆            ┆           ┆ d0…        ┆   ┆          ┆         ┆         ┆            │\n│ TRUEIND128 ┆ Take Me    ┆ Franz     ┆ https://p. ┆ … ┆ 0.133    ┆ 0.49    ┆ 104.56  ┆ 4          │\n│ F93038C4   ┆ Out        ┆ Ferdinand ┆ scdn.co/mp ┆   ┆          ┆         ┆         ┆            │\n│            ┆            ┆           ┆ 3-preview/ ┆   ┆          ┆         ┆         ┆            │\n│            ┆            ┆           ┆ 39…        ┆   ┆          ┆         ┆         ┆            │\n│ TRUMISQ128 ┆ Somebody   ┆ The       ┆ https://p. ┆ … ┆ 0.0641   ┆ 0.704   ┆ 138.03  ┆ 4          │\n│ F9340BEE   ┆ Told Me    ┆ Killers   ┆ scdn.co/mp ┆   ┆          ┆         ┆         ┆            │\n│            ┆            ┆           ┆ 3-preview/ ┆   ┆          ┆         ┆         ┆            │\n│            ┆            ┆           ┆ 0d…        ┆   ┆          ┆         ┆         ┆            │\n│ TRVCCWR128 ┆ Viva la    ┆ Coldplay  ┆ https://p. ┆ … ┆ 0.0634   ┆ 0.52    ┆ 137.973 ┆ 4          │\n│ F9304A30   ┆ Vida       ┆           ┆ scdn.co/mp ┆   ┆          ┆         ┆         ┆            │\n│            ┆            ┆           ┆ 3-preview/ ┆   ┆          ┆         ┆         ┆            │\n│            ┆            ┆           ┆ ab…        ┆   ┆          ┆         ┆         ┆            │\n│ TRXOGZT128 ┆ Karma      ┆ Radiohead ┆ https://p. ┆ … ┆ 0.172    ┆ 0.317   ┆ 74.807  ┆ 4          │\n│ F424AD74   ┆ Police     ┆           ┆ scdn.co/mp ┆   ┆          ┆         ┆         ┆            │\n│            ┆            ┆           ┆ 3-preview/ ┆   ┆          ┆         ┆         ┆            │\n│            ┆            ┆           ┆ 5a…        ┆   ┆          ┆         ┆         ┆            │\n│ TRUJIIV129 ┆ Clocks     ┆ Coldplay  ┆ https://p. ┆ … ┆ 0.183    ┆ 0.255   ┆ 130.97  ┆ 4          │\n│ 03CA8848   ┆            ┆           ┆ scdn.co/mp ┆   ┆          ┆         ┆         ┆            │\n│            ┆            ┆           ┆ 3-preview/ ┆   ┆          ┆         ┆         ┆            │\n│            ┆            ┆           ┆ 24…        ┆   ┆          ┆         ┆         ┆            │\n└────────────┴────────────┴───────────┴────────────┴───┴──────────┴─────────┴─────────┴────────────┘",
      "text/html": "<div><style>\n.dataframe > thead > tr > th,\n.dataframe > tbody > tr > td {\n  text-align: right;\n}\n</style>\n<small>shape: (7, 21)</small><table border=\"1\" class=\"dataframe\"><thead><tr><th>track_id</th><th>name</th><th>artist</th><th>spotify_preview_url</th><th>spotify_id</th><th>tags</th><th>genre</th><th>year</th><th>duration_ms</th><th>danceability</th><th>energy</th><th>key</th><th>loudness</th><th>mode</th><th>speechiness</th><th>acousticness</th><th>instrumentalness</th><th>liveness</th><th>valence</th><th>tempo</th><th>time_signature</th></tr><tr><td>str</td><td>str</td><td>str</td><td>str</td><td>str</td><td>str</td><td>str</td><td>i64</td><td>i64</td><td>f64</td><td>f64</td><td>i64</td><td>f64</td><td>i64</td><td>f64</td><td>f64</td><td>f64</td><td>f64</td><td>f64</td><td>f64</td><td>i64</td></tr></thead><tbody><tr><td>&quot;TRIOREW128F424…</td><td>&quot;Mr. Brightside…</td><td>&quot;The Killers&quot;</td><td>&quot;https://p.scdn…</td><td>&quot;09ZQ5TmUG8TSL5…</td><td>&quot;rock, alternat…</td><td>null</td><td>2004</td><td>222200</td><td>0.355</td><td>0.918</td><td>1</td><td>-4.36</td><td>1</td><td>0.0746</td><td>0.00119</td><td>0.0</td><td>0.0971</td><td>0.24</td><td>148.114</td><td>4</td></tr><tr><td>&quot;TRRIVDJ128F429…</td><td>&quot;Wonderwall&quot;</td><td>&quot;Oasis&quot;</td><td>&quot;https://p.scdn…</td><td>&quot;06UfBBDISthj1Z…</td><td>&quot;rock, alternat…</td><td>null</td><td>2006</td><td>258613</td><td>0.409</td><td>0.892</td><td>2</td><td>-4.373</td><td>1</td><td>0.0336</td><td>0.000807</td><td>0.0</td><td>0.207</td><td>0.651</td><td>174.426</td><td>4</td></tr><tr><td>&quot;TRUEIND128F930…</td><td>&quot;Take Me Out&quot;</td><td>&quot;Franz Ferdinan…</td><td>&quot;https://p.scdn…</td><td>&quot;0ancVQ9wEcHVd0…</td><td>&quot;rock, alternat…</td><td>null</td><td>2004</td><td>237026</td><td>0.279</td><td>0.664</td><td>9</td><td>-8.851</td><td>1</td><td>0.0371</td><td>0.000389</td><td>0.000655</td><td>0.133</td><td>0.49</td><td>104.56</td><td>4</td></tr><tr><td>&quot;TRUMISQ128F934…</td><td>&quot;Somebody Told …</td><td>&quot;The Killers&quot;</td><td>&quot;https://p.scdn…</td><td>&quot;0FNmIQ7u45Lhdn…</td><td>&quot;rock, alternat…</td><td>null</td><td>2005</td><td>198480</td><td>0.508</td><td>0.979</td><td>10</td><td>-4.289</td><td>0</td><td>0.0847</td><td>0.0000871</td><td>0.000643</td><td>0.0641</td><td>0.704</td><td>138.03</td><td>4</td></tr><tr><td>&quot;TRVCCWR128F930…</td><td>&quot;Viva la Vida&quot;</td><td>&quot;Coldplay&quot;</td><td>&quot;https://p.scdn…</td><td>&quot;08A1lZeyLMWH58…</td><td>&quot;rock, alternat…</td><td>null</td><td>2013</td><td>235384</td><td>0.588</td><td>0.806</td><td>8</td><td>-7.903</td><td>1</td><td>0.105</td><td>0.153</td><td>0.0</td><td>0.0634</td><td>0.52</td><td>137.973</td><td>4</td></tr><tr><td>&quot;TRXOGZT128F424…</td><td>&quot;Karma Police&quot;</td><td>&quot;Radiohead&quot;</td><td>&quot;https://p.scdn…</td><td>&quot;01puceOqImrzSf…</td><td>&quot;rock, alternat…</td><td>null</td><td>1996</td><td>264066</td><td>0.36</td><td>0.505</td><td>7</td><td>-9.129</td><td>1</td><td>0.026</td><td>0.0626</td><td>0.0000922</td><td>0.172</td><td>0.317</td><td>74.807</td><td>4</td></tr><tr><td>&quot;TRUJIIV12903CA…</td><td>&quot;Clocks&quot;</td><td>&quot;Coldplay&quot;</td><td>&quot;https://p.scdn…</td><td>&quot;0BCPKOYdS2jbQ8…</td><td>&quot;rock, alternat…</td><td>null</td><td>2002</td><td>307879</td><td>0.577</td><td>0.749</td><td>5</td><td>-7.215</td><td>0</td><td>0.0279</td><td>0.599</td><td>0.0115</td><td>0.183</td><td>0.255</td><td>130.97</td><td>4</td></tr></tbody></table></div>"
     },
     "execution_count": 166,
     "metadata": {},
     "output_type": "execute_result"
    }
   ],
   "source": [
    "tracks_lf.select(pl.all()).filter(pl.col('genre').is_null()).fetch(10)"
   ],
   "metadata": {
    "collapsed": false,
    "pycharm": {
     "name": "#%%\n"
    }
   }
  },
  {
   "cell_type": "code",
   "execution_count": 167,
   "outputs": [
    {
     "data": {
      "text/plain": "shape: (16, 1)\n┌─────────────────────┐\n│ genre               │\n│ ---                 │\n│ struct[2]           │\n╞═════════════════════╡\n│ {\"Rap\",821}         │\n│ {\"World\",140}       │\n│ {\"Jazz\",793}        │\n│ {\"Punk\",383}        │\n│ …                   │\n│ {\"Electronic\",3710} │\n│ {\"New Age\",237}     │\n│ {\"RnB\",696}         │\n│ {\"Metal\",2516}      │\n└─────────────────────┘",
      "text/html": "<div><style>\n.dataframe > thead > tr > th,\n.dataframe > tbody > tr > td {\n  text-align: right;\n}\n</style>\n<small>shape: (16, 1)</small><table border=\"1\" class=\"dataframe\"><thead><tr><th>genre</th></tr><tr><td>struct[2]</td></tr></thead><tbody><tr><td>{&quot;Rap&quot;,821}</td></tr><tr><td>{&quot;World&quot;,140}</td></tr><tr><td>{&quot;Jazz&quot;,793}</td></tr><tr><td>{&quot;Punk&quot;,383}</td></tr><tr><td>{&quot;Blues&quot;,189}</td></tr><tr><td>{&quot;Latin&quot;,100}</td></tr><tr><td>{&quot;Reggae&quot;,691}</td></tr><tr><td>{null,28335}</td></tr><tr><td>{&quot;Pop&quot;,1145}</td></tr><tr><td>{&quot;Folk&quot;,355}</td></tr><tr><td>{&quot;Rock&quot;,9965}</td></tr><tr><td>{&quot;Country&quot;,607}</td></tr><tr><td>{&quot;Electronic&quot;,3710}</td></tr><tr><td>{&quot;New Age&quot;,237}</td></tr><tr><td>{&quot;RnB&quot;,696}</td></tr><tr><td>{&quot;Metal&quot;,2516}</td></tr></tbody></table></div>"
     },
     "execution_count": 167,
     "metadata": {},
     "output_type": "execute_result"
    }
   ],
   "source": [
    "tracks_lf.select(pl.col('genre').value_counts()).collect()"
   ],
   "metadata": {
    "collapsed": false,
    "pycharm": {
     "name": "#%%\n"
    }
   }
  },
  {
   "cell_type": "code",
   "execution_count": 168,
   "outputs": [],
   "source": [
    "tracks_lf = tracks_lf.select(pl.all()).with_columns(pl.col('tags').str.split(', ').alias('tags'))"
   ],
   "metadata": {
    "collapsed": false,
    "pycharm": {
     "name": "#%%\n"
    }
   }
  },
  {
   "cell_type": "code",
   "execution_count": 169,
   "outputs": [],
   "source": [
    "def tag_equals_to_genre() -> pl.expr.expr.Expr:\n",
    "    return (\n",
    "        pl.col('tags').arr.get(0).str.to_uppercase()\n",
    "        ==\n",
    "        pl.col('genre').str.to_uppercase()\n",
    "    )"
   ],
   "metadata": {
    "collapsed": false,
    "pycharm": {
     "name": "#%%\n"
    }
   }
  },
  {
   "cell_type": "code",
   "execution_count": 170,
   "outputs": [
    {
     "data": {
      "text/plain": "shape: (12_678, 21)\n┌────────────┬────────────┬───────────┬────────────┬───┬──────────┬─────────┬─────────┬────────────┐\n│ track_id   ┆ name       ┆ artist    ┆ spotify_pr ┆ … ┆ liveness ┆ valence ┆ tempo   ┆ time_signa │\n│ ---        ┆ ---        ┆ ---       ┆ eview_url  ┆   ┆ ---      ┆ ---     ┆ ---     ┆ ture       │\n│ str        ┆ str        ┆ str       ┆ ---        ┆   ┆ f64      ┆ f64     ┆ f64     ┆ ---        │\n│            ┆            ┆           ┆ str        ┆   ┆          ┆         ┆         ┆ i64        │\n╞════════════╪════════════╪═══════════╪════════════╪═══╪══════════╪═════════╪═════════╪════════════╡\n│ TROUVHL128 ┆ Come as    ┆ Nirvana   ┆ https://p. ┆ … ┆ 0.0878   ┆ 0.543   ┆ 120.012 ┆ 4          │\n│ F426C441   ┆ You Are    ┆           ┆ scdn.co/mp ┆   ┆          ┆         ┆         ┆            │\n│            ┆            ┆           ┆ 3-preview/ ┆   ┆          ┆         ┆         ┆            │\n│            ┆            ┆           ┆ a1…        ┆   ┆          ┆         ┆         ┆            │\n│ TRLNZBD128 ┆ Creep      ┆ Radiohead ┆ https://p. ┆ … ┆ 0.129    ┆ 0.104   ┆ 91.841  ┆ 4          │\n│ F935E4D8   ┆            ┆           ┆ scdn.co/mp ┆   ┆          ┆         ┆         ┆            │\n│            ┆            ┆           ┆ 3-preview/ ┆   ┆          ┆         ┆         ┆            │\n│            ┆            ┆           ┆ e7…        ┆   ┆          ┆         ┆         ┆            │\n│ TRIODZU128 ┆ Under the  ┆ Red Hot   ┆ https://p. ┆ … ┆ 0.136    ┆ 0.513   ┆ 84.275  ┆ 4          │\n│ E078F3E2   ┆ Bridge     ┆ Chili     ┆ scdn.co/mp ┆   ┆          ┆         ┆         ┆            │\n│            ┆            ┆ Peppers   ┆ 3-preview/ ┆   ┆          ┆         ┆         ┆            │\n│            ┆            ┆           ┆ 90…        ┆   ┆          ┆         ┆         ┆            │\n│ TRYEZGE128 ┆ Feel Good  ┆ Gorillaz  ┆ https://p. ┆ … ┆ 0.826    ┆ 0.832   ┆ 138.556 ┆ 4          │\n│ F92D04C8   ┆ Inc.       ┆           ┆ scdn.co/mp ┆   ┆          ┆         ┆         ┆            │\n│            ┆            ┆           ┆ 3-preview/ ┆   ┆          ┆         ┆         ┆            │\n│            ┆            ┆           ┆ 73…        ┆   ┆          ┆         ┆         ┆            │\n│ …          ┆ …          ┆ …         ┆ …          ┆ … ┆ …        ┆ …       ┆ …       ┆ …          │\n│ TRUVVQK128 ┆ PLAY THE   ┆ ストレイ  ┆ https://p. ┆ … ┆ 0.346    ┆ 0.362   ┆ 177.915 ┆ 3          │\n│ F4285D05   ┆ STAR       ┆ テナー    ┆ scdn.co/mp ┆   ┆          ┆         ┆         ┆            │\n│            ┆ GUITAR     ┆           ┆ 3-preview/ ┆   ┆          ┆         ┆         ┆            │\n│            ┆            ┆           ┆ b2…        ┆   ┆          ┆         ┆         ┆            │\n│ TRTBIEH128 ┆ Let It All ┆ Boom Boom ┆ https://p. ┆ … ┆ 0.164    ┆ 0.118   ┆ 103.008 ┆ 4          │\n│ F427C13C   ┆ Come Down  ┆ Satellite ┆ scdn.co/mp ┆   ┆          ┆         ┆         ┆            │\n│            ┆            ┆ s         ┆ 3-preview/ ┆   ┆          ┆         ┆         ┆            │\n│            ┆            ┆           ┆ 5d…        ┆   ┆          ┆         ┆         ┆            │\n│ TRPIGDW129 ┆ Slip of    ┆ Fact      ┆ https://p. ┆ … ┆ 0.379    ┆ 0.224   ┆ 100.08  ┆ 4          │\n│ 03CDEB2D   ┆ the Lip    ┆           ┆ scdn.co/mp ┆   ┆          ┆         ┆         ┆            │\n│            ┆            ┆           ┆ 3-preview/ ┆   ┆          ┆         ┆         ┆            │\n│            ┆            ┆           ┆ cf…        ┆   ┆          ┆         ┆         ┆            │\n│ TRIPFKO128 ┆ Hide &     ┆ 9mm Parab ┆ https://p. ┆ … ┆ 0.203    ┆ 0.138   ┆ 136.475 ┆ 4          │\n│ F42383FE   ┆ Seek       ┆ ellum     ┆ scdn.co/mp ┆   ┆          ┆         ┆         ┆            │\n│            ┆            ┆ Bullet    ┆ 3-preview/ ┆   ┆          ┆         ┆         ┆            │\n│            ┆            ┆           ┆ 91…        ┆   ┆          ┆         ┆         ┆            │\n└────────────┴────────────┴───────────┴────────────┴───┴──────────┴─────────┴─────────┴────────────┘",
      "text/html": "<div><style>\n.dataframe > thead > tr > th,\n.dataframe > tbody > tr > td {\n  text-align: right;\n}\n</style>\n<small>shape: (12_678, 21)</small><table border=\"1\" class=\"dataframe\"><thead><tr><th>track_id</th><th>name</th><th>artist</th><th>spotify_preview_url</th><th>spotify_id</th><th>tags</th><th>genre</th><th>year</th><th>duration_ms</th><th>danceability</th><th>energy</th><th>key</th><th>loudness</th><th>mode</th><th>speechiness</th><th>acousticness</th><th>instrumentalness</th><th>liveness</th><th>valence</th><th>tempo</th><th>time_signature</th></tr><tr><td>str</td><td>str</td><td>str</td><td>str</td><td>str</td><td>list[str]</td><td>str</td><td>i64</td><td>i64</td><td>f64</td><td>f64</td><td>i64</td><td>f64</td><td>i64</td><td>f64</td><td>f64</td><td>f64</td><td>f64</td><td>f64</td><td>f64</td><td>i64</td></tr></thead><tbody><tr><td>&quot;TROUVHL128F426…</td><td>&quot;Come as You Ar…</td><td>&quot;Nirvana&quot;</td><td>&quot;https://p.scdn…</td><td>&quot;0keNu0t0tqsWtE…</td><td>[&quot;rock&quot;, &quot;alternative&quot;, … &quot;grunge&quot;]</td><td>&quot;RnB&quot;</td><td>1991</td><td>218920</td><td>0.508</td><td>0.826</td><td>4</td><td>-5.783</td><td>0</td><td>0.04</td><td>0.000175</td><td>0.000459</td><td>0.0878</td><td>0.543</td><td>120.012</td><td>4</td></tr><tr><td>&quot;TRLNZBD128F935…</td><td>&quot;Creep&quot;</td><td>&quot;Radiohead&quot;</td><td>&quot;https://p.scdn…</td><td>&quot;01QoK9DA7VTeTS…</td><td>[&quot;rock&quot;, &quot;alternative&quot;, … &quot;britpop&quot;]</td><td>&quot;RnB&quot;</td><td>2008</td><td>238640</td><td>0.515</td><td>0.43</td><td>7</td><td>-9.935</td><td>1</td><td>0.0369</td><td>0.0102</td><td>0.000141</td><td>0.129</td><td>0.104</td><td>91.841</td><td>4</td></tr><tr><td>&quot;TRIODZU128E078…</td><td>&quot;Under the Brid…</td><td>&quot;Red Hot Chili …</td><td>&quot;https://p.scdn…</td><td>&quot;06zh28PcYIFvNO…</td><td>[&quot;rock&quot;, &quot;alternative&quot;, … &quot;funk&quot;]</td><td>&quot;Pop&quot;</td><td>2003</td><td>265506</td><td>0.554</td><td>0.49</td><td>4</td><td>-8.046</td><td>1</td><td>0.0457</td><td>0.0168</td><td>0.000534</td><td>0.136</td><td>0.513</td><td>84.275</td><td>4</td></tr><tr><td>&quot;TRYEZGE128F92D…</td><td>&quot;Feel Good Inc.…</td><td>&quot;Gorillaz&quot;</td><td>&quot;https://p.scdn…</td><td>&quot;09xrHi86kLkEIz…</td><td>[&quot;rock&quot;, &quot;electronic&quot;, … &quot;trip_hop&quot;]</td><td>&quot;RnB&quot;</td><td>2010</td><td>223106</td><td>0.809</td><td>0.72</td><td>6</td><td>-7.776</td><td>1</td><td>0.136</td><td>0.0337</td><td>0.00141</td><td>0.826</td><td>0.832</td><td>138.556</td><td>4</td></tr><tr><td>&quot;TRUENYK128F427…</td><td>&quot;Chop Suey!&quot;</td><td>&quot;System of a Do…</td><td>&quot;https://p.scdn…</td><td>&quot;0EIIqshB4doby2…</td><td>[&quot;rock&quot;, &quot;alternative&quot;, … &quot;nu_metal&quot;]</td><td>&quot;Metal&quot;</td><td>2008</td><td>210480</td><td>0.42</td><td>0.925</td><td>7</td><td>-4.217</td><td>0</td><td>0.12</td><td>0.000363</td><td>0.002</td><td>0.1</td><td>0.322</td><td>127.422</td><td>4</td></tr><tr><td>&quot;TRWEHTV12903D0…</td><td>&quot;Use Somebody&quot;</td><td>&quot;Kings of Leon&quot;</td><td>&quot;https://p.scdn…</td><td>&quot;03BednbxXIA23k…</td><td>[&quot;rock&quot;, &quot;alternative&quot;, … &quot;indie_rock&quot;]</td><td>&quot;Electronic&quot;</td><td>2003</td><td>230960</td><td>0.276</td><td>0.755</td><td>0</td><td>-5.406</td><td>1</td><td>0.046</td><td>0.00583</td><td>0.000543</td><td>0.183</td><td>0.194</td><td>137.149</td><td>4</td></tr><tr><td>&quot;TRIQWYH128F148…</td><td>&quot;Paranoid Andro…</td><td>&quot;Radiohead&quot;</td><td>&quot;https://p.scdn…</td><td>&quot;0bomiLGPTUNyk3…</td><td>[&quot;rock&quot;, &quot;electronic&quot;, … &quot;britpop&quot;]</td><td>&quot;Jazz&quot;</td><td>2012</td><td>384933</td><td>0.232</td><td>0.8</td><td>5</td><td>-6.863</td><td>1</td><td>0.0573</td><td>0.0523</td><td>0.00606</td><td>0.118</td><td>0.299</td><td>81.849</td><td>4</td></tr><tr><td>&quot;TRUOEWJ128F934…</td><td>&quot;Stairway to He…</td><td>&quot;Led Zeppelin&quot;</td><td>&quot;https://p.scdn…</td><td>&quot;03hLW9osM6UuNq…</td><td>[&quot;rock&quot;, &quot;classic_rock&quot;, … &quot;70s&quot;]</td><td>&quot;Punk&quot;</td><td>2013</td><td>488019</td><td>0.354</td><td>0.361</td><td>9</td><td>-12.722</td><td>0</td><td>0.0509</td><td>0.625</td><td>0.0112</td><td>0.35</td><td>0.212</td><td>80.36</td><td>4</td></tr><tr><td>&quot;TRAOMFT128F42A…</td><td>&quot;Losing My Reli…</td><td>&quot;R.E.M.&quot;</td><td>&quot;https://p.scdn…</td><td>&quot;04pRvt8HcPmmP6…</td><td>[&quot;rock&quot;, &quot;alternative&quot;, … &quot;90s&quot;]</td><td>&quot;Pop&quot;</td><td>2014</td><td>288160</td><td>0.668</td><td>0.736</td><td>9</td><td>-10.753</td><td>0</td><td>0.0277</td><td>0.0115</td><td>0.000259</td><td>0.337</td><td>0.629</td><td>126.978</td><td>4</td></tr><tr><td>&quot;TRSFPEE128F429…</td><td>&quot;In Bloom&quot;</td><td>&quot;Nirvana&quot;</td><td>&quot;https://p.scdn…</td><td>&quot;2qdRHMosT8YO3z…</td><td>[&quot;rock&quot;, &quot;alternative&quot;, … &quot;grunge&quot;]</td><td>&quot;Punk&quot;</td><td>1991</td><td>254760</td><td>0.433</td><td>0.744</td><td>10</td><td>-8.97</td><td>0</td><td>0.0449</td><td>0.00001</td><td>0.0000773</td><td>0.29</td><td>0.595</td><td>157.18</td><td>4</td></tr><tr><td>&quot;TRLPNCR128F426…</td><td>&quot;Can&#x27;t Stop&quot;</td><td>&quot;Red Hot Chili …</td><td>&quot;https://p.scdn…</td><td>&quot;3ZOEytgrvLwQaq…</td><td>[&quot;rock&quot;, &quot;alternative&quot;, … &quot;funk&quot;]</td><td>&quot;Electronic&quot;</td><td>2002</td><td>269000</td><td>0.618</td><td>0.938</td><td>9</td><td>-3.442</td><td>1</td><td>0.0456</td><td>0.0179</td><td>0.0</td><td>0.167</td><td>0.875</td><td>91.455</td><td>4</td></tr><tr><td>&quot;TRFROHP128F930…</td><td>&quot;Nothing Else M…</td><td>&quot;Metallica&quot;</td><td>&quot;https://p.scdn…</td><td>&quot;0nLiqZ6A27jJri…</td><td>[&quot;rock&quot;, &quot;metal&quot;, … &quot;90s&quot;]</td><td>&quot;Metal&quot;</td><td>1991</td><td>388266</td><td>0.553</td><td>0.362</td><td>4</td><td>-11.218</td><td>0</td><td>0.0263</td><td>0.0458</td><td>0.000006</td><td>0.075</td><td>0.158</td><td>142.352</td><td>3</td></tr><tr><td>&hellip;</td><td>&hellip;</td><td>&hellip;</td><td>&hellip;</td><td>&hellip;</td><td>&hellip;</td><td>&hellip;</td><td>&hellip;</td><td>&hellip;</td><td>&hellip;</td><td>&hellip;</td><td>&hellip;</td><td>&hellip;</td><td>&hellip;</td><td>&hellip;</td><td>&hellip;</td><td>&hellip;</td><td>&hellip;</td><td>&hellip;</td><td>&hellip;</td><td>&hellip;</td></tr><tr><td>&quot;TRFWEHR12903CF…</td><td>&quot;Morose Seclusi…</td><td>&quot;Into Eternity&quot;</td><td>&quot;https://p.scdn…</td><td>&quot;0kuqYvVbCPfVbN…</td><td>[&quot;progressive_metal&quot;]</td><td>&quot;Metal&quot;</td><td>2004</td><td>201813</td><td>0.368</td><td>0.327</td><td>5</td><td>-8.413</td><td>0</td><td>0.0297</td><td>0.753</td><td>0.0</td><td>0.168</td><td>0.239</td><td>142.099</td><td>4</td></tr><tr><td>&quot;TRLMAZQ128F422…</td><td>&quot;Mysterium&quot;</td><td>&quot;Liturgy&quot;</td><td>&quot;https://p.scdn…</td><td>&quot;0U5dVgE3RLDPGj…</td><td>[&quot;black_metal&quot;]</td><td>&quot;Jazz&quot;</td><td>2009</td><td>283213</td><td>0.213</td><td>0.323</td><td>4</td><td>-5.553</td><td>0</td><td>0.094</td><td>0.0000163</td><td>0.956</td><td>0.126</td><td>0.0368</td><td>95.272</td><td>3</td></tr><tr><td>&quot;TRYSJQG12903CA…</td><td>&quot;City Hall&quot;</td><td>&quot;Upon a Burning…</td><td>&quot;https://p.scdn…</td><td>&quot;4F8FHiefGYVzX8…</td><td>[&quot;metalcore&quot;]</td><td>&quot;Rock&quot;</td><td>2010</td><td>396946</td><td>0.149</td><td>0.958</td><td>2</td><td>-4.934</td><td>0</td><td>0.0875</td><td>0.0000467</td><td>0.0852</td><td>0.281</td><td>0.161</td><td>139.092</td><td>4</td></tr><tr><td>&quot;TRVOSLO128F930…</td><td>&quot;Damned Below J…</td><td>&quot;Hatesphere&quot;</td><td>&quot;https://p.scdn…</td><td>&quot;1tAOC2y8r0PJeN…</td><td>[&quot;thrash_metal&quot;]</td><td>&quot;Metal&quot;</td><td>2007</td><td>279040</td><td>0.542</td><td>0.971</td><td>8</td><td>-3.799</td><td>1</td><td>0.0915</td><td>0.000002</td><td>0.822</td><td>0.289</td><td>0.195</td><td>114.026</td><td>4</td></tr><tr><td>&quot;TRBXGZD128F930…</td><td>&quot;Let Them Hate&quot;</td><td>&quot;Hatesphere&quot;</td><td>&quot;https://p.scdn…</td><td>&quot;1FRwuQfvEv7Lk2…</td><td>[&quot;thrash_metal&quot;]</td><td>&quot;Metal&quot;</td><td>2007</td><td>319720</td><td>0.499</td><td>0.969</td><td>9</td><td>-3.822</td><td>1</td><td>0.0824</td><td>0.000005</td><td>0.156</td><td>0.123</td><td>0.116</td><td>111.995</td><td>4</td></tr><tr><td>&quot;TRYRGLR128F930…</td><td>&quot;Yap&quot;</td><td>&quot;ONE OK ROCK&quot;</td><td>&quot;https://p.scdn…</td><td>&quot;0MRAbkWrTgxTnn…</td><td>[&quot;rock&quot;, &quot;japanese&quot;]</td><td>&quot;Electronic&quot;</td><td>2008</td><td>166960</td><td>0.416</td><td>0.906</td><td>10</td><td>-6.783</td><td>1</td><td>0.0541</td><td>0.00568</td><td>0.0</td><td>0.105</td><td>0.875</td><td>186.075</td><td>4</td></tr><tr><td>&quot;TRKPZEB128F427…</td><td>&quot;TRAIN&quot;</td><td>&quot;ストレイテナー&quot;</td><td>&quot;https://p.scdn…</td><td>&quot;3XGijtvu06KtJL…</td><td>[&quot;japanese&quot;]</td><td>&quot;Rock&quot;</td><td>2013</td><td>229066</td><td>0.413</td><td>0.991</td><td>8</td><td>-2.194</td><td>1</td><td>0.135</td><td>0.000162</td><td>0.000995</td><td>0.196</td><td>0.285</td><td>133.032</td><td>4</td></tr><tr><td>&quot;TRDGROB128F934…</td><td>&quot;Perfect Moment…</td><td>&quot;Hyde&quot;</td><td>&quot;https://p.scdn…</td><td>&quot;12yBi0cbCQetKO…</td><td>[&quot;japanese&quot;]</td><td>&quot;Pop&quot;</td><td>2006</td><td>271320</td><td>0.357</td><td>0.81</td><td>7</td><td>-5.135</td><td>1</td><td>0.0419</td><td>0.111</td><td>0.182</td><td>0.123</td><td>0.315</td><td>94.032</td><td>4</td></tr><tr><td>&quot;TRUVVQK128F428…</td><td>&quot;PLAY THE STAR …</td><td>&quot;ストレイテナー&quot;</td><td>&quot;https://p.scdn…</td><td>&quot;08DV3XFyng89Hb…</td><td>[&quot;alternative&quot;, &quot;alternative_rock&quot;, &quot;japanese&quot;]</td><td>&quot;Rock&quot;</td><td>2004</td><td>185760</td><td>0.17</td><td>0.93</td><td>6</td><td>-3.985</td><td>1</td><td>0.135</td><td>0.000326</td><td>0.000141</td><td>0.346</td><td>0.362</td><td>177.915</td><td>3</td></tr><tr><td>&quot;TRTBIEH128F427…</td><td>&quot;Let It All Com…</td><td>&quot;Boom Boom Sate…</td><td>&quot;https://p.scdn…</td><td>&quot;47tFsBHLZ1ETuu…</td><td>[&quot;electronic&quot;, &quot;japanese&quot;]</td><td>&quot;Rock&quot;</td><td>1998</td><td>282093</td><td>0.57</td><td>0.926</td><td>1</td><td>-5.766</td><td>0</td><td>0.0672</td><td>0.0286</td><td>0.000708</td><td>0.164</td><td>0.118</td><td>103.008</td><td>4</td></tr><tr><td>&quot;TRPIGDW12903CD…</td><td>&quot;Slip of the Li…</td><td>&quot;Fact&quot;</td><td>&quot;https://p.scdn…</td><td>&quot;0PG7cpyNzRehf1…</td><td>[&quot;alternative_rock&quot;, &quot;punk_rock&quot;]</td><td>&quot;Rock&quot;</td><td>2010</td><td>183640</td><td>0.423</td><td>0.98</td><td>2</td><td>-4.068</td><td>1</td><td>0.184</td><td>0.000986</td><td>0.000002</td><td>0.379</td><td>0.224</td><td>100.08</td><td>4</td></tr><tr><td>&quot;TRIPFKO128F423…</td><td>&quot;Hide &amp; Seek&quot;</td><td>&quot;9mm Parabellum…</td><td>&quot;https://p.scdn…</td><td>&quot;3LW19oCCXxiqRc…</td><td>[&quot;rock&quot;, &quot;japanese&quot;]</td><td>&quot;Electronic&quot;</td><td>2008</td><td>131960</td><td>0.19</td><td>0.953</td><td>8</td><td>-4.144</td><td>1</td><td>0.131</td><td>0.0000333</td><td>0.0511</td><td>0.203</td><td>0.138</td><td>136.475</td><td>4</td></tr></tbody></table></div>"
     },
     "execution_count": 170,
     "metadata": {},
     "output_type": "execute_result"
    }
   ],
   "source": [
    "tracks_lf.drop_nulls().select(pl.all()).filter(tag_equals_to_genre().is_not()).collect()"
   ],
   "metadata": {
    "collapsed": false,
    "pycharm": {
     "name": "#%%\n"
    }
   }
  },
  {
   "cell_type": "code",
   "execution_count": 185,
   "outputs": [],
   "source": [
    "def genre_is_tag() -> pl.expr.expr.Expr:\n",
    "    return pl.col('genre').str.to_lowercase().is_in(pl.col('tags'))"
   ],
   "metadata": {
    "collapsed": false,
    "pycharm": {
     "name": "#%%\n"
    }
   }
  },
  {
   "cell_type": "code",
   "execution_count": 186,
   "outputs": [
    {
     "data": {
      "text/plain": "shape: (1, 1)\n┌──────────┐\n│ genre    │\n│ ---      │\n│ f64      │\n╞══════════╡\n│ 0.465459 │\n└──────────┘",
      "text/html": "<div><style>\n.dataframe > thead > tr > th,\n.dataframe > tbody > tr > td {\n  text-align: right;\n}\n</style>\n<small>shape: (1, 1)</small><table border=\"1\" class=\"dataframe\"><thead><tr><th>genre</th></tr><tr><td>f64</td></tr></thead><tbody><tr><td>0.465459</td></tr></tbody></table></div>"
     },
     "execution_count": 186,
     "metadata": {},
     "output_type": "execute_result"
    }
   ],
   "source": [
    "tracks_lf.drop_nulls().select(\n",
    "    genre_is_tag().sum()\n",
    "    /\n",
    "    pl.col('genre').count()\n",
    ").collect()"
   ],
   "metadata": {
    "collapsed": false,
    "pycharm": {
     "name": "#%%\n"
    }
   }
  },
  {
   "cell_type": "code",
   "execution_count": 188,
   "outputs": [
    {
     "data": {
      "text/plain": "shape: (11_715, 2)\n┌────────────┬───────────────────────────────────┐\n│ genre      ┆ tags                              │\n│ ---        ┆ ---                               │\n│ str        ┆ list[str]                         │\n╞════════════╪═══════════════════════════════════╡\n│ RnB        ┆ [\"rock\", \"alternative\", … \"grung… │\n│ RnB        ┆ [\"rock\", \"alternative\", … \"britp… │\n│ Pop        ┆ [\"rock\", \"alternative\", … \"funk\"… │\n│ RnB        ┆ [\"rock\", \"electronic\", … \"trip_h… │\n│ …          ┆ …                                 │\n│ Rock       ┆ [\"alternative\", \"alternative_roc… │\n│ Rock       ┆ [\"electronic\", \"japanese\"]        │\n│ Rock       ┆ [\"alternative_rock\", \"punk_rock\"… │\n│ Electronic ┆ [\"rock\", \"japanese\"]              │\n└────────────┴───────────────────────────────────┘",
      "text/html": "<div><style>\n.dataframe > thead > tr > th,\n.dataframe > tbody > tr > td {\n  text-align: right;\n}\n</style>\n<small>shape: (11_715, 2)</small><table border=\"1\" class=\"dataframe\"><thead><tr><th>genre</th><th>tags</th></tr><tr><td>str</td><td>list[str]</td></tr></thead><tbody><tr><td>&quot;RnB&quot;</td><td>[&quot;rock&quot;, &quot;alternative&quot;, … &quot;grunge&quot;]</td></tr><tr><td>&quot;RnB&quot;</td><td>[&quot;rock&quot;, &quot;alternative&quot;, … &quot;britpop&quot;]</td></tr><tr><td>&quot;Pop&quot;</td><td>[&quot;rock&quot;, &quot;alternative&quot;, … &quot;funk&quot;]</td></tr><tr><td>&quot;RnB&quot;</td><td>[&quot;rock&quot;, &quot;electronic&quot;, … &quot;trip_hop&quot;]</td></tr><tr><td>&quot;Electronic&quot;</td><td>[&quot;rock&quot;, &quot;alternative&quot;, … &quot;indie_rock&quot;]</td></tr><tr><td>&quot;Jazz&quot;</td><td>[&quot;rock&quot;, &quot;electronic&quot;, … &quot;britpop&quot;]</td></tr><tr><td>&quot;Punk&quot;</td><td>[&quot;rock&quot;, &quot;classic_rock&quot;, … &quot;70s&quot;]</td></tr><tr><td>&quot;Punk&quot;</td><td>[&quot;rock&quot;, &quot;alternative&quot;, … &quot;grunge&quot;]</td></tr><tr><td>&quot;Electronic&quot;</td><td>[&quot;rock&quot;, &quot;alternative&quot;, … &quot;funk&quot;]</td></tr><tr><td>&quot;RnB&quot;</td><td>[&quot;rock&quot;, &quot;alternative&quot;, … &quot;pop_rock&quot;]</td></tr><tr><td>&quot;Pop&quot;</td><td>[&quot;rock&quot;, &quot;classic_rock&quot;, … &quot;70s&quot;]</td></tr><tr><td>&quot;Pop&quot;</td><td>[&quot;rock&quot;, &quot;alternative&quot;, … &quot;britpop&quot;]</td></tr><tr><td>&hellip;</td><td>&hellip;</td></tr><tr><td>&quot;Metal&quot;</td><td>[&quot;progressive_metal&quot;]</td></tr><tr><td>&quot;Jazz&quot;</td><td>[&quot;black_metal&quot;]</td></tr><tr><td>&quot;Rock&quot;</td><td>[&quot;metalcore&quot;]</td></tr><tr><td>&quot;Metal&quot;</td><td>[&quot;thrash_metal&quot;]</td></tr><tr><td>&quot;Metal&quot;</td><td>[&quot;thrash_metal&quot;]</td></tr><tr><td>&quot;Electronic&quot;</td><td>[&quot;rock&quot;, &quot;japanese&quot;]</td></tr><tr><td>&quot;Rock&quot;</td><td>[&quot;japanese&quot;]</td></tr><tr><td>&quot;Pop&quot;</td><td>[&quot;japanese&quot;]</td></tr><tr><td>&quot;Rock&quot;</td><td>[&quot;alternative&quot;, &quot;alternative_rock&quot;, &quot;japanese&quot;]</td></tr><tr><td>&quot;Rock&quot;</td><td>[&quot;electronic&quot;, &quot;japanese&quot;]</td></tr><tr><td>&quot;Rock&quot;</td><td>[&quot;alternative_rock&quot;, &quot;punk_rock&quot;]</td></tr><tr><td>&quot;Electronic&quot;</td><td>[&quot;rock&quot;, &quot;japanese&quot;]</td></tr></tbody></table></div>"
     },
     "execution_count": 188,
     "metadata": {},
     "output_type": "execute_result"
    }
   ],
   "source": [
    "tracks_lf.drop_nulls().select([\n",
    "    pl.col('genre'),\n",
    "    pl.col('tags')\n",
    "]).filter(genre_is_tag().is_not()).collect()"
   ],
   "metadata": {
    "collapsed": false,
    "pycharm": {
     "name": "#%%\n"
    }
   }
  },
  {
   "cell_type": "code",
   "execution_count": 198,
   "outputs": [
    {
     "data": {
      "text/plain": "shape: (101, 1)\n┌─────────────────────┐\n│ tags                │\n│ ---                 │\n│ struct[2]           │\n╞═════════════════════╡\n│ {\"synthpop\",1216}   │\n│ {\"jazz\",1934}       │\n│ {\"doom_metal\",1103} │\n│ {\"00s\",1779}        │\n│ …                   │\n│ {\"new_age\",966}     │\n│ {\"ambient\",2561}    │\n│ {\"russian\",127}     │\n│ {\"japanese\",489}    │\n└─────────────────────┘",
      "text/html": "<div><style>\n.dataframe > thead > tr > th,\n.dataframe > tbody > tr > td {\n  text-align: right;\n}\n</style>\n<small>shape: (101, 1)</small><table border=\"1\" class=\"dataframe\"><thead><tr><th>tags</th></tr><tr><td>struct[2]</td></tr></thead><tbody><tr><td>{&quot;synthpop&quot;,1216}</td></tr><tr><td>{&quot;jazz&quot;,1934}</td></tr><tr><td>{&quot;doom_metal&quot;,1103}</td></tr><tr><td>{&quot;00s&quot;,1779}</td></tr><tr><td>{&quot;female_vocalists&quot;,4517}</td></tr><tr><td>{&quot;trip_hop&quot;,1617}</td></tr><tr><td>{&quot;french&quot;,1018}</td></tr><tr><td>{&quot;rnb&quot;,1238}</td></tr><tr><td>{&quot;downtempo&quot;,1650}</td></tr><tr><td>{&quot;beautiful&quot;,1825}</td></tr><tr><td>{&quot;hardcore&quot;,1806}</td></tr><tr><td>{&quot;folk&quot;,2530}</td></tr><tr><td>&hellip;</td></tr><tr><td>{&quot;soundtrack&quot;,1328}</td></tr><tr><td>{&quot;piano&quot;,1596}</td></tr><tr><td>{&quot;alternative_rock&quot;,4137}</td></tr><tr><td>{&quot;thrash_metal&quot;,1215}</td></tr><tr><td>{&quot;industrial&quot;,1510}</td></tr><tr><td>{&quot;soul&quot;,1878}</td></tr><tr><td>{&quot;house&quot;,983}</td></tr><tr><td>{&quot;cover&quot;,953}</td></tr><tr><td>{&quot;new_age&quot;,966}</td></tr><tr><td>{&quot;ambient&quot;,2561}</td></tr><tr><td>{&quot;russian&quot;,127}</td></tr><tr><td>{&quot;japanese&quot;,489}</td></tr></tbody></table></div>"
     },
     "execution_count": 198,
     "metadata": {},
     "output_type": "execute_result"
    }
   ],
   "source": [
    "tracks_lf.select(pl.col('tags').explode().value_counts()).collect()"
   ],
   "metadata": {
    "collapsed": false,
    "pycharm": {
     "name": "#%%\n"
    }
   }
  },
  {
   "cell_type": "code",
   "execution_count": null,
   "outputs": [],
   "source": [],
   "metadata": {
    "collapsed": false,
    "pycharm": {
     "name": "#%%\n"
    }
   }
  }
 ],
 "metadata": {
  "kernelspec": {
   "display_name": "Python 3",
   "language": "python",
   "name": "python3"
  },
  "language_info": {
   "codemirror_mode": {
    "name": "ipython",
    "version": 2
   },
   "file_extension": ".py",
   "mimetype": "text/x-python",
   "name": "python",
   "nbconvert_exporter": "python",
   "pygments_lexer": "ipython2",
   "version": "2.7.6"
  }
 },
 "nbformat": 4,
 "nbformat_minor": 0
}